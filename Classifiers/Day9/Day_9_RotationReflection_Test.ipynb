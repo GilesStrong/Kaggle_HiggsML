{
 "cells": [
  {
   "cell_type": "markdown",
   "metadata": {},
   "source": [
    "# Day 9\n",
    "batch size 256 lr 1e-3, normed weighted, non-rotated, cartesian, reflection and rotation augmentation"
   ]
  },
  {
   "cell_type": "markdown",
   "metadata": {},
   "source": [
    "### Import modules"
   ]
  },
  {
   "cell_type": "code",
   "execution_count": 1,
   "metadata": {},
   "outputs": [
    {
     "name": "stderr",
     "output_type": "stream",
     "text": [
      "/home/giles/anaconda2/lib/python2.7/site-packages/h5py/__init__.py:36: FutureWarning: Conversion of the second argument of issubdtype from `float` to `np.floating` is deprecated. In future, it will be treated as `np.float64 == np.dtype(float).type`.\n",
      "  from ._conv import register_converters as _register_converters\n",
      "/home/giles/anaconda2/lib/python2.7/site-packages/statsmodels/compat/pandas.py:56: FutureWarning: The pandas.core.datetools module is deprecated and will be removed in a future version. Please use the pandas.tseries module instead.\n",
      "  from pandas.core import datetools\n",
      "Using TensorFlow backend.\n"
     ]
    }
   ],
   "source": [
    "%matplotlib inline\n",
    "from __future__ import division\n",
    "import sys\n",
    "import os\n",
    "os.environ['MKL_THREADING_LAYER']='GNU'\n",
    "sys.path.append('../')\n",
    "from Modules.Basics import *\n",
    "from Modules.Class_Basics import *"
   ]
  },
  {
   "cell_type": "markdown",
   "metadata": {},
   "source": [
    "## Options"
   ]
  },
  {
   "cell_type": "code",
   "execution_count": 2,
   "metadata": {
    "scrolled": false
   },
   "outputs": [
    {
     "name": "stdout",
     "output_type": "stream",
     "text": [
      "\n",
      "Training on 31 features: ['DER_mass_MMC', 'DER_mass_transverse_met_lep', 'DER_mass_vis', 'DER_pt_h', 'DER_deltaeta_jet_jet', 'DER_mass_jet_jet', 'DER_prodeta_jet_jet', 'DER_deltar_tau_lep', 'DER_pt_tot', 'DER_sum_pt', 'DER_pt_ratio_lep_tau', 'DER_met_phi_centrality', 'DER_lep_eta_centrality', 'PRI_met_pt', 'PRI_met_sumet', 'PRI_jet_num', 'PRI_jet_all_pt', 'PRI_tau_px', 'PRI_tau_py', 'PRI_tau_pz', 'PRI_lep_px', 'PRI_lep_py', 'PRI_lep_pz', 'PRI_jet_leading_px', 'PRI_jet_leading_py', 'PRI_jet_leading_pz', 'PRI_jet_subleading_px', 'PRI_jet_subleading_py', 'PRI_jet_subleading_pz', 'PRI_met_px', 'PRI_met_py']\n"
     ]
    }
   ],
   "source": [
    "classTrainFeatures = ['DER_mass_MMC', 'DER_mass_transverse_met_lep', 'DER_mass_vis', 'DER_pt_h', 'DER_deltaeta_jet_jet', 'DER_mass_jet_jet', 'DER_prodeta_jet_jet', 'DER_deltar_tau_lep', 'DER_pt_tot', 'DER_sum_pt', 'DER_pt_ratio_lep_tau', 'DER_met_phi_centrality', 'DER_lep_eta_centrality', 'PRI_met_pt', 'PRI_met_sumet', 'PRI_jet_num', 'PRI_jet_all_pt', 'PRI_tau_px', 'PRI_tau_py', 'PRI_tau_pz', 'PRI_lep_px', 'PRI_lep_py', 'PRI_lep_pz', 'PRI_jet_leading_px', 'PRI_jet_leading_py', 'PRI_jet_leading_pz', 'PRI_jet_subleading_px', 'PRI_jet_subleading_py', 'PRI_jet_subleading_pz', 'PRI_met_px', 'PRI_met_py']\n",
    "classModel = 'modelSwish'\n",
    "varSet = \"basic_features\"\n",
    "\n",
    "nSplits = 10\n",
    "ensembleSize = 10\n",
    "ensembleMode = 'loss'\n",
    "\n",
    "maxEpochs = 200\n",
    "compileArgs = {'loss':'binary_crossentropy', 'optimizer':'adam'}\n",
    "trainParams = {'epochs' : 1, 'batch_size' : 256, 'verbose' : 0}\n",
    "modelParams = {'version':classModel, 'nIn':len(classTrainFeatures), 'compileArgs':compileArgs, 'mode':'classifier'}\n",
    "\n",
    "print \"\\nTraining on\", len(classTrainFeatures), \"features:\", [var for var in classTrainFeatures]"
   ]
  },
  {
   "cell_type": "markdown",
   "metadata": {},
   "source": [
    "## Import data"
   ]
  },
  {
   "cell_type": "code",
   "execution_count": 3,
   "metadata": {},
   "outputs": [],
   "source": [
    "class RotationReflectionBatch(BatchYielder):\n",
    "    def __init__(self, header, datafile=None, augRotMult=4, trainTimeAug=True, testTimeAug=True):\n",
    "        self.header = header\n",
    "        self.augmented = True\n",
    "        self.augRotMult = augRotMult\n",
    "        self.augMult = self.augRotMult*4\n",
    "        self.trainTimeAug = trainTimeAug\n",
    "        self.testTimeAug = testTimeAug\n",
    "        if not isinstance(datafile, types.NoneType):\n",
    "            self.addSource(datafile)\n",
    "    \n",
    "    @staticmethod\n",
    "    def rotate(inData, vectors):\n",
    "        for vector in vectors:\n",
    "            inData.loc[:, vector + '_px'] = inData.loc[:, vector + '_px']*np.cos(inData.loc[:, 'aug_angle'])-inData.loc[:, vector + '_py']*np.sin(inData.loc[:, 'aug_angle'])\n",
    "            inData.loc[:, vector + '_py'] = inData.loc[:, vector + '_py']*np.cos(inData.loc[:, 'aug_angle'])+inData.loc[:, vector + '_px']*np.sin(inData.loc[:, 'aug_angle'])\n",
    "    \n",
    "    @staticmethod\n",
    "    def reflect(inData, vectors):\n",
    "        for vector in vectors:\n",
    "            for coord in ['_px', '_pz']:\n",
    "                try:\n",
    "                    inData.loc[inData['aug' + coord] == 1, vector + coord] = -inData.loc[inData['aug' + coord] == 1, vector + coord]\n",
    "                except KeyError:\n",
    "                    pass\n",
    "            \n",
    "    def getBatch(self, index, datafile=None):\n",
    "        if isinstance(datafile, types.NoneType):\n",
    "            datafile = self.source\n",
    "            \n",
    "        index = str(index)\n",
    "        weights = None\n",
    "        targets = None\n",
    "        if 'fold_' + index + '/weights' in datafile:\n",
    "            weights = np.array(datafile['fold_' + index + '/weights'])\n",
    "        if 'fold_' + index + '/targets' in datafile:\n",
    "            targets = np.array(datafile['fold_' + index + '/targets'])\n",
    "\n",
    "        inputs = pandas.DataFrame(np.array(datafile['fold_' + index + '/inputs']), columns=self.header)\n",
    "        vectors = [x[:-3] for x in inputs.columns if '_px' in x]\n",
    "        inputs['aug_angle'] = 2*np.pi*np.random.random(size=len(inputs))\n",
    "        for coord in ['_px', '_pz']:\n",
    "            inputs['aug' + coord] = np.random.randint(0, 2, size=len(inputs))\n",
    "        self.rotate(inputs, vectors)\n",
    "        self.reflect(inputs, vectors)\n",
    "        \n",
    "        return {'inputs':inputs[self.header].values,\n",
    "                'targets':targets,\n",
    "                'weights':weights}\n",
    "    \n",
    "    def getTestBatch(self, index, augIndex, datafile=None):\n",
    "        if augIndex >= self.augMult:\n",
    "            print \"Invalid augmentation index passed\", augIndex\n",
    "            return -1\n",
    "        \n",
    "        if isinstance(datafile, types.NoneType):\n",
    "            datafile = self.source\n",
    "            \n",
    "        index = str(index)\n",
    "        weights = None\n",
    "        targets = None\n",
    "        if 'fold_' + index + '/weights' in datafile:\n",
    "            weights = np.array(datafile['fold_' + index + '/weights'])\n",
    "        if 'fold_' + index + '/targets' in datafile:\n",
    "            targets = np.array(datafile['fold_' + index + '/targets'])\n",
    "            \n",
    "        inputs = pandas.DataFrame(np.array(datafile['fold_' + index + '/inputs']), columns=self.header)\n",
    "        rotIndex = augIndex%self.augRotMult\n",
    "        refIndex = '{0:02b}'.format(int(augIndex/4))\n",
    "        vectors = [x[:-3] for x in inputs.columns if '_px' in x]\n",
    "        inputs['aug_angle'] = np.linspace(0, 2*np.pi, (self.augRotMult)+1)[rotIndex]\n",
    "        for i, coord in enumerate(['_px', '_pz']):\n",
    "            inputs['aug' + coord] = int(refIndex[i])\n",
    "        self.rotate(inputs, vectors)\n",
    "        self.reflect(inputs, vectors)\n",
    "\n",
    "        return {'inputs':inputs[self.header].values,\n",
    "                'targets':targets,\n",
    "                'weights':weights}"
   ]
  },
  {
   "cell_type": "code",
   "execution_count": 4,
   "metadata": {},
   "outputs": [],
   "source": [
    "trainData = RotationReflectionBatch(classTrainFeatures, h5py.File(dirLoc + 'train.hdf5', \"r+\"))\n",
    "valData = RotationReflectionBatch(classTrainFeatures, h5py.File(dirLoc + 'val.hdf5', \"r+\"))"
   ]
  },
  {
   "cell_type": "markdown",
   "metadata": {},
   "source": [
    "## Determine LR"
   ]
  },
  {
   "cell_type": "code",
   "execution_count": 59,
   "metadata": {
    "scrolled": false
   },
   "outputs": [
    {
     "name": "stdout",
     "output_type": "stream",
     "text": [
      "2 classes found, running in binary mode\n",
      "\n",
      "\n",
      "______________________________________\n",
      "Training finished\n",
      "Cross-validation took 1.229s \n"
     ]
    },
    {
     "data": {
      "image/png": "[encoded data removed]",
      "text/plain": [
       "<matplotlib.figure.Figure at 0x7f403f2c2e10>"
      ]
     },
     "metadata": {},
     "output_type": "display_data"
    },
    {
     "data": {
      "image/png": "[encoded data removed]",
      "text/plain": [
       "<matplotlib.figure.Figure at 0x7f403c67ba50>"
      ]
     },
     "metadata": {},
     "output_type": "display_data"
    },
    {
     "name": "stdout",
     "output_type": "stream",
     "text": [
      "______________________________________\n",
      "\n"
     ]
    }
   ],
   "source": [
    "lrFinder = batchLRFind(trainData, getModel, modelParams, trainParams,\n",
    "                       lrBounds=[1e-5,1e-1], trainOnWeights=True, verbose=0)"
   ]
  },
  {
   "cell_type": "code",
   "execution_count": 60,
   "metadata": {},
   "outputs": [],
   "source": [
    "compileArgs['lr'] = 1e-3"
   ]
  },
  {
   "cell_type": "markdown",
   "metadata": {},
   "source": [
    "## Train classifier"
   ]
  },
  {
   "cell_type": "code",
   "execution_count": 61,
   "metadata": {
    "scrolled": false
   },
   "outputs": [
    {
     "name": "stdout",
     "output_type": "stream",
     "text": [
      "Using cosine annealing\n",
      "Training using weights\n",
      "Running fold 1 / 10\n",
      "2 classes found, running in binary mode\n",
      "\n",
      "1 New best found: 4.4283700067e-05\n",
      "2 New best found: 3.92413603924e-05\n",
      "3 New best found: 3.8136331588e-05\n",
      "4 New best found: 3.76118607045e-05\n",
      "5 New best found: 3.66991365834e-05\n",
      "6 New best found: 3.65648081643e-05\n",
      "7 New best found: 3.62912261731e-05\n",
      "9 New best found: 3.59634010658e-05\n",
      "10 New best found: 3.57225122846e-05\n",
      "11 New best found: 3.55747691999e-05\n",
      "12 New best found: 3.5280910456e-05\n",
      "13 New best found: 3.50571040309e-05\n",
      "19 New best found: 3.49350544745e-05\n",
      "23 New best found: 3.46378303685e-05\n",
      "25 New best found: 3.45670017287e-05\n",
      "26 New best found: 3.45202360361e-05\n",
      "27 New best found: 3.44955552434e-05\n",
      "28 New best found: 3.44067859261e-05\n",
      "30 New best found: 3.43423835319e-05\n",
      "31 New best found: 3.41905804161e-05\n",
      "42 New best found: 3.41592612905e-05\n",
      "43 New best found: 3.41253441406e-05\n",
      "45 New best found: 3.4043416199e-05\n",
      "48 New best found: 3.39002235063e-05\n",
      "49 New best found: 3.37378706048e-05\n",
      "55 New best found: 3.35575962307e-05\n",
      "86 New best found: 3.35453444042e-05\n",
      "90 New best found: 3.34965594422e-05\n",
      "94 New best found: 3.33789835801e-05\n",
      "104 New best found: 3.33726225666e-05\n",
      "108 New best found: 3.33503362632e-05\n",
      "109 New best found: 3.33254007634e-05\n",
      "111 New best found: 3.33045269244e-05\n",
      "112 New best found: 3.32974908678e-05\n",
      "117 New best found: 3.32546554462e-05\n",
      "189 New best found: 3.32254140366e-05\n",
      "193 New best found: 3.32084549359e-05\n",
      "211 New best found: 3.3169302088e-05\n",
      "229 New best found: 3.3140812012e-05\n",
      "252 New best found: 3.3131680929e-05\n",
      "Early stopping after 511 epochs\n",
      "Score is: {'loss': 3.313168092899132e-05, 'AUC': 0.10558481623740468, 'wAUC': 0.06917449515141916}\n",
      "Fold took 586.824s\n",
      "\n",
      "Running fold 2 / 10\n",
      "1 New best found: 4.40641988037e-05\n",
      "2 New best found: 3.85919655509e-05\n",
      "3 New best found: 3.76858702835e-05\n",
      "4 New best found: 3.73273866538e-05\n",
      "5 New best found: 3.58649793875e-05\n",
      "6 New best found: 3.54874347997e-05\n",
      "9 New best found: 3.50062235877e-05\n",
      "10 New best found: 3.47891850152e-05\n",
      "11 New best found: 3.44296692512e-05\n",
      "12 New best found: 3.40579727663e-05\n",
      "13 New best found: 3.40203939616e-05\n",
      "14 New best found: 3.3898547991e-05\n",
      "19 New best found: 3.37799293813e-05\n",
      "20 New best found: 3.36592758836e-05\n",
      "21 New best found: 3.33121189702e-05\n",
      "24 New best found: 3.31401896009e-05\n",
      "25 New best found: 3.27783118107e-05\n",
      "41 New best found: 3.25776126478e-05\n",
      "45 New best found: 3.23877128691e-05\n",
      "48 New best found: 3.22376268885e-05\n",
      "52 New best found: 3.22124192608e-05\n",
      "53 New best found: 3.21981005717e-05\n",
      "54 New best found: 3.2093124126e-05\n",
      "55 New best found: 3.19547661468e-05\n",
      "61 New best found: 3.19381327853e-05\n",
      "62 New best found: 3.18828146542e-05\n",
      "84 New best found: 3.17257100273e-05\n",
      "88 New best found: 3.16456384304e-05\n",
      "99 New best found: 3.15668962489e-05\n",
      "102 New best found: 3.15228027605e-05\n",
      "106 New best found: 3.15013419037e-05\n",
      "107 New best found: 3.14620545808e-05\n",
      "110 New best found: 3.13663748271e-05\n",
      "114 New best found: 3.13355262236e-05\n",
      "115 New best found: 3.13204265083e-05\n",
      "118 New best found: 3.12696853282e-05\n",
      "124 New best found: 3.12473700475e-05\n",
      "195 New best found: 3.11838865992e-05\n",
      "206 New best found: 3.11717452045e-05\n",
      "212 New best found: 3.11504506546e-05\n",
      "213 New best found: 3.10497171228e-05\n",
      "230 New best found: 3.10374061436e-05\n",
      "232 New best found: 3.10126384875e-05\n",
      "235 New best found: 3.09773216659e-05\n",
      "246 New best found: 3.09567698734e-05\n",
      "Early stopping after 511 epochs\n",
      "Score is: {'loss': 3.095676987339591e-05, 'AUC': 0.09867496471934267, 'wAUC': 0.06084750850300025}\n",
      "Fold took 514.179s\n",
      "\n",
      "Running fold 3 / 10\n",
      "1 New best found: 4.27479567249e-05\n",
      "2 New best found: 3.84722942884e-05\n",
      "3 New best found: 3.74621595759e-05\n",
      "4 New best found: 3.65384583097e-05\n",
      "5 New best found: 3.57791562992e-05\n",
      "6 New best found: 3.57586049915e-05\n",
      "7 New best found: 3.54113534255e-05\n",
      "8 New best found: 3.52165804484e-05\n",
      "10 New best found: 3.47340885328e-05\n",
      "11 New best found: 3.46435036501e-05\n",
      "12 New best found: 3.46269630099e-05\n",
      "13 New best found: 3.41144138916e-05\n",
      "14 New best found: 3.40999097786e-05\n",
      "19 New best found: 3.38296456773e-05\n",
      "22 New best found: 3.38161705121e-05\n",
      "23 New best found: 3.35153338528e-05\n",
      "24 New best found: 3.3479229539e-05\n",
      "25 New best found: 3.34285442113e-05\n",
      "26 New best found: 3.33044492908e-05\n",
      "27 New best found: 3.32746561662e-05\n",
      "28 New best found: 3.32397695733e-05\n",
      "29 New best found: 3.31757198942e-05\n",
      "31 New best found: 3.31568362762e-05\n",
      "43 New best found: 3.31494813846e-05\n",
      "44 New best found: 3.30030247836e-05\n",
      "46 New best found: 3.27716262143e-05\n",
      "48 New best found: 3.2652181579e-05\n",
      "50 New best found: 3.2578100362e-05\n",
      "52 New best found: 3.2479366222e-05\n",
      "59 New best found: 3.23649007042e-05\n",
      "85 New best found: 3.22321643154e-05\n",
      "86 New best found: 3.22196187684e-05\n",
      "91 New best found: 3.22070717271e-05\n",
      "92 New best found: 3.21886290734e-05\n",
      "96 New best found: 3.2145120087e-05\n",
      "97 New best found: 3.21009555378e-05\n",
      "100 New best found: 3.20980822732e-05\n",
      "104 New best found: 3.20876249542e-05\n",
      "106 New best found: 3.19965256272e-05\n",
      "112 New best found: 3.19764810817e-05\n",
      "113 New best found: 3.19466020759e-05\n",
      "115 New best found: 3.19313915687e-05\n",
      "118 New best found: 3.18809185725e-05\n",
      "123 New best found: 3.18682124592e-05\n",
      "125 New best found: 3.18672818253e-05\n",
      "126 New best found: 3.18336341928e-05\n",
      "179 New best found: 3.17882517955e-05\n",
      "193 New best found: 3.16176781725e-05\n",
      "214 New best found: 3.15502592282e-05\n",
      "217 New best found: 3.15405351638e-05\n",
      "233 New best found: 3.15351260314e-05\n",
      "237 New best found: 3.14975300763e-05\n",
      "238 New best found: 3.14820653815e-05\n",
      "244 New best found: 3.14503619091e-05\n",
      "397 New best found: 3.14337156427e-05\n",
      "433 New best found: 3.14253300951e-05\n",
      "440 New best found: 3.1421543422e-05\n",
      "442 New best found: 3.13988214768e-05\n",
      "451 New best found: 3.13794061425e-05\n",
      "474 New best found: 3.13720274858e-05\n",
      "490 New best found: 3.135979973e-05\n",
      "491 New best found: 3.13339706802e-05\n",
      "499 New best found: 3.12939764671e-05\n",
      "Early stopping after 1023 epochs\n",
      "Score is: {'loss': 3.1293976467134276e-05, 'AUC': 0.09672380632461619, 'wAUC': 0.06169396540547534}\n",
      "Fold took 1062.907s\n",
      "\n",
      "Running fold 4 / 10\n",
      "1 New best found: 4.46185936887e-05\n",
      "2 New best found: 3.95277420054e-05\n",
      "3 New best found: 3.88558724534e-05\n",
      "4 New best found: 3.74330387545e-05\n",
      "5 New best found: 3.66363297436e-05\n",
      "6 New best found: 3.63478534847e-05\n",
      "8 New best found: 3.62547283824e-05\n",
      "9 New best found: 3.60485037066e-05\n",
      "10 New best found: 3.58631517379e-05\n",
      "11 New best found: 3.53741007729e-05\n",
      "13 New best found: 3.50325642923e-05\n",
      "14 New best found: 3.49704933678e-05\n",
      "20 New best found: 3.49687946162e-05\n",
      "21 New best found: 3.4432791624e-05\n",
      "24 New best found: 3.4350184645e-05\n",
      "26 New best found: 3.42813942714e-05\n",
      "27 New best found: 3.41878775653e-05\n",
      "29 New best found: 3.39507508168e-05\n",
      "40 New best found: 3.39393367612e-05\n",
      "47 New best found: 3.36739131158e-05\n",
      "50 New best found: 3.36103378641e-05\n",
      "53 New best found: 3.3595810993e-05\n",
      "54 New best found: 3.3559979605e-05\n",
      "55 New best found: 3.34019889981e-05\n",
      "56 New best found: 3.33271976851e-05\n",
      "87 New best found: 3.32484261797e-05\n",
      "100 New best found: 3.31062032466e-05\n",
      "102 New best found: 3.30540753771e-05\n",
      "104 New best found: 3.3032842391e-05\n",
      "105 New best found: 3.30304987191e-05\n",
      "113 New best found: 3.29733739781e-05\n",
      "114 New best found: 3.29621473393e-05\n",
      "120 New best found: 3.29577505645e-05\n",
      "123 New best found: 3.29277859633e-05\n",
      "124 New best found: 3.29231263204e-05\n",
      "126 New best found: 3.29214451025e-05\n",
      "174 New best found: 3.28536823708e-05\n",
      "195 New best found: 3.28472204844e-05\n",
      "197 New best found: 3.27907744344e-05\n",
      "207 New best found: 3.27581555348e-05\n",
      "209 New best found: 3.27376751143e-05\n",
      "210 New best found: 3.26509772168e-05\n",
      "211 New best found: 3.26485442132e-05\n",
      "220 New best found: 3.26269940006e-05\n",
      "229 New best found: 3.25864039693e-05\n",
      "231 New best found: 3.25750496804e-05\n",
      "238 New best found: 3.25431140631e-05\n",
      "245 New best found: 3.25373181767e-05\n",
      "506 New best found: 3.25325721414e-05\n",
      "Early stopping after 1023 epochs\n",
      "Score is: {'loss': 3.253257214143923e-05, 'AUC': 0.10130804130943893, 'wAUC': 0.06660015174812028}\n",
      "Fold took 1076.831s\n",
      "\n",
      "Running fold 5 / 10\n",
      "1 New best found: 4.39492511281e-05\n",
      "2 New best found: 3.92105227374e-05\n",
      "3 New best found: 3.80431945498e-05\n"
     ]
    },
    {
     "name": "stdout",
     "output_type": "stream",
     "text": [
      "4 New best found: 3.78249177507e-05\n",
      "5 New best found: 3.72683023044e-05\n",
      "6 New best found: 3.61688996482e-05\n",
      "7 New best found: 3.60701958014e-05\n",
      "10 New best found: 3.54168298926e-05\n",
      "12 New best found: 3.53596147216e-05\n",
      "13 New best found: 3.52182623241e-05\n",
      "14 New best found: 3.50269911467e-05\n",
      "15 New best found: 3.4985075895e-05\n",
      "19 New best found: 3.49350209378e-05\n",
      "22 New best found: 3.49247132213e-05\n",
      "24 New best found: 3.45678715887e-05\n",
      "25 New best found: 3.4486316528e-05\n",
      "26 New best found: 3.43957479235e-05\n",
      "28 New best found: 3.42847690958e-05\n",
      "29 New best found: 3.41440662525e-05\n",
      "43 New best found: 3.41228153932e-05\n",
      "46 New best found: 3.40447811393e-05\n",
      "50 New best found: 3.40317527623e-05\n",
      "51 New best found: 3.38597993306e-05\n",
      "52 New best found: 3.3853061916e-05\n",
      "53 New best found: 3.36230488649e-05\n",
      "62 New best found: 3.35380999737e-05\n",
      "91 New best found: 3.35215961606e-05\n",
      "97 New best found: 3.34244194977e-05\n",
      "107 New best found: 3.33789106423e-05\n",
      "109 New best found: 3.33284770153e-05\n",
      "120 New best found: 3.33214010038e-05\n",
      "124 New best found: 3.33139184859e-05\n",
      "186 New best found: 3.31287643757e-05\n",
      "196 New best found: 3.30945215105e-05\n",
      "198 New best found: 3.30358930616e-05\n",
      "233 New best found: 3.29901585311e-05\n",
      "Early stopping after 511 epochs\n",
      "Score is: {'loss': 3.299015853107501e-05, 'AUC': 0.10363688163030016, 'wAUC': 0.06869002867971064}\n",
      "Fold took 565.371s\n",
      "\n",
      "Running fold 6 / 10\n",
      "1 New best found: 4.41987159014e-05\n",
      "2 New best found: 3.86812617267e-05\n",
      "3 New best found: 3.75100211766e-05\n",
      "4 New best found: 3.69288713977e-05\n",
      "5 New best found: 3.60730917364e-05\n",
      "6 New best found: 3.54060173462e-05\n",
      "7 New best found: 3.52156609944e-05\n",
      "9 New best found: 3.4962821257e-05\n",
      "10 New best found: 3.4701287076e-05\n",
      "11 New best found: 3.45806345338e-05\n",
      "12 New best found: 3.43775484556e-05\n",
      "13 New best found: 3.43109865243e-05\n",
      "14 New best found: 3.42498398955e-05\n",
      "15 New best found: 3.42318038744e-05\n",
      "18 New best found: 3.40509770891e-05\n",
      "19 New best found: 3.38609507627e-05\n",
      "20 New best found: 3.38422857978e-05\n",
      "22 New best found: 3.37964019727e-05\n",
      "23 New best found: 3.37251001788e-05\n",
      "24 New best found: 3.36012770724e-05\n",
      "25 New best found: 3.3456030231e-05\n",
      "28 New best found: 3.32539307741e-05\n",
      "29 New best found: 3.32109054899e-05\n",
      "30 New best found: 3.31381531909e-05\n",
      "38 New best found: 3.30962469874e-05\n",
      "45 New best found: 3.30692502822e-05\n",
      "47 New best found: 3.28756446749e-05\n",
      "48 New best found: 3.28322304109e-05\n",
      "50 New best found: 3.27606902228e-05\n",
      "51 New best found: 3.26037359698e-05\n",
      "54 New best found: 3.25656283e-05\n",
      "57 New best found: 3.25599622392e-05\n",
      "58 New best found: 3.25150493629e-05\n",
      "61 New best found: 3.24945595198e-05\n",
      "63 New best found: 3.24131927598e-05\n",
      "93 New best found: 3.23321898888e-05\n",
      "94 New best found: 3.23129093052e-05\n",
      "102 New best found: 3.22708300608e-05\n",
      "104 New best found: 3.20711003289e-05\n",
      "125 New best found: 3.20528212204e-05\n",
      "203 New best found: 3.19909107741e-05\n",
      "222 New best found: 3.19635889771e-05\n",
      "231 New best found: 3.19367521872e-05\n",
      "232 New best found: 3.19326029572e-05\n",
      "241 New best found: 3.1880775348e-05\n",
      "Early stopping after 511 epochs\n",
      "Score is: {'loss': 3.1880775347951126e-05, 'AUC': 0.1004969654262593, 'wAUC': 0.0642096429055824}\n",
      "Fold took 553.458s\n",
      "\n",
      "Running fold 7 / 10\n"
     ]
    },
    {
     "name": "stderr",
     "output_type": "stream",
     "text": [
      "/home/giles/anaconda2/lib/python2.7/site-packages/keras/callbacks.py:120: UserWarning: Method on_batch_end() is slow compared to the batch update (0.129681). Check your callbacks.\n",
      "  % delta_t_median)\n"
     ]
    },
    {
     "name": "stdout",
     "output_type": "stream",
     "text": [
      "1 New best found: 4.40606435463e-05\n",
      "2 New best found: 3.84005385444e-05\n",
      "3 New best found: 3.76965501518e-05\n",
      "4 New best found: 3.70803621779e-05\n",
      "5 New best found: 3.63651102074e-05\n",
      "6 New best found: 3.60091066169e-05\n",
      "7 New best found: 3.58653378862e-05\n",
      "8 New best found: 3.58378071575e-05\n",
      "10 New best found: 3.52014953287e-05\n",
      "11 New best found: 3.51616657668e-05\n",
      "12 New best found: 3.49883006841e-05\n",
      "13 New best found: 3.47389339188e-05\n",
      "14 New best found: 3.45910622362e-05\n",
      "19 New best found: 3.43213896343e-05\n",
      "21 New best found: 3.41892425033e-05\n",
      "23 New best found: 3.40336757722e-05\n",
      "24 New best found: 3.40070555647e-05\n",
      "25 New best found: 3.3874703723e-05\n",
      "27 New best found: 3.36580277821e-05\n",
      "30 New best found: 3.36086892979e-05\n",
      "46 New best found: 3.34169147632e-05\n",
      "48 New best found: 3.31674940274e-05\n",
      "52 New best found: 3.30520318361e-05\n",
      "54 New best found: 3.29674618867e-05\n",
      "59 New best found: 3.29342173864e-05\n",
      "62 New best found: 3.28300252901e-05\n",
      "82 New best found: 3.27918262594e-05\n",
      "90 New best found: 3.2746131194e-05\n",
      "91 New best found: 3.27029659322e-05\n",
      "99 New best found: 3.26558415429e-05\n",
      "104 New best found: 3.2609503557e-05\n",
      "106 New best found: 3.25207654411e-05\n",
      "108 New best found: 3.24685762895e-05\n",
      "115 New best found: 3.24085149523e-05\n",
      "124 New best found: 3.23872115991e-05\n",
      "126 New best found: 3.23770311762e-05\n",
      "127 New best found: 3.23457104845e-05\n",
      "180 New best found: 3.22949976094e-05\n",
      "194 New best found: 3.22838261262e-05\n",
      "199 New best found: 3.21801309826e-05\n",
      "203 New best found: 3.20922890803e-05\n",
      "214 New best found: 3.20796454379e-05\n",
      "220 New best found: 3.20335933783e-05\n",
      "227 New best found: 3.19912836975e-05\n",
      "244 New best found: 3.19872433395e-05\n",
      "250 New best found: 3.19798343717e-05\n",
      "376 New best found: 3.19523048191e-05\n",
      "405 New best found: 3.18569573058e-05\n",
      "Early stopping after 1023 epochs\n",
      "Score is: {'loss': 3.185695730582516e-05, 'AUC': 0.1010126381635541, 'wAUC': 0.06382096241391455}\n",
      "Fold took 1168.940s\n",
      "\n",
      "Running fold 8 / 10\n"
     ]
    },
    {
     "name": "stderr",
     "output_type": "stream",
     "text": [
      "/home/giles/anaconda2/lib/python2.7/site-packages/keras/callbacks.py:120: UserWarning: Method on_batch_end() is slow compared to the batch update (0.128177). Check your callbacks.\n",
      "  % delta_t_median)\n"
     ]
    },
    {
     "name": "stdout",
     "output_type": "stream",
     "text": [
      "1 New best found: 4.41168455071e-05\n",
      "2 New best found: 3.91708477808e-05\n",
      "3 New best found: 3.83888737936e-05\n",
      "4 New best found: 3.64945554034e-05\n",
      "5 New best found: 3.56431768672e-05\n",
      "6 New best found: 3.51131555634e-05\n",
      "8 New best found: 3.48386571807e-05\n",
      "9 New best found: 3.47682959727e-05\n",
      "10 New best found: 3.44097060954e-05\n",
      "12 New best found: 3.39111699338e-05\n",
      "13 New best found: 3.38612272346e-05\n",
      "14 New best found: 3.38606114505e-05\n",
      "20 New best found: 3.36100679068e-05\n",
      "21 New best found: 3.33670443615e-05\n",
      "22 New best found: 3.30803365303e-05\n",
      "26 New best found: 3.30362210276e-05\n",
      "27 New best found: 3.30175006004e-05\n",
      "28 New best found: 3.30018611972e-05\n",
      "29 New best found: 3.29403628951e-05\n",
      "31 New best found: 3.27798041403e-05\n",
      "38 New best found: 3.26895766765e-05\n",
      "41 New best found: 3.25936160646e-05\n",
      "47 New best found: 3.2497093512e-05\n",
      "48 New best found: 3.24532141198e-05\n",
      "49 New best found: 3.24524255485e-05\n",
      "50 New best found: 3.23490997677e-05\n",
      "51 New best found: 3.2338616847e-05\n",
      "52 New best found: 3.22801909445e-05\n",
      "55 New best found: 3.22394458122e-05\n",
      "58 New best found: 3.22116244826e-05\n",
      "59 New best found: 3.21541606554e-05\n",
      "90 New best found: 3.20840048267e-05\n",
      "92 New best found: 3.2019227846e-05\n",
      "101 New best found: 3.18432228593e-05\n",
      "103 New best found: 3.17776107832e-05\n",
      "111 New best found: 3.17406659001e-05\n",
      "113 New best found: 3.1708936302e-05\n",
      "119 New best found: 3.16994954393e-05\n",
      "121 New best found: 3.16787531172e-05\n",
      "126 New best found: 3.16617289654e-05\n",
      "193 New best found: 3.15847545142e-05\n",
      "199 New best found: 3.15560176994e-05\n",
      "212 New best found: 3.1496309983e-05\n",
      "220 New best found: 3.14546915341e-05\n",
      "229 New best found: 3.14426074863e-05\n",
      "235 New best found: 3.14047986084e-05\n",
      "Early stopping after 511 epochs\n",
      "Score is: {'loss': 3.1404798608397036e-05, 'AUC': 0.10129692023598191, 'wAUC': 0.06270963369289884}\n",
      "Fold took 582.333s\n",
      "\n",
      "Running fold 9 / 10\n"
     ]
    },
    {
     "name": "stderr",
     "output_type": "stream",
     "text": [
      "/home/giles/anaconda2/lib/python2.7/site-packages/keras/callbacks.py:120: UserWarning: Method on_batch_end() is slow compared to the batch update (0.136126). Check your callbacks.\n",
      "  % delta_t_median)\n"
     ]
    },
    {
     "name": "stdout",
     "output_type": "stream",
     "text": [
      "1 New best found: 4.43912757889e-05\n",
      "2 New best found: 3.88398694861e-05\n",
      "3 New best found: 3.79579128561e-05\n",
      "4 New best found: 3.67962338987e-05\n",
      "5 New best found: 3.60033894353e-05\n",
      "6 New best found: 3.53088962593e-05\n",
      "9 New best found: 3.51543479349e-05\n",
      "10 New best found: 3.45748835007e-05\n",
      "12 New best found: 3.43029961745e-05\n",
      "13 New best found: 3.42112397691e-05\n",
      "14 New best found: 3.41679679589e-05\n",
      "19 New best found: 3.38437711344e-05\n",
      "23 New best found: 3.38073869167e-05\n",
      "24 New best found: 3.35271745171e-05\n",
      "25 New best found: 3.33812462663e-05\n",
      "26 New best found: 3.31937563009e-05\n",
      "29 New best found: 3.3119485174e-05\n",
      "40 New best found: 3.30871682153e-05\n",
      "42 New best found: 3.30608952394e-05\n",
      "43 New best found: 3.30269069989e-05\n",
      "48 New best found: 3.28153097026e-05\n",
      "51 New best found: 3.26616056531e-05\n",
      "53 New best found: 3.26172652502e-05\n",
      "55 New best found: 3.25306738952e-05\n",
      "58 New best found: 3.23576839601e-05\n",
      "89 New best found: 3.23347572812e-05\n",
      "92 New best found: 3.22972809614e-05\n",
      "94 New best found: 3.22723412502e-05\n",
      "97 New best found: 3.22226811719e-05\n",
      "98 New best found: 3.20166346868e-05\n",
      "102 New best found: 3.19719273978e-05\n",
      "107 New best found: 3.19704430952e-05\n",
      "110 New best found: 3.19495329515e-05\n",
      "116 New best found: 3.19299635132e-05\n",
      "117 New best found: 3.18668133271e-05\n",
      "170 New best found: 3.18256976537e-05\n",
      "188 New best found: 3.18137015039e-05\n",
      "193 New best found: 3.1757131834e-05\n",
      "206 New best found: 3.17279733766e-05\n",
      "207 New best found: 3.17237793944e-05\n",
      "211 New best found: 3.16462815799e-05\n",
      "224 New best found: 3.16330290047e-05\n",
      "229 New best found: 3.16244469364e-05\n",
      "238 New best found: 3.16227344512e-05\n",
      "243 New best found: 3.16054671179e-05\n",
      "249 New best found: 3.15481880074e-05\n",
      "Early stopping after 511 epochs\n",
      "Score is: {'loss': 3.154818800737811e-05, 'AUC': 0.09860787891495248, 'wAUC': 0.062341969215327864}\n",
      "Fold took 595.732s\n",
      "\n",
      "Running fold 10 / 10\n"
     ]
    },
    {
     "name": "stderr",
     "output_type": "stream",
     "text": [
      "/home/giles/anaconda2/lib/python2.7/site-packages/keras/callbacks.py:120: UserWarning: Method on_batch_end() is slow compared to the batch update (0.171021). Check your callbacks.\n",
      "  % delta_t_median)\n"
     ]
    },
    {
     "name": "stdout",
     "output_type": "stream",
     "text": [
      "1 New best found: 4.35155379774e-05\n",
      "2 New best found: 3.81343497366e-05\n",
      "3 New best found: 3.75404082714e-05\n",
      "4 New best found: 3.72067745129e-05\n",
      "5 New best found: 3.58766189231e-05\n",
      "6 New best found: 3.5507864448e-05\n",
      "7 New best found: 3.54384494403e-05\n",
      "8 New best found: 3.54099132484e-05\n",
      "9 New best found: 3.49525738738e-05\n",
      "10 New best found: 3.48658861892e-05\n",
      "11 New best found: 3.4535128999e-05\n",
      "12 New best found: 3.41997834449e-05\n",
      "13 New best found: 3.41163888823e-05\n",
      "14 New best found: 3.40471682083e-05\n",
      "19 New best found: 3.39979744687e-05\n",
      "20 New best found: 3.38368670931e-05\n",
      "21 New best found: 3.37008347279e-05\n",
      "23 New best found: 3.36595070192e-05\n",
      "24 New best found: 3.35965095694e-05\n",
      "25 New best found: 3.34811838801e-05\n",
      "27 New best found: 3.33689498549e-05\n",
      "28 New best found: 3.32468298639e-05\n",
      "30 New best found: 3.31919016038e-05\n",
      "31 New best found: 3.31782364744e-05\n",
      "42 New best found: 3.30964749138e-05\n",
      "44 New best found: 3.30656929955e-05\n",
      "46 New best found: 3.28010133084e-05\n",
      "49 New best found: 3.27304622315e-05\n",
      "53 New best found: 3.25787104309e-05\n",
      "58 New best found: 3.25621435996e-05\n",
      "60 New best found: 3.2493348732e-05\n",
      "91 New best found: 3.2424354896e-05\n",
      "92 New best found: 3.2379227084e-05\n",
      "97 New best found: 3.22886557557e-05\n",
      "98 New best found: 3.21142104911e-05\n",
      "107 New best found: 3.20639741963e-05\n",
      "115 New best found: 3.2045021498e-05\n",
      "117 New best found: 3.20326827649e-05\n",
      "120 New best found: 3.19865552224e-05\n",
      "122 New best found: 3.19516627585e-05\n",
      "187 New best found: 3.19019746058e-05\n",
      "195 New best found: 3.18962504148e-05\n",
      "203 New best found: 3.18911045251e-05\n",
      "209 New best found: 3.1882314044e-05\n",
      "212 New best found: 3.18743595265e-05\n",
      "213 New best found: 3.18286667891e-05\n",
      "216 New best found: 3.17808059531e-05\n",
      "221 New best found: 3.17220935474e-05\n",
      "223 New best found: 3.16531054727e-05\n",
      "245 New best found: 3.16524047245e-05\n",
      "249 New best found: 3.16330507312e-05\n",
      "Early stopping after 511 epochs\n",
      "Score is: {'loss': 3.1633050731225454e-05, 'AUC': 0.09805709669423135, 'wAUC': 0.06326157821255962}\n",
      "Fold took 673.984s\n",
      "\n",
      "\n",
      "______________________________________\n",
      "Training finished\n",
      "Cross-validation took 7381.654s \n"
     ]
    },
    {
     "data": {
      "image/png": "[encoded data removed]",
      "text/plain": [
       "<matplotlib.figure.Figure at 0x7f4000d76e10>"
      ]
     },
     "metadata": {},
     "output_type": "display_data"
    },
    {
     "name": "stdout",
     "output_type": "stream",
     "text": [
      "Mean wAUC = 0.0643 +- 0.0009\n",
      "______________________________________\n",
      "\n"
     ]
    },
    {
     "data": {
      "text/plain": [
       "<matplotlib.figure.Figure at 0x7f403c629550>"
      ]
     },
     "metadata": {},
     "output_type": "display_data"
    }
   ],
   "source": [
    "results, histories = batchTrainClassifier(trainData, nSplits, getModel, modelParams, trainParams,\n",
    "                                          patience=2, cosAnnealMult=2, trainOnWeights=True,\n",
    "                                          maxEpochs=maxEpochs, verbose=1)"
   ]
  },
  {
   "cell_type": "markdown",
   "metadata": {},
   "source": [
    "## Construct ensemble"
   ]
  },
  {
   "cell_type": "code",
   "execution_count": 62,
   "metadata": {},
   "outputs": [],
   "source": [
    "with open('train_weights/resultsFile.pkl', 'r') as fin:   \n",
    "    results = pickle.load(fin)"
   ]
  },
  {
   "cell_type": "code",
   "execution_count": 63,
   "metadata": {},
   "outputs": [
    {
     "name": "stdout",
     "output_type": "stream",
     "text": [
      "Choosing ensemble by loss\n",
      "Model 0 is 1 with loss = 3.095676987339591e-05\n",
      "Model 1 is 2 with loss = 3.1293976467134276e-05\n",
      "Model 2 is 7 with loss = 3.1404798608397036e-05\n",
      "Model 3 is 8 with loss = 3.154818800737811e-05\n",
      "Model 4 is 9 with loss = 3.1633050731225454e-05\n",
      "Model 5 is 6 with loss = 3.185695730582516e-05\n",
      "Model 6 is 5 with loss = 3.1880775347951126e-05\n",
      "Model 7 is 3 with loss = 3.253257214143923e-05\n",
      "Model 8 is 4 with loss = 3.299015853107501e-05\n",
      "Model 9 is 0 with loss = 3.313168092899132e-05\n"
     ]
    }
   ],
   "source": [
    "ensemble, weights = assembleEnsemble(results, ensembleSize, ensembleMode, compileArgs)"
   ]
  },
  {
   "cell_type": "code",
   "execution_count": 75,
   "metadata": {},
   "outputs": [
    {
     "data": {
      "text/plain": [
       "3.1922892794281264e-05"
      ]
     },
     "execution_count": 75,
     "metadata": {},
     "output_type": "execute_result"
    }
   ],
   "source": [
    "np.mean([3.095676987339591e-05,\n",
    "3.1293976467134276e-05,\n",
    "3.1404798608397036e-05,\n",
    "3.154818800737811e-05,\n",
    "3.1633050731225454e-05,\n",
    "3.185695730582516e-05,\n",
    "3.1880775347951126e-05,\n",
    "3.253257214143923e-05,\n",
    "3.299015853107501e-05,\n",
    "3.313168092899132e-05])"
   ]
  },
  {
   "cell_type": "markdown",
   "metadata": {},
   "source": [
    "## Response on development data"
   ]
  },
  {
   "cell_type": "code",
   "execution_count": null,
   "metadata": {},
   "outputs": [],
   "source": [
    "def batchEnsemblePredict(ensemble, weights, data, predName='pred', nOut=1, outputPipe=None, ensembleSize=None, nFolds=-1, verbose=False):\n",
    "    if isinstance(ensembleSize, types.NoneType):\n",
    "        ensembleSize = len(ensemble)\n",
    "\n",
    "    if not isinstance(data, BatchYielder):\n",
    "        data = BatchYielder(data)\n",
    "\n",
    "    if nFolds < 0:\n",
    "        nFolds = len(data.source)\n",
    "\n",
    "    for fold in range(nFolds):\n",
    "        if verbose:\n",
    "            print 'Predicting batch {} out of {}'.format(fold+1, nFolds)\n",
    "            start = timeit.default_timer()\n",
    "\n",
    "        if not data.testTimeAug:\n",
    "            batch = data.getBatch(fold)['inputs']\n",
    "            batchPred = ensemblePredict(batch, ensemble, weights, n=ensembleSize, nOut=nOut, outputPipe=outputPipe)\n",
    "\n",
    "        else:\n",
    "            tmpPred = []\n",
    "            for aug in range(data.augMult):\n",
    "                batch = data.getTestBatch(fold, aug)['inputs']\n",
    "                tmpPred.append(ensemblePredict(batch, ensemble, weights, n=ensembleSize, nOut=nOut, outputPipe=outputPipe))\n",
    "            batchPred = np.mean(tmpPred, axis=0)\n",
    "\n",
    "        if verbose: \n",
    "            print \"Prediction took {}s per sample\\n\".format((timeit.default_timer() - start)/len(batch))\n",
    "\n",
    "        if nOut > 1:\n",
    "            saveBatchPred(batchPred, 'fold_' + str(fold), data.source, predName=predName)\n",
    "        else:\n",
    "            saveBatchPred(batchPred[:,0], 'fold_' + str(fold), data.source, predName=predName)"
   ]
  },
  {
   "cell_type": "code",
   "execution_count": 64,
   "metadata": {
    "scrolled": false
   },
   "outputs": [
    {
     "name": "stdout",
     "output_type": "stream",
     "text": [
      "Predicting batch 1 out of 10\n",
      "Prediction took 0.00405799525421s per sample\n",
      "\n",
      "Predicting batch 2 out of 10\n",
      "Prediction took 0.0034152972365s per sample\n",
      "\n",
      "Predicting batch 3 out of 10\n",
      "Prediction took 0.00345863541879s per sample\n",
      "\n",
      "Predicting batch 4 out of 10\n",
      "Prediction took 0.00340439679623s per sample\n",
      "\n",
      "Predicting batch 5 out of 10\n",
      "Prediction took 0.00421774849892s per sample\n",
      "\n",
      "Predicting batch 6 out of 10\n",
      "Prediction took 0.00450039640665s per sample\n",
      "\n",
      "Predicting batch 7 out of 10\n",
      "Prediction took 0.0040236073494s per sample\n",
      "\n",
      "Predicting batch 8 out of 10\n",
      "Prediction took 0.00422594789159s per sample\n",
      "\n",
      "Predicting batch 9 out of 10\n",
      "Prediction took 0.00408945466776s per sample\n",
      "\n",
      "Predicting batch 10 out of 10\n",
      "Prediction took 0.00401287609604s per sample\n",
      "\n"
     ]
    }
   ],
   "source": [
    "batchEnsemblePredict(ensemble, weights, trainData, ensembleSize=10, verbose=1)"
   ]
  },
  {
   "cell_type": "code",
   "execution_count": 65,
   "metadata": {},
   "outputs": [
    {
     "name": "stdout",
     "output_type": "stream",
     "text": [
      "Training ROC AUC: unweighted 0.90470892887, weighted 0.940243446207\n"
     ]
    }
   ],
   "source": [
    "print 'Training ROC AUC: unweighted {}, weighted {}'.format(roc_auc_score(getFeature('targets', trainData.source), getFeature('pred', trainData.source)),\n",
    "                                                            roc_auc_score(getFeature('targets', trainData.source), getFeature('pred', trainData.source), sample_weight=getFeature('weights', trainData.source)))"
   ]
  },
  {
   "cell_type": "markdown",
   "metadata": {},
   "source": [
    "## Response on val data"
   ]
  },
  {
   "cell_type": "code",
   "execution_count": 66,
   "metadata": {},
   "outputs": [
    {
     "name": "stdout",
     "output_type": "stream",
     "text": [
      "Predicting batch 1 out of 10\n",
      "Prediction took 0.00453998780251s per sample\n",
      "\n",
      "Predicting batch 2 out of 10\n",
      "Prediction took 0.00457681398392s per sample\n",
      "\n",
      "Predicting batch 3 out of 10\n",
      "Prediction took 0.00399153561592s per sample\n",
      "\n",
      "Predicting batch 4 out of 10\n",
      "Prediction took 0.00448601861s per sample\n",
      "\n",
      "Predicting batch 5 out of 10\n",
      "Prediction took 0.00442728681564s per sample\n",
      "\n",
      "Predicting batch 6 out of 10\n",
      "Prediction took 0.00392824983597s per sample\n",
      "\n",
      "Predicting batch 7 out of 10\n",
      "Prediction took 0.00397932682037s per sample\n",
      "\n",
      "Predicting batch 8 out of 10\n",
      "Prediction took 0.00427288718224s per sample\n",
      "\n",
      "Predicting batch 9 out of 10\n",
      "Prediction took 0.00449098000526s per sample\n",
      "\n",
      "Predicting batch 10 out of 10\n",
      "Prediction took 0.00493267941475s per sample\n",
      "\n"
     ]
    }
   ],
   "source": [
    "batchEnsemblePredict(ensemble, weights, valData, ensembleSize=10, verbose=1)"
   ]
  },
  {
   "cell_type": "code",
   "execution_count": 68,
   "metadata": {},
   "outputs": [
    {
     "name": "stdout",
     "output_type": "stream",
     "text": [
      "Testing ROC AUC: unweighted 0.902141847248, weighted 0.935185109925\n"
     ]
    }
   ],
   "source": [
    "print 'Testing ROC AUC: unweighted {}, weighted {}'.format(roc_auc_score(getFeature('targets', valData.source), getFeature('pred', valData.source)),\n",
    "                                                           roc_auc_score(getFeature('targets', valData.source), getFeature('pred', valData.source), sample_weight=getFeature('weights', valData.source)))"
   ]
  },
  {
   "cell_type": "markdown",
   "metadata": {},
   "source": [
    "## Evaluation"
   ]
  },
  {
   "cell_type": "markdown",
   "metadata": {},
   "source": [
    "### Import in dataframe"
   ]
  },
  {
   "cell_type": "code",
   "execution_count": 5,
   "metadata": {},
   "outputs": [
    {
     "name": "stdout",
     "output_type": "stream",
     "text": [
      "50000 candidates loaded\n"
     ]
    }
   ],
   "source": [
    "valframe = convertToDF(valData.source)"
   ]
  },
  {
   "cell_type": "code",
   "execution_count": 6,
   "metadata": {},
   "outputs": [],
   "source": [
    "sigVal = (valframe.gen_target == 1)\n",
    "bkgVal = (valframe.gen_target == 0)"
   ]
  },
  {
   "cell_type": "markdown",
   "metadata": {},
   "source": [
    "### MVA distributions"
   ]
  },
  {
   "cell_type": "code",
   "execution_count": 7,
   "metadata": {
    "scrolled": false
   },
   "outputs": [
    {
     "data": {
      "image/png": "[encoded data removed]",
      "text/plain": [
       "<matplotlib.figure.Figure at 0x7f71e0c67710>"
      ]
     },
     "metadata": {},
     "output_type": "display_data"
    }
   ],
   "source": [
    "getClassPredPlot([valframe[bkgVal], valframe[sigVal]], weightName='gen_weight')"
   ]
  },
  {
   "cell_type": "code",
   "execution_count": 11,
   "metadata": {},
   "outputs": [],
   "source": [
    "wFactor = 250000/50000"
   ]
  },
  {
   "cell_type": "code",
   "execution_count": 13,
   "metadata": {},
   "outputs": [],
   "source": [
    "s = np.sum(valframe.loc[sigVal, 'gen_weight'])\n",
    "b = np.sum(valframe.loc[bkgVal, 'gen_weight'])"
   ]
  },
  {
   "cell_type": "code",
   "execution_count": 14,
   "metadata": {},
   "outputs": [],
   "source": [
    "tIIs = valframe['pred_class'].argsort()"
   ]
  },
  {
   "cell_type": "code",
   "execution_count": 15,
   "metadata": {},
   "outputs": [],
   "source": [
    "amss = np.empty([len(tIIs)])"
   ]
  },
  {
   "cell_type": "code",
   "execution_count": 16,
   "metadata": {},
   "outputs": [],
   "source": []
  },
  {
   "cell_type": "code",
   "execution_count": 21,
   "metadata": {},
   "outputs": [],
   "source": [
    "def amsScanQuick(inData, wFactor=250000./50000.):\n",
    "    s = np.sum(inData.loc[inData['gen_target'] == 1, 'gen_weight'])\n",
    "    b = np.sum(inData.loc[inData['gen_target'] == 0, 'gen_weight'])\n",
    "    tIIs = valframe['pred_class'].argsort()\n",
    "    amss = np.empty([len(tIIs)])\n",
    "    \n",
    "    amsMax = 0\n",
    "    threshold = 0.0\n",
    "\n",
    "    for tI in range(len(tIIs)):\n",
    "        # don't forget to renormalize the weights to the same sum \n",
    "        # as in the complete training set\n",
    "        amss[tI] = AMS(max(0,s * wFactor),max(0,b * wFactor))\n",
    "        if amss[tI] > amsMax:\n",
    "            amsMax = amss[tI]\n",
    "            threshold = inData['pred_class'].values[tIIs[tI]]\n",
    "            #print tI,threshold\n",
    "        if valframe.loc[:, 'gen_target'].values[tIIs[tI]]:\n",
    "            s -= inData.loc[:, 'gen_weight'].values[tIIs[tI]]\n",
    "        else:\n",
    "            b -= inData.loc[:, 'gen_weight'].values[tIIs[tI]]\n",
    "    print amsMax, threshold\n",
    "    return amsMax, threshold"
   ]
  },
  {
   "cell_type": "code",
   "execution_count": 22,
   "metadata": {},
   "outputs": [
    {
     "data": {
      "text/plain": [
       "3.870708332658265"
      ]
     },
     "execution_count": 22,
     "metadata": {},
     "output_type": "execute_result"
    }
   ],
   "source": [
    "amsMax"
   ]
  },
  {
   "cell_type": "code",
   "execution_count": 23,
   "metadata": {},
   "outputs": [
    {
     "data": {
      "text/plain": [
       "0.9643758"
      ]
     },
     "execution_count": 23,
     "metadata": {},
     "output_type": "execute_result"
    }
   ],
   "source": [
    "threshold"
   ]
  },
  {
   "cell_type": "code",
   "execution_count": 72,
   "metadata": {},
   "outputs": [
    {
     "name": "stdout",
     "output_type": "stream",
     "text": [
      "[0.9643757939338684, 1.713268008464502]\n"
     ]
    }
   ],
   "source": [
    "valframe['ams'] = amsScan(valframe)[0]"
   ]
  },
  {
   "cell_type": "code",
   "execution_count": 73,
   "metadata": {
    "scrolled": false
   },
   "outputs": [
    {
     "name": "stdout",
     "output_type": "stream",
     "text": [
      "[0.9862657189369202, 2.163919932778619]\n",
      "Fold 0, best AMS 2.16391993278 at cut of 0.986265718937. Total weights Signal:Bkg. 13.4734592438:8096.18652344\n"
     ]
    },
    {
     "name": "stderr",
     "output_type": "stream",
     "text": [
      "../Modules/Basics.py:63: UserWarning: Boolean Series key will be reindexed to match DataFrame index.\n",
      "  np.sum(inData.iloc[test][inData.gen_target == 1]['gen_weight']),\n",
      "../Modules/Basics.py:64: UserWarning: Boolean Series key will be reindexed to match DataFrame index.\n",
      "  np.sum(inData.iloc[test][inData.gen_target == 0]['gen_weight']))\n"
     ]
    },
    {
     "name": "stdout",
     "output_type": "stream",
     "text": [
      "[0.9709334373474121, 1.869430584275528]\n",
      "Fold 1, best AMS 1.86943058428 at cut of 0.970933437347. Total weights Signal:Bkg. 13.5304965973:8235.09667969\n",
      "[0.9682162404060364, 1.7659903204222163]\n",
      "Fold 2, best AMS 1.76599032042 at cut of 0.968216240406. Total weights Signal:Bkg. 14.3802804947:8213.36523438\n",
      "[0.9682491421699524, 2.4250152743983846]\n",
      "Fold 3, best AMS 2.4250152744 at cut of 0.96824914217. Total weights Signal:Bkg. 13.8617801666:8192.44628906\n",
      "[0.9758813977241516, 2.1841272897017334]\n",
      "Fold 4, best AMS 2.1841272897 at cut of 0.975881397724. Total weights Signal:Bkg. 14.3048419952:8165.33154297\n",
      "[0.8973569273948669, 1.6417366132719813]\n",
      "Fold 5, best AMS 1.64173661327 at cut of 0.897356927395. Total weights Signal:Bkg. 13.9611206055:8101.59375\n",
      "[0.9846431612968445, 1.8082062474868545]\n",
      "Fold 6, best AMS 1.80820624749 at cut of 0.984643161297. Total weights Signal:Bkg. 14.3288793564:8268.97460938\n",
      "[0.9805603623390198, 2.592851348247244]\n",
      "Fold 7, best AMS 2.59285134825 at cut of 0.980560362339. Total weights Signal:Bkg. 13.8698425293:8165.81152344\n",
      "[0.9860536456108093, 1.9941398726922304]\n",
      "Fold 8, best AMS 1.99413987269 at cut of 0.986053645611. Total weights Signal:Bkg. 14.1371936798:8232.50488281\n",
      "[0.9631396532058716, 2.03002142578376]\n",
      "Fold 9, best AMS 2.03002142578 at cut of 0.963139653206. Total weights Signal:Bkg. 13.1035442352:8120.97949219\n",
      "Mean cut 0.9662960151375813 mean AMS 2.0098827913674837\n"
     ]
    }
   ],
   "source": [
    "bests = foldAMSScan(valframe, 10)"
   ]
  },
  {
   "cell_type": "code",
   "execution_count": 87,
   "metadata": {},
   "outputs": [
    {
     "name": "stdout",
     "output_type": "stream",
     "text": [
      "0.9681299686431885\n",
      "0.9662960151375813\n",
      "0.9697595924146831\n",
      "0.9781119217934711\n",
      "0.9574692131271365\n"
     ]
    }
   ],
   "source": [
    "print np.average([x[0] for x in bests])\n",
    "print np.average([x[0] for x in bests], weights=[1/x[1] for x in bests])\n",
    "print np.average([x[0] for x in bests], weights=[x[1] for x in bests])\n",
    "print np.average([x[0] for x in bests], weights=[1.713268008464502-x[1] for x in bests])\n",
    "print np.average([x[0] for x in bests], weights=[1/np.abs(1.713268008464502-x[1]) for x in bests])"
   ]
  },
  {
   "cell_type": "code",
   "execution_count": 116,
   "metadata": {},
   "outputs": [
    {
     "data": {
      "text/plain": [
       "0.956677633523941"
      ]
     },
     "execution_count": 116,
     "metadata": {},
     "output_type": "execute_result"
    }
   ],
   "source": [
    "np.percentile(valframe.loc[:, 'pred_class'], 87)"
   ]
  },
  {
   "cell_type": "code",
   "execution_count": 74,
   "metadata": {
    "scrolled": false
   },
   "outputs": [
    {
     "name": "stdout",
     "output_type": "stream",
     "text": [
      "Predicting batch 1 out of 10\n",
      "Prediction took 0.00406625443805s per sample\n",
      "\n",
      "Predicting batch 2 out of 10\n",
      "Prediction took 0.00418002241742s per sample\n",
      "\n",
      "Predicting batch 3 out of 10\n",
      "Prediction took 0.00361573113095s per sample\n",
      "\n",
      "Predicting batch 4 out of 10\n",
      "Prediction took 0.00383700091189s per sample\n",
      "\n",
      "Predicting batch 5 out of 10\n",
      "Prediction took 0.00347507878217s per sample\n",
      "\n",
      "Predicting batch 6 out of 10\n",
      "Prediction took 0.00343026618091s per sample\n",
      "\n",
      "Predicting batch 7 out of 10\n",
      "Prediction took 0.0037712077791s per sample\n",
      "\n",
      "Predicting batch 8 out of 10\n",
      "Prediction took 0.00347717367519s per sample\n",
      "\n",
      "Predicting batch 9 out of 10\n",
      "Prediction took 0.00359226300066s per sample\n",
      "\n",
      "Predicting batch 10 out of 10\n",
      "Prediction took 0.00361840798205s per sample\n",
      "\n"
     ]
    }
   ],
   "source": [
    "batchEnsemblePredict(ensemble, weights, RotationReflectionBatch(classTrainFeatures, h5py.File(dirLoc + 'testing.hdf5', \"r+\")), ensembleSize=10, verbose=1)"
   ]
  },
  {
   "cell_type": "code",
   "execution_count": 112,
   "metadata": {},
   "outputs": [
    {
     "name": "stdout",
     "output_type": "stream",
     "text": [
      "../Data/Day_9_rr_85p_test.csv\n"
     ]
    }
   ],
   "source": [
    "saveTest(0.9462445050477981, 'Day_9_rr_85p')"
   ]
  },
  {
   "cell_type": "code",
   "execution_count": 113,
   "metadata": {},
   "outputs": [
    {
     "name": "stdout",
     "output_type": "stream",
     "text": [
      "Successfully submitted to Higgs Boson Machine Learning Challenge"
     ]
    }
   ],
   "source": [
    "!kaggle competitions submit -c higgs-boson -f ../Data/Day_9_rr_85p_test.csv -m\"Day_9 Rot Ref 85p\""
   ]
  },
  {
   "cell_type": "code",
   "execution_count": null,
   "metadata": {},
   "outputs": [],
   "source": []
  }
 ],
 "metadata": {
  "kernelspec": {
   "display_name": "Python 2",
   "language": "python",
   "name": "python2"
  },
  "language_info": {
   "codemirror_mode": {
    "name": "ipython",
    "version": 2
   },
   "file_extension": ".py",
   "mimetype": "text/x-python",
   "name": "python",
   "nbconvert_exporter": "python",
   "pygments_lexer": "ipython2",
   "version": "2.7.14"
  }
 },
 "nbformat": 4,
 "nbformat_minor": 1
}
