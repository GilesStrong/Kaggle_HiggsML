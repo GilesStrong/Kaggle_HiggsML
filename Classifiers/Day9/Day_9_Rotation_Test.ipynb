{
 "cells": [
  {
   "cell_type": "markdown",
   "metadata": {},
   "source": [
    "# Day 9\n",
    "batch size 256 lr 1e-3, normed weighted, non-rotated, cartesian, rotation augmentation"
   ]
  },
  {
   "cell_type": "markdown",
   "metadata": {},
   "source": [
    "### Import modules"
   ]
  },
  {
   "cell_type": "code",
   "execution_count": 1,
   "metadata": {},
   "outputs": [
    {
     "name": "stderr",
     "output_type": "stream",
     "text": [
      "/home/giles/anaconda2/lib/python2.7/site-packages/h5py/__init__.py:36: FutureWarning: Conversion of the second argument of issubdtype from `float` to `np.floating` is deprecated. In future, it will be treated as `np.float64 == np.dtype(float).type`.\n",
      "  from ._conv import register_converters as _register_converters\n",
      "/home/giles/anaconda2/lib/python2.7/site-packages/statsmodels/compat/pandas.py:56: FutureWarning: The pandas.core.datetools module is deprecated and will be removed in a future version. Please use the pandas.tseries module instead.\n",
      "  from pandas.core import datetools\n",
      "Using TensorFlow backend.\n"
     ]
    }
   ],
   "source": [
    "%matplotlib inline\n",
    "from __future__ import division\n",
    "import sys\n",
    "import os\n",
    "os.environ['MKL_THREADING_LAYER']='GNU'\n",
    "sys.path.append('../')\n",
    "from Modules.Basics import *\n",
    "from Modules.Class_Basics import *"
   ]
  },
  {
   "cell_type": "markdown",
   "metadata": {},
   "source": [
    "## Options"
   ]
  },
  {
   "cell_type": "code",
   "execution_count": 2,
   "metadata": {
    "scrolled": false
   },
   "outputs": [
    {
     "name": "stdout",
     "output_type": "stream",
     "text": [
      "\n",
      "Training on 31 features: ['DER_mass_MMC', 'DER_mass_transverse_met_lep', 'DER_mass_vis', 'DER_pt_h', 'DER_deltaeta_jet_jet', 'DER_mass_jet_jet', 'DER_prodeta_jet_jet', 'DER_deltar_tau_lep', 'DER_pt_tot', 'DER_sum_pt', 'DER_pt_ratio_lep_tau', 'DER_met_phi_centrality', 'DER_lep_eta_centrality', 'PRI_met_pt', 'PRI_met_sumet', 'PRI_jet_num', 'PRI_jet_all_pt', 'PRI_tau_px', 'PRI_tau_py', 'PRI_tau_pz', 'PRI_lep_px', 'PRI_lep_py', 'PRI_lep_pz', 'PRI_jet_leading_px', 'PRI_jet_leading_py', 'PRI_jet_leading_pz', 'PRI_jet_subleading_px', 'PRI_jet_subleading_py', 'PRI_jet_subleading_pz', 'PRI_met_px', 'PRI_met_py']\n"
     ]
    }
   ],
   "source": [
    "classTrainFeatures = ['DER_mass_MMC', 'DER_mass_transverse_met_lep', 'DER_mass_vis', 'DER_pt_h', 'DER_deltaeta_jet_jet', 'DER_mass_jet_jet', 'DER_prodeta_jet_jet', 'DER_deltar_tau_lep', 'DER_pt_tot', 'DER_sum_pt', 'DER_pt_ratio_lep_tau', 'DER_met_phi_centrality', 'DER_lep_eta_centrality', 'PRI_met_pt', 'PRI_met_sumet', 'PRI_jet_num', 'PRI_jet_all_pt', 'PRI_tau_px', 'PRI_tau_py', 'PRI_tau_pz', 'PRI_lep_px', 'PRI_lep_py', 'PRI_lep_pz', 'PRI_jet_leading_px', 'PRI_jet_leading_py', 'PRI_jet_leading_pz', 'PRI_jet_subleading_px', 'PRI_jet_subleading_py', 'PRI_jet_subleading_pz', 'PRI_met_px', 'PRI_met_py']\n",
    "classModel = 'modelSwish'\n",
    "varSet = \"basic_features\"\n",
    "\n",
    "nSplits = 10\n",
    "ensembleSize = 10\n",
    "ensembleMode = 'loss'\n",
    "\n",
    "maxEpochs = 200\n",
    "compileArgs = {'loss':'binary_crossentropy', 'optimizer':'adam'}\n",
    "trainParams = {'epochs' : 1, 'batch_size' : 256, 'verbose' : 0}\n",
    "modelParams = {'version':classModel, 'nIn':len(classTrainFeatures), 'compileArgs':compileArgs, 'mode':'classifier'}\n",
    "\n",
    "print \"\\nTraining on\", len(classTrainFeatures), \"features:\", [var for var in classTrainFeatures]"
   ]
  },
  {
   "cell_type": "markdown",
   "metadata": {},
   "source": [
    "## Import data"
   ]
  },
  {
   "cell_type": "code",
   "execution_count": 54,
   "metadata": {},
   "outputs": [],
   "source": [
    "class RotationBatch(BatchYielder):\n",
    "    def __init__(self, header, datafile=None, augMult=8, trainTimeAug=True, testTimeAug=True):\n",
    "        self.header = header\n",
    "        self.augmented = True\n",
    "        self.augMult = augMult\n",
    "        self.trainTimeAug = trainTimeAug\n",
    "        self.testTimeAug = testTimeAug\n",
    "        if not isinstance(datafile, types.NoneType):\n",
    "            self.addSource(datafile)\n",
    "    \n",
    "    @staticmethod\n",
    "    def rotate(inData):\n",
    "        vectors = [x[:-3] for x in inData.columns if '_px' in x]\n",
    "        for vector in vectors:\n",
    "            inData.loc[:, vector + '_px'] = inData.loc[:, vector + '_px']*np.cos(inData.loc[:, 'aug_angle'])-inData.loc[:, vector + '_py']*np.sin(inData.loc[:, 'aug_angle'])\n",
    "            inData.loc[:, vector + '_py'] = inData.loc[:, vector + '_py']*np.cos(inData.loc[:, 'aug_angle'])+inData.loc[:, vector + '_px']*np.sin(inData.loc[:, 'aug_angle'])\n",
    "                \n",
    "    def getBatch(self, index, datafile=None):\n",
    "        if isinstance(datafile, types.NoneType):\n",
    "            datafile = self.source\n",
    "            \n",
    "        index = str(index)\n",
    "        weights = None\n",
    "        targets = None\n",
    "        if 'fold_' + index + '/weights' in datafile:\n",
    "            weights = np.array(datafile['fold_' + index + '/weights'])\n",
    "        if 'fold_' + index + '/targets' in datafile:\n",
    "            targets = np.array(datafile['fold_' + index + '/targets'])\n",
    "\n",
    "        inputs = pandas.DataFrame(np.array(datafile['fold_' + index + '/inputs']), columns=self.header)\n",
    "        inputs['aug_angle'] = 2*np.pi*np.random.random(size=len(inputs))\n",
    "        self.rotate(inputs)\n",
    "        \n",
    "        return {'inputs':inputs[self.header].values,\n",
    "                'targets':targets,\n",
    "                'weights':weights}\n",
    "    \n",
    "    def getTestBatch(self, index, augIndex, datafile=None):\n",
    "        if augIndex >= self.augMult:\n",
    "            print \"Invalid augmentation index passed\", augIndex\n",
    "            return -1\n",
    "        \n",
    "        if isinstance(datafile, types.NoneType):\n",
    "            datafile = self.source\n",
    "            \n",
    "        index = str(index)\n",
    "        weights = None\n",
    "        targets = None\n",
    "        if 'fold_' + index + '/weights' in datafile:\n",
    "            weights = np.array(datafile['fold_' + index + '/weights'])\n",
    "        if 'fold_' + index + '/targets' in datafile:\n",
    "            targets = np.array(datafile['fold_' + index + '/targets'])\n",
    "            \n",
    "        inputs = pandas.DataFrame(np.array(datafile['fold_' + index + '/inputs']), columns=self.header)\n",
    "        inputs['aug_angle'] = np.linspace(0, 2*np.pi, self.augMult+1)[augIndex]\n",
    "        self.rotate(inputs)\n",
    "\n",
    "        return {'inputs':inputs[self.header].values,\n",
    "                'targets':targets,\n",
    "                'weights':weights}"
   ]
  },
  {
   "cell_type": "code",
   "execution_count": 55,
   "metadata": {},
   "outputs": [],
   "source": [
    "trainData = RotationBatch(classTrainFeatures, h5py.File(dirLoc + 'train.hdf5', \"r+\"))\n",
    "valData = RotationBatch(classTrainFeatures, h5py.File(dirLoc + 'val.hdf5', \"r+\"))"
   ]
  },
  {
   "cell_type": "markdown",
   "metadata": {},
   "source": [
    "## Determine LR"
   ]
  },
  {
   "cell_type": "code",
   "execution_count": 56,
   "metadata": {
    "scrolled": false
   },
   "outputs": [
    {
     "name": "stdout",
     "output_type": "stream",
     "text": [
      "2 classes found, running in binary mode\n",
      "\n",
      "\n",
      "______________________________________\n",
      "Training finished\n",
      "Cross-validation took 1.217s \n"
     ]
    },
    {
     "data": {
      "image/png": "[encoded data removed]",
      "text/plain": [
       "<matplotlib.figure.Figure at 0x7fcc2065c8d0>"
      ]
     },
     "metadata": {},
     "output_type": "display_data"
    },
    {
     "data": {
      "image/png": "[encoded data removed]",
      "text/plain": [
       "<matplotlib.figure.Figure at 0x7fcc38467f90>"
      ]
     },
     "metadata": {},
     "output_type": "display_data"
    },
    {
     "name": "stdout",
     "output_type": "stream",
     "text": [
      "______________________________________\n",
      "\n"
     ]
    }
   ],
   "source": [
    "lrFinder = batchLRFind(trainData, getModel, modelParams, trainParams,\n",
    "                       lrBounds=[1e-5,1e-1], trainOnWeights=True, verbose=0)"
   ]
  },
  {
   "cell_type": "code",
   "execution_count": 57,
   "metadata": {},
   "outputs": [],
   "source": [
    "compileArgs['lr'] = 1e-3"
   ]
  },
  {
   "cell_type": "markdown",
   "metadata": {},
   "source": [
    "## Train classifier"
   ]
  },
  {
   "cell_type": "code",
   "execution_count": 58,
   "metadata": {
    "scrolled": false
   },
   "outputs": [
    {
     "name": "stdout",
     "output_type": "stream",
     "text": [
      "Using cosine annealing\n",
      "Training using weights\n",
      "Running fold 1 / 10\n",
      "2 classes found, running in binary mode\n",
      "\n",
      "1 New best found: 4.29754867966e-05\n",
      "2 New best found: 3.85145569419e-05\n",
      "3 New best found: 3.76568256623e-05\n",
      "4 New best found: 3.68163553372e-05\n",
      "5 New best found: 3.5860371621e-05\n",
      "9 New best found: 3.58017383734e-05\n",
      "10 New best found: 3.56785181627e-05\n",
      "11 New best found: 3.53387629716e-05\n",
      "12 New best found: 3.53180714834e-05\n",
      "13 New best found: 3.49314922802e-05\n",
      "14 New best found: 3.47756437791e-05\n",
      "15 New best found: 3.47065864062e-05\n",
      "22 New best found: 3.45548240804e-05\n",
      "24 New best found: 3.42157443735e-05\n",
      "26 New best found: 3.42120915972e-05\n",
      "27 New best found: 3.41946419408e-05\n",
      "29 New best found: 3.40534247777e-05\n",
      "30 New best found: 3.40293088698e-05\n",
      "42 New best found: 3.37702820003e-05\n",
      "49 New best found: 3.36225137278e-05\n",
      "51 New best found: 3.35946509182e-05\n",
      "52 New best found: 3.35720093607e-05\n",
      "55 New best found: 3.35436328731e-05\n",
      "56 New best found: 3.35021215772e-05\n",
      "59 New best found: 3.33283943257e-05\n",
      "96 New best found: 3.32750379842e-05\n",
      "99 New best found: 3.32246902776e-05\n",
      "104 New best found: 3.31435649132e-05\n",
      "113 New best found: 3.30254628683e-05\n",
      "203 New best found: 3.30176781067e-05\n",
      "206 New best found: 3.29806765372e-05\n",
      "215 New best found: 3.29766425489e-05\n",
      "233 New best found: 3.29760341267e-05\n",
      "Early stopping after 511 epochs\n",
      "Score is: {'loss': 3.2976034126695485e-05, 'AUC': 0.10458314496770937, 'wAUC': 0.06799365329363893}\n",
      "Fold took 492.728s\n",
      "\n",
      "Running fold 2 / 10\n",
      "1 New best found: 4.23456188265e-05\n",
      "2 New best found: 3.76316286576e-05\n",
      "3 New best found: 3.71092963722e-05\n",
      "4 New best found: 3.617796345e-05\n",
      "5 New best found: 3.55609931641e-05\n",
      "6 New best found: 3.52650711031e-05\n",
      "7 New best found: 3.5089901679e-05\n",
      "9 New best found: 3.48175100852e-05\n",
      "10 New best found: 3.44499016926e-05\n",
      "11 New best found: 3.39883871682e-05\n",
      "13 New best found: 3.37499311069e-05\n",
      "15 New best found: 3.36672485576e-05\n",
      "18 New best found: 3.35714512513e-05\n",
      "20 New best found: 3.35148114469e-05\n",
      "21 New best found: 3.33051628532e-05\n",
      "22 New best found: 3.30888689548e-05\n",
      "23 New best found: 3.30443292738e-05\n",
      "26 New best found: 3.28442018121e-05\n",
      "27 New best found: 3.27054929345e-05\n",
      "28 New best found: 3.26671252257e-05\n",
      "29 New best found: 3.26285165278e-05\n",
      "37 New best found: 3.2536652957e-05\n",
      "42 New best found: 3.25113766737e-05\n",
      "43 New best found: 3.23866933861e-05\n",
      "46 New best found: 3.22051378214e-05\n",
      "49 New best found: 3.21454373761e-05\n",
      "51 New best found: 3.20820466283e-05\n",
      "52 New best found: 3.19943495345e-05\n",
      "55 New best found: 3.189850867e-05\n",
      "57 New best found: 3.1781469486e-05\n",
      "59 New best found: 3.17367875538e-05\n",
      "86 New best found: 3.16546485772e-05\n",
      "97 New best found: 3.16119632595e-05\n",
      "98 New best found: 3.1521011905e-05\n",
      "99 New best found: 3.14693065645e-05\n",
      "102 New best found: 3.14201146531e-05\n",
      "110 New best found: 3.14113554212e-05\n",
      "112 New best found: 3.13944107766e-05\n",
      "113 New best found: 3.1356818215e-05\n",
      "115 New best found: 3.12246639751e-05\n",
      "207 New best found: 3.12188284663e-05\n",
      "211 New best found: 3.12179756636e-05\n",
      "220 New best found: 3.11524058933e-05\n",
      "237 New best found: 3.11285316789e-05\n",
      "242 New best found: 3.11026842456e-05\n",
      "252 New best found: 3.11018617381e-05\n",
      "Early stopping after 511 epochs\n",
      "Score is: {'loss': 3.110186173813499e-05, 'AUC': 0.09884331105876987, 'wAUC': 0.06130147116881335}\n",
      "Fold took 521.716s\n",
      "\n",
      "Running fold 3 / 10\n"
     ]
    },
    {
     "name": "stderr",
     "output_type": "stream",
     "text": [
      "/home/giles/anaconda2/lib/python2.7/site-packages/keras/callbacks.py:120: UserWarning: Method on_batch_end() is slow compared to the batch update (0.216564). Check your callbacks.\n",
      "  % delta_t_median)\n",
      "/home/giles/anaconda2/lib/python2.7/site-packages/keras/callbacks.py:120: UserWarning: Method on_batch_end() is slow compared to the batch update (0.109933). Check your callbacks.\n",
      "  % delta_t_median)\n"
     ]
    },
    {
     "name": "stdout",
     "output_type": "stream",
     "text": [
      "1 New best found: 4.38570213975e-05\n",
      "2 New best found: 3.7550617463e-05\n",
      "3 New best found: 3.69660143413e-05\n",
      "4 New best found: 3.61235871254e-05\n",
      "5 New best found: 3.55024329409e-05\n",
      "6 New best found: 3.52493837619e-05\n",
      "7 New best found: 3.51049191269e-05\n",
      "9 New best found: 3.48751908137e-05\n",
      "10 New best found: 3.44096681404e-05\n",
      "11 New best found: 3.43143648052e-05\n",
      "12 New best found: 3.41443499217e-05\n",
      "13 New best found: 3.40256348642e-05\n",
      "14 New best found: 3.3725714166e-05\n",
      "17 New best found: 3.37239992574e-05\n",
      "21 New best found: 3.35572476398e-05\n",
      "22 New best found: 3.33528483002e-05\n",
      "25 New best found: 3.31404863612e-05\n",
      "26 New best found: 3.31115064934e-05\n",
      "27 New best found: 3.29508193804e-05\n",
      "28 New best found: 3.29141004481e-05\n",
      "31 New best found: 3.28573162178e-05\n",
      "47 New best found: 3.26841252206e-05\n",
      "48 New best found: 3.25296159744e-05\n",
      "51 New best found: 3.25028143823e-05\n",
      "53 New best found: 3.24488256844e-05\n",
      "54 New best found: 3.242901988e-05\n",
      "55 New best found: 3.23413658977e-05\n",
      "57 New best found: 3.229684443e-05\n",
      "60 New best found: 3.22962890327e-05\n",
      "63 New best found: 3.22664980952e-05\n",
      "85 New best found: 3.2221239887e-05\n",
      "87 New best found: 3.2145890113e-05\n",
      "97 New best found: 3.21410847321e-05\n",
      "99 New best found: 3.20746366154e-05\n",
      "104 New best found: 3.20666810332e-05\n",
      "106 New best found: 3.19657649867e-05\n",
      "107 New best found: 3.19330675681e-05\n",
      "109 New best found: 3.19192587588e-05\n",
      "111 New best found: 3.19048714193e-05\n",
      "113 New best found: 3.18927523153e-05\n",
      "114 New best found: 3.1888631237e-05\n",
      "116 New best found: 3.18683647103e-05\n",
      "117 New best found: 3.1844507437e-05\n",
      "119 New best found: 3.17995308272e-05\n",
      "126 New best found: 3.17782885142e-05\n",
      "196 New best found: 3.17194202788e-05\n",
      "198 New best found: 3.16432664514e-05\n",
      "202 New best found: 3.15817770998e-05\n",
      "217 New best found: 3.14915667175e-05\n",
      "Early stopping after 511 epochs\n",
      "Score is: {'loss': 3.149156671751852e-05, 'AUC': 0.09760575057502519, 'wAUC': 0.06269613909474137}\n",
      "Fold took 657.369s\n",
      "\n",
      "Running fold 4 / 10\n"
     ]
    },
    {
     "name": "stderr",
     "output_type": "stream",
     "text": [
      "/home/giles/anaconda2/lib/python2.7/site-packages/keras/callbacks.py:120: UserWarning: Method on_batch_end() is slow compared to the batch update (0.133578). Check your callbacks.\n",
      "  % delta_t_median)\n"
     ]
    },
    {
     "name": "stdout",
     "output_type": "stream",
     "text": [
      "1 New best found: 4.50908902422e-05\n",
      "2 New best found: 4.03960437354e-05\n",
      "3 New best found: 3.9476115259e-05\n",
      "4 New best found: 3.77988865028e-05\n",
      "5 New best found: 3.63785457285e-05\n",
      "6 New best found: 3.62831198068e-05\n",
      "7 New best found: 3.59697197929e-05\n",
      "9 New best found: 3.57984711656e-05\n",
      "10 New best found: 3.54135377418e-05\n",
      "11 New best found: 3.50032524405e-05\n",
      "12 New best found: 3.49457952323e-05\n",
      "13 New best found: 3.4863372514e-05\n",
      "14 New best found: 3.47743702641e-05\n",
      "15 New best found: 3.47363381881e-05\n",
      "18 New best found: 3.46068847855e-05\n",
      "21 New best found: 3.43961249816e-05\n",
      "23 New best found: 3.43846044005e-05\n",
      "24 New best found: 3.43683013113e-05\n",
      "25 New best found: 3.40116336786e-05\n",
      "26 New best found: 3.39496569598e-05\n",
      "28 New best found: 3.38750707727e-05\n",
      "40 New best found: 3.38490506942e-05\n",
      "41 New best found: 3.38214853847e-05\n",
      "43 New best found: 3.37616072571e-05\n",
      "47 New best found: 3.36107553158e-05\n",
      "50 New best found: 3.34729493436e-05\n",
      "51 New best found: 3.34458232535e-05\n",
      "52 New best found: 3.34137033417e-05\n",
      "53 New best found: 3.33361414037e-05\n",
      "57 New best found: 3.32724306875e-05\n",
      "59 New best found: 3.32664029904e-05\n",
      "63 New best found: 3.32003749087e-05\n",
      "89 New best found: 3.30747721012e-05\n",
      "97 New best found: 3.30510465333e-05\n",
      "101 New best found: 3.294592122e-05\n",
      "115 New best found: 3.29040877632e-05\n",
      "116 New best found: 3.28797583997e-05\n",
      "117 New best found: 3.28604811132e-05\n",
      "123 New best found: 3.28506635675e-05\n",
      "124 New best found: 3.28421584417e-05\n",
      "188 New best found: 3.28275363846e-05\n",
      "205 New best found: 3.2733885865e-05\n",
      "216 New best found: 3.27290644692e-05\n",
      "224 New best found: 3.26923515393e-05\n",
      "Early stopping after 511 epochs\n",
      "Score is: {'loss': 3.269235153926564e-05, 'AUC': 0.1016398506329389, 'wAUC': 0.06683579630297032}\n",
      "Fold took 608.690s\n",
      "\n",
      "Running fold 5 / 10\n"
     ]
    },
    {
     "name": "stderr",
     "output_type": "stream",
     "text": [
      "/home/giles/anaconda2/lib/python2.7/site-packages/keras/callbacks.py:120: UserWarning: Method on_batch_end() is slow compared to the batch update (0.124133). Check your callbacks.\n",
      "  % delta_t_median)\n"
     ]
    },
    {
     "name": "stdout",
     "output_type": "stream",
     "text": [
      "1 New best found: 4.25780454396e-05\n",
      "2 New best found: 3.90604196724e-05\n",
      "3 New best found: 3.84550158146e-05\n",
      "5 New best found: 3.68043346175e-05\n",
      "6 New best found: 3.63414815863e-05\n",
      "7 New best found: 3.62873869417e-05\n",
      "9 New best found: 3.61284780072e-05\n",
      "10 New best found: 3.57390489736e-05\n",
      "11 New best found: 3.53898108238e-05\n",
      "12 New best found: 3.53856782662e-05\n",
      "13 New best found: 3.50224971755e-05\n",
      "21 New best found: 3.48718619331e-05\n",
      "22 New best found: 3.48018830433e-05\n",
      "23 New best found: 3.46060238055e-05\n",
      "24 New best found: 3.44755847815e-05\n",
      "25 New best found: 3.43852824243e-05\n",
      "26 New best found: 3.42866042294e-05\n",
      "27 New best found: 3.42387584147e-05\n",
      "28 New best found: 3.41862644914e-05\n",
      "29 New best found: 3.41563506304e-05\n",
      "30 New best found: 3.3990277667e-05\n",
      "43 New best found: 3.39595825947e-05\n",
      "46 New best found: 3.39426649765e-05\n",
      "50 New best found: 3.37696230031e-05\n",
      "52 New best found: 3.37244136855e-05\n",
      "54 New best found: 3.36700411044e-05\n",
      "55 New best found: 3.36329500523e-05\n",
      "58 New best found: 3.35802526775e-05\n",
      "61 New best found: 3.3552291249e-05\n",
      "62 New best found: 3.35204716208e-05\n",
      "94 New best found: 3.34953446213e-05\n",
      "95 New best found: 3.34264651934e-05\n",
      "98 New best found: 3.33622666989e-05\n",
      "104 New best found: 3.33401554338e-05\n",
      "108 New best found: 3.32679274825e-05\n",
      "113 New best found: 3.31708576148e-05\n",
      "121 New best found: 3.31554507038e-05\n",
      "195 New best found: 3.31096191982e-05\n",
      "205 New best found: 3.31004440757e-05\n",
      "214 New best found: 3.29877316554e-05\n",
      "222 New best found: 3.29612347193e-05\n",
      "240 New best found: 3.29571554156e-05\n",
      "254 New best found: 3.29240844411e-05\n",
      "Early stopping after 511 epochs\n",
      "Score is: {'loss': 3.29240844411122e-05, 'AUC': 0.10261419900456314, 'wAUC': 0.06825807144748008}\n",
      "Fold took 514.398s\n",
      "\n",
      "Running fold 6 / 10\n"
     ]
    },
    {
     "name": "stderr",
     "output_type": "stream",
     "text": [
      "/home/giles/anaconda2/lib/python2.7/site-packages/keras/callbacks.py:120: UserWarning: Method on_batch_end() is slow compared to the batch update (0.153421). Check your callbacks.\n",
      "  % delta_t_median)\n"
     ]
    },
    {
     "name": "stdout",
     "output_type": "stream",
     "text": [
      "1 New best found: 4.42954282218e-05\n",
      "2 New best found: 3.89431342654e-05\n",
      "3 New best found: 3.79686009968e-05\n",
      "4 New best found: 3.70737114599e-05\n",
      "5 New best found: 3.59711231956e-05\n",
      "6 New best found: 3.53752395677e-05\n",
      "9 New best found: 3.52781551779e-05\n",
      "10 New best found: 3.5241404559e-05\n",
      "11 New best found: 3.46267548715e-05\n",
      "12 New best found: 3.42404593321e-05\n",
      "13 New best found: 3.41493222712e-05\n",
      "15 New best found: 3.39984424646e-05\n",
      "21 New best found: 3.3799075269e-05\n",
      "22 New best found: 3.36933465063e-05\n",
      "23 New best found: 3.36224875719e-05\n",
      "24 New best found: 3.33821275338e-05\n",
      "25 New best found: 3.33272894227e-05\n",
      "27 New best found: 3.32629403572e-05\n",
      "28 New best found: 3.30967986033e-05\n",
      "31 New best found: 3.30937908798e-05\n",
      "41 New best found: 3.29337095289e-05\n",
      "46 New best found: 3.28045303534e-05\n",
      "48 New best found: 3.27715021226e-05\n",
      "51 New best found: 3.26947767686e-05\n",
      "53 New best found: 3.26350617147e-05\n",
      "54 New best found: 3.25578968433e-05\n",
      "55 New best found: 3.25416820808e-05\n",
      "57 New best found: 3.24886877329e-05\n",
      "60 New best found: 3.24789950423e-05\n",
      "83 New best found: 3.24365835215e-05\n",
      "88 New best found: 3.24114100484e-05\n",
      "90 New best found: 3.2326740578e-05\n",
      "94 New best found: 3.23166265429e-05\n",
      "101 New best found: 3.22728076339e-05\n",
      "105 New best found: 3.22700933562e-05\n",
      "106 New best found: 3.21652896753e-05\n",
      "111 New best found: 3.21178805645e-05\n",
      "112 New best found: 3.21108609675e-05\n",
      "115 New best found: 3.20821601996e-05\n",
      "117 New best found: 3.20788511037e-05\n",
      "118 New best found: 3.20522344697e-05\n",
      "124 New best found: 3.20318854723e-05\n",
      "207 New best found: 3.2010992359e-05\n",
      "219 New best found: 3.19616132162e-05\n",
      "227 New best found: 3.1957021666e-05\n",
      "229 New best found: 3.19428577411e-05\n",
      "245 New best found: 3.19205489824e-05\n",
      "Early stopping after 511 epochs\n",
      "Score is: {'loss': 3.192054898237487e-05, 'AUC': 0.1003237861927162, 'wAUC': 0.06431658668866425}\n",
      "Fold took 578.544s\n",
      "\n",
      "Running fold 7 / 10\n"
     ]
    },
    {
     "name": "stderr",
     "output_type": "stream",
     "text": [
      "/home/giles/anaconda2/lib/python2.7/site-packages/keras/callbacks.py:120: UserWarning: Method on_batch_end() is slow compared to the batch update (0.163782). Check your callbacks.\n",
      "  % delta_t_median)\n"
     ]
    },
    {
     "name": "stdout",
     "output_type": "stream",
     "text": [
      "1 New best found: 4.28845419755e-05\n",
      "2 New best found: 3.80152399356e-05\n",
      "3 New best found: 3.75233745103e-05\n",
      "4 New best found: 3.6521021937e-05\n",
      "5 New best found: 3.58004517888e-05\n",
      "6 New best found: 3.5705701518e-05\n",
      "7 New best found: 3.54250706222e-05\n",
      "10 New best found: 3.53958774076e-05\n",
      "11 New best found: 3.47595006628e-05\n",
      "12 New best found: 3.46463351742e-05\n",
      "13 New best found: 3.43509407221e-05\n",
      "19 New best found: 3.41054822033e-05\n",
      "21 New best found: 3.38689366647e-05\n",
      "23 New best found: 3.36835763947e-05\n",
      "24 New best found: 3.36265161281e-05\n",
      "25 New best found: 3.34576518665e-05\n",
      "30 New best found: 3.34242651884e-05\n",
      "31 New best found: 3.3423743738e-05\n",
      "44 New best found: 3.31589674919e-05\n",
      "46 New best found: 3.30036688871e-05\n",
      "52 New best found: 3.29663119284e-05\n",
      "54 New best found: 3.2874324772e-05\n",
      "57 New best found: 3.28738543568e-05\n",
      "58 New best found: 3.28622405516e-05\n",
      "61 New best found: 3.28586930223e-05\n",
      "62 New best found: 3.2727472559e-05\n",
      "88 New best found: 3.26793720863e-05\n",
      "91 New best found: 3.25451429832e-05\n",
      "96 New best found: 3.25223375202e-05\n",
      "97 New best found: 3.24478285372e-05\n",
      "103 New best found: 3.24415325939e-05\n",
      "106 New best found: 3.23691333414e-05\n",
      "111 New best found: 3.23681726929e-05\n",
      "113 New best found: 3.22900296868e-05\n",
      "122 New best found: 3.22636932641e-05\n",
      "186 New best found: 3.22241640532e-05\n",
      "187 New best found: 3.21406511409e-05\n",
      "204 New best found: 3.21330699016e-05\n",
      "213 New best found: 3.21262904289e-05\n",
      "214 New best found: 3.2105882582e-05\n",
      "223 New best found: 3.2043468565e-05\n",
      "224 New best found: 3.20306904398e-05\n",
      "Early stopping after 511 epochs\n",
      "Score is: {'loss': 3.203069043982587e-05, 'AUC': 0.10130000040870868, 'wAUC': 0.06437662424171808}\n",
      "Fold took 612.412s\n",
      "\n",
      "Running fold 8 / 10\n"
     ]
    },
    {
     "name": "stderr",
     "output_type": "stream",
     "text": [
      "/home/giles/anaconda2/lib/python2.7/site-packages/keras/callbacks.py:120: UserWarning: Method on_batch_end() is slow compared to the batch update (0.551702). Check your callbacks.\n",
      "  % delta_t_median)\n",
      "/home/giles/anaconda2/lib/python2.7/site-packages/keras/callbacks.py:120: UserWarning: Method on_batch_end() is slow compared to the batch update (0.276249). Check your callbacks.\n",
      "  % delta_t_median)\n"
     ]
    },
    {
     "name": "stdout",
     "output_type": "stream",
     "text": [
      "1 New best found: 4.21533023717e-05\n",
      "2 New best found: 3.76816038724e-05\n",
      "3 New best found: 3.66817349266e-05\n",
      "4 New best found: 3.57306785527e-05\n",
      "5 New best found: 3.52555264311e-05\n",
      "6 New best found: 3.49643930635e-05\n",
      "7 New best found: 3.48417486299e-05\n",
      "8 New best found: 3.48246819803e-05\n",
      "9 New best found: 3.44645200478e-05\n",
      "10 New best found: 3.42049719563e-05\n",
      "11 New best found: 3.40989031101e-05\n",
      "12 New best found: 3.40538417102e-05\n",
      "13 New best found: 3.39050345536e-05\n",
      "14 New best found: 3.36925504179e-05\n",
      "21 New best found: 3.36099076088e-05\n",
      "22 New best found: 3.33218462931e-05\n",
      "24 New best found: 3.30357975847e-05\n",
      "25 New best found: 3.2947829368e-05\n",
      "27 New best found: 3.29311295567e-05\n",
      "28 New best found: 3.27999663311e-05\n",
      "29 New best found: 3.27772117298e-05\n",
      "34 New best found: 3.27685089673e-05\n",
      "41 New best found: 3.26786331963e-05\n",
      "45 New best found: 3.26501918594e-05\n",
      "46 New best found: 3.24620490128e-05\n",
      "49 New best found: 3.24430988368e-05\n",
      "51 New best found: 3.23883699895e-05\n",
      "53 New best found: 3.23532495667e-05\n",
      "54 New best found: 3.22777759745e-05\n",
      "55 New best found: 3.2129360307e-05\n",
      "88 New best found: 3.20986087262e-05\n",
      "92 New best found: 3.1872764509e-05\n",
      "102 New best found: 3.18637279434e-05\n",
      "108 New best found: 3.18538671076e-05\n",
      "109 New best found: 3.17733433632e-05\n",
      "116 New best found: 3.17379791883e-05\n",
      "118 New best found: 3.16781230321e-05\n",
      "210 New best found: 3.16757615548e-05\n",
      "243 New best found: 3.16646114939e-05\n",
      "249 New best found: 3.16325387003e-05\n",
      "Early stopping after 511 epochs\n",
      "Score is: {'loss': 3.163253870031559e-05, 'AUC': 0.1006567310152694, 'wAUC': 0.06320593479349601}\n",
      "Fold took 607.434s\n",
      "\n",
      "Running fold 9 / 10\n"
     ]
    },
    {
     "name": "stderr",
     "output_type": "stream",
     "text": [
      "/home/giles/anaconda2/lib/python2.7/site-packages/keras/callbacks.py:120: UserWarning: Method on_batch_end() is slow compared to the batch update (0.196256). Check your callbacks.\n",
      "  % delta_t_median)\n"
     ]
    },
    {
     "name": "stdout",
     "output_type": "stream",
     "text": [
      "1 New best found: 4.31803470061e-05\n",
      "2 New best found: 3.86026483287e-05\n",
      "3 New best found: 3.7397439792e-05\n",
      "4 New best found: 3.61855310618e-05\n",
      "5 New best found: 3.56965385543e-05\n",
      "6 New best found: 3.52226305856e-05\n",
      "9 New best found: 3.51550180871e-05\n",
      "10 New best found: 3.46119792695e-05\n",
      "11 New best found: 3.44670649483e-05\n",
      "12 New best found: 3.42358910717e-05\n",
      "13 New best found: 3.41260793501e-05\n",
      "14 New best found: 3.40432740311e-05\n",
      "19 New best found: 3.38932929513e-05\n",
      "20 New best found: 3.36801970754e-05\n",
      "23 New best found: 3.36136172282e-05\n",
      "24 New best found: 3.32978913109e-05\n",
      "25 New best found: 3.32457150311e-05\n",
      "26 New best found: 3.32205234151e-05\n",
      "27 New best found: 3.29959110492e-05\n",
      "28 New best found: 3.2946024608e-05\n",
      "31 New best found: 3.29419034899e-05\n",
      "40 New best found: 3.28875060812e-05\n",
      "43 New best found: 3.27492983929e-05\n",
      "44 New best found: 3.27073705139e-05\n",
      "47 New best found: 3.26863411755e-05\n",
      "49 New best found: 3.26035360951e-05\n",
      "50 New best found: 3.25774688735e-05\n",
      "51 New best found: 3.22846857604e-05\n",
      "59 New best found: 3.2226154393e-05\n",
      "88 New best found: 3.21807889174e-05\n",
      "90 New best found: 3.2097965483e-05\n",
      "96 New best found: 3.19052209718e-05\n",
      "108 New best found: 3.18683409903e-05\n",
      "109 New best found: 3.18501216521e-05\n",
      "110 New best found: 3.17322227087e-05\n",
      "186 New best found: 3.17282943094e-05\n",
      "204 New best found: 3.17093325737e-05\n",
      "212 New best found: 3.16753450209e-05\n",
      "213 New best found: 3.15874515939e-05\n",
      "226 New best found: 3.15800001447e-05\n",
      "Early stopping after 511 epochs\n",
      "Score is: {'loss': 3.158000014466575e-05, 'AUC': 0.09797510973101387, 'wAUC': 0.06269847656150196}\n",
      "Fold took 618.164s\n",
      "\n",
      "Running fold 10 / 10\n"
     ]
    },
    {
     "name": "stderr",
     "output_type": "stream",
     "text": [
      "/home/giles/anaconda2/lib/python2.7/site-packages/keras/callbacks.py:120: UserWarning: Method on_batch_end() is slow compared to the batch update (0.207284). Check your callbacks.\n",
      "  % delta_t_median)\n",
      "/home/giles/anaconda2/lib/python2.7/site-packages/keras/callbacks.py:120: UserWarning: Method on_batch_end() is slow compared to the batch update (0.104042). Check your callbacks.\n",
      "  % delta_t_median)\n"
     ]
    },
    {
     "name": "stdout",
     "output_type": "stream",
     "text": [
      "1 New best found: 4.29621905086e-05\n",
      "2 New best found: 3.87697760949e-05\n",
      "3 New best found: 3.7942398521e-05\n",
      "4 New best found: 3.64850452398e-05\n",
      "5 New best found: 3.58947056358e-05\n",
      "6 New best found: 3.52824692254e-05\n",
      "7 New best found: 3.52214014899e-05\n",
      "9 New best found: 3.46701566092e-05\n",
      "10 New best found: 3.43446201815e-05\n",
      "11 New best found: 3.42535287377e-05\n",
      "12 New best found: 3.42275012742e-05\n",
      "13 New best found: 3.39526591576e-05\n",
      "20 New best found: 3.39396948909e-05\n",
      "21 New best found: 3.39023145306e-05\n",
      "22 New best found: 3.3744439353e-05\n",
      "24 New best found: 3.35245625242e-05\n",
      "25 New best found: 3.34366678013e-05\n",
      "26 New best found: 3.32490023661e-05\n",
      "29 New best found: 3.31205819294e-05\n",
      "30 New best found: 3.30152148327e-05\n",
      "44 New best found: 3.29382885215e-05\n",
      "46 New best found: 3.27987712408e-05\n",
      "48 New best found: 3.26506096388e-05\n",
      "55 New best found: 3.26084683523e-05\n",
      "56 New best found: 3.25716365111e-05\n",
      "58 New best found: 3.2524656923e-05\n",
      "61 New best found: 3.24342378779e-05\n",
      "88 New best found: 3.22826405861e-05\n",
      "98 New best found: 3.22600706385e-05\n",
      "101 New best found: 3.2168241484e-05\n",
      "102 New best found: 3.21594280146e-05\n",
      "105 New best found: 3.21252117136e-05\n",
      "109 New best found: 3.21202934221e-05\n",
      "114 New best found: 3.2030960272e-05\n",
      "116 New best found: 3.19998014025e-05\n",
      "125 New best found: 3.19872058199e-05\n",
      "170 New best found: 3.195919472e-05\n",
      "182 New best found: 3.19286470531e-05\n",
      "195 New best found: 3.18795797515e-05\n",
      "206 New best found: 3.18559812579e-05\n",
      "215 New best found: 3.1836072988e-05\n",
      "221 New best found: 3.17943586022e-05\n",
      "238 New best found: 3.17807748475e-05\n",
      "241 New best found: 3.16945066368e-05\n",
      "Early stopping after 511 epochs\n",
      "Score is: {'loss': 3.169450663676961e-05, 'AUC': 0.097580559272609, 'wAUC': 0.06372487760472811}\n",
      "Fold took 597.264s\n",
      "\n",
      "\n",
      "______________________________________\n",
      "Training finished\n",
      "Cross-validation took 5810.127s \n"
     ]
    },
    {
     "data": {
      "image/png": "[encoded data removed]",
      "text/plain": [
       "<matplotlib.figure.Figure at 0x7fcc0239b890>"
      ]
     },
     "metadata": {},
     "output_type": "display_data"
    },
    {
     "name": "stdout",
     "output_type": "stream",
     "text": [
      "Mean wAUC = 0.0645 +- 0.0007\n",
      "______________________________________\n",
      "\n"
     ]
    },
    {
     "data": {
      "text/plain": [
       "<matplotlib.figure.Figure at 0x7fcc00cf9510>"
      ]
     },
     "metadata": {},
     "output_type": "display_data"
    }
   ],
   "source": [
    "results, histories = batchTrainClassifier(trainData, nSplits, getModel, modelParams, trainParams,\n",
    "                                          patience=2, cosAnnealMult=2, trainOnWeights=True,\n",
    "                                          maxEpochs=maxEpochs, verbose=1)"
   ]
  },
  {
   "cell_type": "markdown",
   "metadata": {},
   "source": [
    "## Construct ensemble"
   ]
  },
  {
   "cell_type": "code",
   "execution_count": 59,
   "metadata": {},
   "outputs": [],
   "source": [
    "with open('train_weights/resultsFile.pkl', 'r') as fin:   \n",
    "    results = pickle.load(fin)"
   ]
  },
  {
   "cell_type": "code",
   "execution_count": 60,
   "metadata": {},
   "outputs": [
    {
     "name": "stdout",
     "output_type": "stream",
     "text": [
      "Choosing ensemble by loss\n",
      "Model 0 is 1 with loss = 3.110186173813499e-05\n",
      "Model 1 is 2 with loss = 3.149156671751852e-05\n",
      "Model 2 is 8 with loss = 3.158000014466575e-05\n",
      "Model 3 is 7 with loss = 3.163253870031559e-05\n",
      "Model 4 is 9 with loss = 3.169450663676961e-05\n",
      "Model 5 is 5 with loss = 3.192054898237487e-05\n",
      "Model 6 is 6 with loss = 3.203069043982587e-05\n",
      "Model 7 is 3 with loss = 3.269235153926564e-05\n",
      "Model 8 is 4 with loss = 3.29240844411122e-05\n",
      "Model 9 is 0 with loss = 3.2976034126695485e-05\n"
     ]
    }
   ],
   "source": [
    "ensemble, weights = assembleEnsemble(results, ensembleSize, ensembleMode, compileArgs)"
   ]
  },
  {
   "cell_type": "code",
   "execution_count": 62,
   "metadata": {},
   "outputs": [
    {
     "data": {
      "text/plain": [
       "3.2004418346667855e-05"
      ]
     },
     "execution_count": 62,
     "metadata": {},
     "output_type": "execute_result"
    }
   ],
   "source": [
    "np.mean([3.110186173813499e-05,\n",
    "3.149156671751852e-05,\n",
    "3.158000014466575e-05,\n",
    "3.163253870031559e-05,\n",
    "3.169450663676961e-05,\n",
    "3.192054898237487e-05,\n",
    "3.203069043982587e-05,\n",
    "3.269235153926564e-05,\n",
    "3.29240844411122e-05,\n",
    "3.2976034126695485e-05])"
   ]
  },
  {
   "cell_type": "markdown",
   "metadata": {},
   "source": [
    "## Response on development data"
   ]
  },
  {
   "cell_type": "code",
   "execution_count": 63,
   "metadata": {},
   "outputs": [],
   "source": [
    "def batchEnsemblePredict(ensemble, weights, data, predName='pred', nOut=1, outputPipe=None, ensembleSize=None, nFolds=-1, verbose=False):\n",
    "    if isinstance(ensembleSize, types.NoneType):\n",
    "        ensembleSize = len(ensemble)\n",
    "\n",
    "    if not isinstance(data, BatchYielder):\n",
    "        data = BatchYielder(data)\n",
    "\n",
    "    if nFolds < 0:\n",
    "        nFolds = len(data.source)\n",
    "\n",
    "    for fold in range(nFolds):\n",
    "        if verbose:\n",
    "            print 'Predicting batch {} out of {}'.format(fold+1, nFolds)\n",
    "            start = timeit.default_timer()\n",
    "\n",
    "        if not data.testTimeAug:\n",
    "            batch = data.getBatch(fold)['inputs']\n",
    "            batchPred = ensemblePredict(batch, ensemble, weights, n=ensembleSize, nOut=nOut, outputPipe=outputPipe)\n",
    "\n",
    "        else:\n",
    "            tmpPred = []\n",
    "            for aug in range(data.augMult):\n",
    "                batch = data.getTestBatch(fold, aug)['inputs']\n",
    "                tmpPred.append(ensemblePredict(batch, ensemble, weights, n=ensembleSize, nOut=nOut, outputPipe=outputPipe))\n",
    "            batchPred = np.mean(tmpPred, axis=0)\n",
    "\n",
    "        if verbose: \n",
    "            print \"Prediction took {}s per sample\\n\".format((timeit.default_timer() - start)/len(batch))\n",
    "\n",
    "        if nOut > 1:\n",
    "            saveBatchPred(batchPred, 'fold_' + str(fold), data.source, predName=predName)\n",
    "        else:\n",
    "            saveBatchPred(batchPred[:,0], 'fold_' + str(fold), data.source, predName=predName)"
   ]
  },
  {
   "cell_type": "code",
   "execution_count": 66,
   "metadata": {
    "scrolled": false
   },
   "outputs": [
    {
     "name": "stdout",
     "output_type": "stream",
     "text": [
      "Predicting batch 1 out of 10\n",
      "Prediction took 0.00224691946193s per sample\n",
      "\n",
      "Predicting batch 2 out of 10\n",
      "Prediction took 0.00201860967085s per sample\n",
      "\n",
      "Predicting batch 3 out of 10\n",
      "Prediction took 0.00212204734669s per sample\n",
      "\n",
      "Predicting batch 4 out of 10\n",
      "Prediction took 0.00191121860743s per sample\n",
      "\n",
      "Predicting batch 5 out of 10\n",
      "Prediction took 0.00195363324881s per sample\n",
      "\n",
      "Predicting batch 6 out of 10\n",
      "Prediction took 0.00208647555113s per sample\n",
      "\n",
      "Predicting batch 7 out of 10\n",
      "Prediction took 0.00192181780338s per sample\n",
      "\n",
      "Predicting batch 8 out of 10\n",
      "Prediction took 0.00210880243729s per sample\n",
      "\n",
      "Predicting batch 9 out of 10\n",
      "Prediction took 0.00198078389179s per sample\n",
      "\n",
      "Predicting batch 10 out of 10\n",
      "Prediction took 0.00201670068092s per sample\n",
      "\n"
     ]
    }
   ],
   "source": [
    "batchEnsemblePredict(ensemble, weights, trainData, ensembleSize=10, verbose=1)"
   ]
  },
  {
   "cell_type": "code",
   "execution_count": 67,
   "metadata": {},
   "outputs": [
    {
     "name": "stdout",
     "output_type": "stream",
     "text": [
      "Training ROC AUC: unweighted 0.905658896419, weighted 0.940667668454\n"
     ]
    }
   ],
   "source": [
    "print 'Training ROC AUC: unweighted {}, weighted {}'.format(roc_auc_score(getFeature('targets', trainData.source), getFeature('pred', trainData.source)),\n",
    "                                                            roc_auc_score(getFeature('targets', trainData.source), getFeature('pred', trainData.source), sample_weight=getFeature('weights', trainData.source)))"
   ]
  },
  {
   "cell_type": "markdown",
   "metadata": {},
   "source": [
    "## Response on val data"
   ]
  },
  {
   "cell_type": "code",
   "execution_count": 68,
   "metadata": {},
   "outputs": [
    {
     "name": "stdout",
     "output_type": "stream",
     "text": [
      "Predicting batch 1 out of 10\n",
      "Prediction took 0.00231751422882s per sample\n",
      "\n",
      "Predicting batch 2 out of 10\n",
      "Prediction took 0.00258626337051s per sample\n",
      "\n",
      "Predicting batch 3 out of 10\n",
      "Prediction took 0.00233713297844s per sample\n",
      "\n",
      "Predicting batch 4 out of 10\n",
      "Prediction took 0.00208042702675s per sample\n",
      "\n",
      "Predicting batch 5 out of 10\n",
      "Prediction took 0.00252763719559s per sample\n",
      "\n",
      "Predicting batch 6 out of 10\n",
      "Prediction took 0.00224880156517s per sample\n",
      "\n",
      "Predicting batch 7 out of 10\n",
      "Prediction took 0.00202807340622s per sample\n",
      "\n",
      "Predicting batch 8 out of 10\n",
      "Prediction took 0.00200930643082s per sample\n",
      "\n",
      "Predicting batch 9 out of 10\n",
      "Prediction took 0.00241410779953s per sample\n",
      "\n",
      "Predicting batch 10 out of 10\n",
      "Prediction took 0.00431299781799s per sample\n",
      "\n"
     ]
    }
   ],
   "source": [
    "batchEnsemblePredict(ensemble, weights, valData, ensembleSize=10, verbose=1)"
   ]
  },
  {
   "cell_type": "code",
   "execution_count": 69,
   "metadata": {},
   "outputs": [
    {
     "name": "stdout",
     "output_type": "stream",
     "text": [
      "Testing ROC AUC: unweighted 0.902602125367, weighted 0.935080650887\n"
     ]
    }
   ],
   "source": [
    "print 'Testing ROC AUC: unweighted {}, weighted {}'.format(roc_auc_score(getFeature('targets', valData.source), getFeature('pred', valData.source)),\n",
    "                                                           roc_auc_score(getFeature('targets', valData.source), getFeature('pred', valData.source), sample_weight=getFeature('weights', valData.source)))"
   ]
  },
  {
   "cell_type": "markdown",
   "metadata": {},
   "source": [
    "## Evaluation"
   ]
  },
  {
   "cell_type": "markdown",
   "metadata": {},
   "source": [
    "### Import in dataframe"
   ]
  },
  {
   "cell_type": "code",
   "execution_count": 70,
   "metadata": {},
   "outputs": [
    {
     "name": "stdout",
     "output_type": "stream",
     "text": [
      "50000 candidates loaded\n"
     ]
    }
   ],
   "source": [
    "valframe = convertToDF(valData.source)"
   ]
  },
  {
   "cell_type": "code",
   "execution_count": 71,
   "metadata": {},
   "outputs": [],
   "source": [
    "sigVal = (valframe.gen_target == 1)\n",
    "bkgVal = (valframe.gen_target == 0)"
   ]
  },
  {
   "cell_type": "markdown",
   "metadata": {},
   "source": [
    "### MVA distributions"
   ]
  },
  {
   "cell_type": "code",
   "execution_count": 72,
   "metadata": {
    "scrolled": false
   },
   "outputs": [
    {
     "data": {
      "image/png": "[encoded data removed]",
      "text/plain": [
       "<matplotlib.figure.Figure at 0x7fcbf2b92c10>"
      ]
     },
     "metadata": {},
     "output_type": "display_data"
    }
   ],
   "source": [
    "getClassPredPlot([valframe[bkgVal], valframe[sigVal]], weightName='gen_weight')"
   ]
  },
  {
   "cell_type": "code",
   "execution_count": 73,
   "metadata": {},
   "outputs": [
    {
     "name": "stdout",
     "output_type": "stream",
     "text": [
      "[0.962036669254303, 1.715338062853555]\n"
     ]
    }
   ],
   "source": [
    "valframe['ams'] = amsScan(valframe)[0]"
   ]
  },
  {
   "cell_type": "code",
   "execution_count": 74,
   "metadata": {
    "scrolled": false
   },
   "outputs": [
    {
     "name": "stdout",
     "output_type": "stream",
     "text": [
      "[0.9827142357826233, 1.902247710046677]\n",
      "Fold 0, best AMS 1.90224771005 at cut of 0.982714235783. Total weights Signal:Bkg. 14.1793880463:8247.75488281\n"
     ]
    },
    {
     "name": "stderr",
     "output_type": "stream",
     "text": [
      "../Modules/Basics.py:63: UserWarning: Boolean Series key will be reindexed to match DataFrame index.\n",
      "  np.sum(inData.iloc[test][inData.gen_target == 1]['gen_weight']),\n",
      "../Modules/Basics.py:64: UserWarning: Boolean Series key will be reindexed to match DataFrame index.\n",
      "  np.sum(inData.iloc[test][inData.gen_target == 0]['gen_weight']))\n"
     ]
    },
    {
     "name": "stdout",
     "output_type": "stream",
     "text": [
      "[0.9622649550437927, 2.07348513187865]\n",
      "Fold 1, best AMS 2.07348513188 at cut of 0.962264955044. Total weights Signal:Bkg. 13.6036272049:8172.96777344\n",
      "[0.9620826840400696, 1.9042538362196422]\n",
      "Fold 2, best AMS 1.90425383622 at cut of 0.96208268404. Total weights Signal:Bkg. 13.7179203033:8123.82324219\n",
      "[0.9606154561042786, 1.792975205207192]\n",
      "Fold 3, best AMS 1.79297520521 at cut of 0.960615456104. Total weights Signal:Bkg. 13.5145053864:8063.17285156\n",
      "[0.9762563109397888, 2.0260602661207536]\n",
      "Fold 4, best AMS 2.02606026612 at cut of 0.97625631094. Total weights Signal:Bkg. 13.3408737183:8297.80078125\n",
      "[0.9558965563774109, 1.8633130666654862]\n",
      "Fold 5, best AMS 1.86331306667 at cut of 0.955896556377. Total weights Signal:Bkg. 13.9258365631:8187.23144531\n",
      "[0.9499762654304504, 1.869285015501728]\n",
      "Fold 6, best AMS 1.8692850155 at cut of 0.94997626543. Total weights Signal:Bkg. 13.6173152924:8101.94140625\n",
      "[0.9822077751159668, 2.429943345857244]\n",
      "Fold 7, best AMS 2.42994334586 at cut of 0.982207775116. Total weights Signal:Bkg. 14.4066228867:8215.9140625\n",
      "[0.9792032837867737, 1.767667784357873]\n",
      "Fold 8, best AMS 1.76766778436 at cut of 0.979203283787. Total weights Signal:Bkg. 14.3495912552:8227.625\n",
      "[0.9876850247383118, 1.839095634807543]\n",
      "Fold 9, best AMS 1.83909563481 at cut of 0.987685024738. Total weights Signal:Bkg. 14.2957572937:8154.05664062\n",
      "Mean cut 0.9696552109419263 mean AMS 1.9316012406240992\n"
     ]
    }
   ],
   "source": [
    "bests = foldAMSScan(valframe, 10)"
   ]
  },
  {
   "cell_type": "code",
   "execution_count": 76,
   "metadata": {
    "scrolled": false
   },
   "outputs": [
    {
     "name": "stdout",
     "output_type": "stream",
     "text": [
      "Predicting batch 1 out of 10\n",
      "Prediction took 0.00220413945371s per sample\n",
      "\n",
      "Predicting batch 2 out of 10\n",
      "Prediction took 0.00206985276396s per sample\n",
      "\n",
      "Predicting batch 3 out of 10\n",
      "Prediction took 0.00234522937861s per sample\n",
      "\n",
      "Predicting batch 4 out of 10\n",
      "Prediction took 0.00214714870886s per sample\n",
      "\n",
      "Predicting batch 5 out of 10\n",
      "Prediction took 0.00260534796281s per sample\n",
      "\n",
      "Predicting batch 6 out of 10\n",
      "Prediction took 0.00293035368919s per sample\n",
      "\n",
      "Predicting batch 7 out of 10\n",
      "Prediction took 0.00212469470718s per sample\n",
      "\n",
      "Predicting batch 8 out of 10\n",
      "Prediction took 0.00218649663492s per sample\n",
      "\n",
      "Predicting batch 9 out of 10\n",
      "Prediction took 0.00264680543379s per sample\n",
      "\n",
      "Predicting batch 10 out of 10\n",
      "Prediction took 0.00237808450786s per sample\n",
      "\n"
     ]
    }
   ],
   "source": [
    "batchEnsemblePredict(ensemble, weights, RotationBatch(classTrainFeatures, h5py.File(dirLoc + 'testing.hdf5', \"r+\")), ensembleSize=10, verbose=1)"
   ]
  },
  {
   "cell_type": "code",
   "execution_count": 85,
   "metadata": {},
   "outputs": [
    {
     "name": "stdout",
     "output_type": "stream",
     "text": [
      "../Data/Day_9_96_test.csv\n"
     ]
    }
   ],
   "source": [
    "saveTest(0.96, 'Day_9_96')"
   ]
  },
  {
   "cell_type": "code",
   "execution_count": 86,
   "metadata": {},
   "outputs": [
    {
     "name": "stdout",
     "output_type": "stream",
     "text": [
      "Successfully submitted to Higgs Boson Machine Learning Challenge"
     ]
    }
   ],
   "source": [
    "!kaggle competitions submit -c higgs-boson -f ../Data/Day_9_96_test.csv -m\"Day_9 1e-3 96\""
   ]
  },
  {
   "cell_type": "code",
   "execution_count": null,
   "metadata": {},
   "outputs": [],
   "source": []
  }
 ],
 "metadata": {
  "kernelspec": {
   "display_name": "Python 2",
   "language": "python",
   "name": "python2"
  },
  "language_info": {
   "codemirror_mode": {
    "name": "ipython",
    "version": 2
   },
   "file_extension": ".py",
   "mimetype": "text/x-python",
   "name": "python",
   "nbconvert_exporter": "python",
   "pygments_lexer": "ipython2",
   "version": "2.7.14"
  }
 },
 "nbformat": 4,
 "nbformat_minor": 1
}
