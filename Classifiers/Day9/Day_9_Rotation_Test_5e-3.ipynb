{
 "cells": [
  {
   "cell_type": "markdown",
   "metadata": {},
   "source": [
    "# Day 9\n",
    "batch size 256 lr 5e-3, normed weighted, non-rotated, cartesian, rotation augmentation"
   ]
  },
  {
   "cell_type": "markdown",
   "metadata": {},
   "source": [
    "### Import modules"
   ]
  },
  {
   "cell_type": "code",
   "execution_count": 1,
   "metadata": {},
   "outputs": [
    {
     "name": "stderr",
     "output_type": "stream",
     "text": [
      "/home/giles/anaconda2/lib/python2.7/site-packages/h5py/__init__.py:36: FutureWarning: Conversion of the second argument of issubdtype from `float` to `np.floating` is deprecated. In future, it will be treated as `np.float64 == np.dtype(float).type`.\n",
      "  from ._conv import register_converters as _register_converters\n",
      "/home/giles/anaconda2/lib/python2.7/site-packages/statsmodels/compat/pandas.py:56: FutureWarning: The pandas.core.datetools module is deprecated and will be removed in a future version. Please use the pandas.tseries module instead.\n",
      "  from pandas.core import datetools\n",
      "Using TensorFlow backend.\n"
     ]
    }
   ],
   "source": [
    "%matplotlib inline\n",
    "from __future__ import division\n",
    "import sys\n",
    "import os\n",
    "os.environ['MKL_THREADING_LAYER']='GNU'\n",
    "sys.path.append('../')\n",
    "from Modules.Basics import *\n",
    "from Modules.Class_Basics import *"
   ]
  },
  {
   "cell_type": "markdown",
   "metadata": {},
   "source": [
    "## Options"
   ]
  },
  {
   "cell_type": "code",
   "execution_count": 2,
   "metadata": {
    "scrolled": false
   },
   "outputs": [
    {
     "name": "stdout",
     "output_type": "stream",
     "text": [
      "\n",
      "Training on 31 features: ['DER_mass_MMC', 'DER_mass_transverse_met_lep', 'DER_mass_vis', 'DER_pt_h', 'DER_deltaeta_jet_jet', 'DER_mass_jet_jet', 'DER_prodeta_jet_jet', 'DER_deltar_tau_lep', 'DER_pt_tot', 'DER_sum_pt', 'DER_pt_ratio_lep_tau', 'DER_met_phi_centrality', 'DER_lep_eta_centrality', 'PRI_met_pt', 'PRI_met_sumet', 'PRI_jet_num', 'PRI_jet_all_pt', 'PRI_tau_px', 'PRI_tau_py', 'PRI_tau_pz', 'PRI_lep_px', 'PRI_lep_py', 'PRI_lep_pz', 'PRI_jet_leading_px', 'PRI_jet_leading_py', 'PRI_jet_leading_pz', 'PRI_jet_subleading_px', 'PRI_jet_subleading_py', 'PRI_jet_subleading_pz', 'PRI_met_px', 'PRI_met_py']\n"
     ]
    }
   ],
   "source": [
    "classTrainFeatures = ['DER_mass_MMC', 'DER_mass_transverse_met_lep', 'DER_mass_vis', 'DER_pt_h', 'DER_deltaeta_jet_jet', 'DER_mass_jet_jet', 'DER_prodeta_jet_jet', 'DER_deltar_tau_lep', 'DER_pt_tot', 'DER_sum_pt', 'DER_pt_ratio_lep_tau', 'DER_met_phi_centrality', 'DER_lep_eta_centrality', 'PRI_met_pt', 'PRI_met_sumet', 'PRI_jet_num', 'PRI_jet_all_pt', 'PRI_tau_px', 'PRI_tau_py', 'PRI_tau_pz', 'PRI_lep_px', 'PRI_lep_py', 'PRI_lep_pz', 'PRI_jet_leading_px', 'PRI_jet_leading_py', 'PRI_jet_leading_pz', 'PRI_jet_subleading_px', 'PRI_jet_subleading_py', 'PRI_jet_subleading_pz', 'PRI_met_px', 'PRI_met_py']\n",
    "classModel = 'modelSwish'\n",
    "varSet = \"basic_features\"\n",
    "\n",
    "nSplits = 10\n",
    "ensembleSize = 10\n",
    "ensembleMode = 'loss'\n",
    "\n",
    "maxEpochs = 200\n",
    "compileArgs = {'loss':'binary_crossentropy', 'optimizer':'adam'}\n",
    "trainParams = {'epochs' : 1, 'batch_size' : 256, 'verbose' : 0}\n",
    "modelParams = {'version':classModel, 'nIn':len(classTrainFeatures), 'compileArgs':compileArgs, 'mode':'classifier'}\n",
    "\n",
    "print \"\\nTraining on\", len(classTrainFeatures), \"features:\", [var for var in classTrainFeatures]"
   ]
  },
  {
   "cell_type": "markdown",
   "metadata": {},
   "source": [
    "## Import data"
   ]
  },
  {
   "cell_type": "code",
   "execution_count": 3,
   "metadata": {},
   "outputs": [],
   "source": [
    "class RotationBatch(BatchYielder):\n",
    "    def __init__(self, header, datafile=None, augMult=8, trainTimeAug=True, testTimeAug=True):\n",
    "        self.header = header\n",
    "        self.augmented = True\n",
    "        self.augMult = augMult\n",
    "        self.trainTimeAug = trainTimeAug\n",
    "        self.testTimeAug = testTimeAug\n",
    "        if not isinstance(datafile, types.NoneType):\n",
    "            self.addSource(datafile)\n",
    "    \n",
    "    @staticmethod\n",
    "    def rotate(inData):\n",
    "        vectors = [x[:-3] for x in inData.columns if '_px' in x]\n",
    "        for vector in vectors:\n",
    "            inData.loc[:, vector + '_px'] = inData.loc[:, vector + '_px']*np.cos(inData.loc[:, 'aug_angle'])-inData.loc[:, vector + '_py']*np.sin(inData.loc[:, 'aug_angle'])\n",
    "            inData.loc[:, vector + '_py'] = inData.loc[:, vector + '_py']*np.cos(inData.loc[:, 'aug_angle'])+inData.loc[:, vector + '_px']*np.sin(inData.loc[:, 'aug_angle'])\n",
    "                \n",
    "    def getBatch(self, index, datafile=None):\n",
    "        if isinstance(datafile, types.NoneType):\n",
    "            datafile = self.source\n",
    "            \n",
    "        index = str(index)\n",
    "        weights = None\n",
    "        targets = None\n",
    "        if 'fold_' + index + '/weights' in datafile:\n",
    "            weights = np.array(datafile['fold_' + index + '/weights'])\n",
    "        if 'fold_' + index + '/targets' in datafile:\n",
    "            targets = np.array(datafile['fold_' + index + '/targets'])\n",
    "\n",
    "        inputs = pandas.DataFrame(np.array(datafile['fold_' + index + '/inputs']), columns=self.header)\n",
    "        inputs['aug_angle'] = 2*np.pi*np.random.random(size=len(inputs))\n",
    "        self.rotate(inputs)\n",
    "        \n",
    "        return {'inputs':inputs[self.header].values,\n",
    "                'targets':targets,\n",
    "                'weights':weights}\n",
    "    \n",
    "    def getTestBatch(self, index, augIndex, datafile=None):\n",
    "        if augIndex >= self.augMult:\n",
    "            print \"Invalid augmentation index passed\", augIndex\n",
    "            return -1\n",
    "        \n",
    "        if isinstance(datafile, types.NoneType):\n",
    "            datafile = self.source\n",
    "            \n",
    "        index = str(index)\n",
    "        weights = None\n",
    "        targets = None\n",
    "        if 'fold_' + index + '/weights' in datafile:\n",
    "            weights = np.array(datafile['fold_' + index + '/weights'])\n",
    "        if 'fold_' + index + '/targets' in datafile:\n",
    "            targets = np.array(datafile['fold_' + index + '/targets'])\n",
    "            \n",
    "        inputs = pandas.DataFrame(np.array(datafile['fold_' + index + '/inputs']), columns=self.header)\n",
    "        inputs['aug_angle'] = np.linspace(0, 2*np.pi, self.augMult+1)[augIndex]\n",
    "        self.rotate(inputs)\n",
    "\n",
    "        return {'inputs':inputs[self.header].values,\n",
    "                'targets':targets,\n",
    "                'weights':weights}"
   ]
  },
  {
   "cell_type": "code",
   "execution_count": 4,
   "metadata": {},
   "outputs": [],
   "source": [
    "trainData = RotationBatch(classTrainFeatures, h5py.File(dirLoc + 'train.hdf5', \"r+\"))\n",
    "valData = RotationBatch(classTrainFeatures, h5py.File(dirLoc + 'val.hdf5', \"r+\"))"
   ]
  },
  {
   "cell_type": "markdown",
   "metadata": {},
   "source": [
    "## Determine LR"
   ]
  },
  {
   "cell_type": "code",
   "execution_count": 5,
   "metadata": {
    "scrolled": false
   },
   "outputs": [
    {
     "name": "stdout",
     "output_type": "stream",
     "text": [
      "2 classes found, running in binary mode\n",
      "\n",
      "\n",
      "______________________________________\n",
      "Training finished\n",
      "Cross-validation took 1.161s \n"
     ]
    },
    {
     "data": {
      "image/png": "[encoded data removed]",
      "text/plain": [
       "<matplotlib.figure.Figure at 0x7ff5e48ac8d0>"
      ]
     },
     "metadata": {},
     "output_type": "display_data"
    },
    {
     "data": {
      "image/png": "[encoded data removed]",
      "text/plain": [
       "<matplotlib.figure.Figure at 0x7ff5d066e210>"
      ]
     },
     "metadata": {},
     "output_type": "display_data"
    },
    {
     "name": "stdout",
     "output_type": "stream",
     "text": [
      "______________________________________\n",
      "\n"
     ]
    }
   ],
   "source": [
    "lrFinder = batchLRFind(trainData, getModel, modelParams, trainParams,\n",
    "                       lrBounds=[1e-5,1e-1], trainOnWeights=True, verbose=0)"
   ]
  },
  {
   "cell_type": "code",
   "execution_count": 6,
   "metadata": {},
   "outputs": [],
   "source": [
    "compileArgs['lr'] = 5e-3"
   ]
  },
  {
   "cell_type": "markdown",
   "metadata": {},
   "source": [
    "## Train classifier"
   ]
  },
  {
   "cell_type": "code",
   "execution_count": 7,
   "metadata": {
    "scrolled": false
   },
   "outputs": [
    {
     "name": "stdout",
     "output_type": "stream",
     "text": [
      "Using cosine annealing\n",
      "Training using weights\n",
      "Running fold 1 / 10\n",
      "2 classes found, running in binary mode\n",
      "\n",
      "1 New best found: 3.79040078472e-05\n",
      "2 New best found: 3.64228218716e-05\n",
      "3 New best found: 3.5278827263e-05\n",
      "5 New best found: 3.47593694308e-05\n",
      "6 New best found: 3.42880374814e-05\n",
      "7 New best found: 3.38969217882e-05\n",
      "12 New best found: 3.37007679465e-05\n",
      "13 New best found: 3.33454580003e-05\n",
      "14 New best found: 3.32488795045e-05\n",
      "23 New best found: 3.32463696193e-05\n",
      "24 New best found: 3.30338729719e-05\n",
      "26 New best found: 3.27841262981e-05\n",
      "28 New best found: 3.2550036154e-05\n",
      "30 New best found: 3.24586403755e-05\n",
      "31 New best found: 3.24205196721e-05\n",
      "53 New best found: 3.23192389154e-05\n",
      "59 New best found: 3.22309930099e-05\n",
      "60 New best found: 3.21654900836e-05\n",
      "114 New best found: 3.21543619176e-05\n",
      "120 New best found: 3.21471504653e-05\n",
      "121 New best found: 3.21197842587e-05\n",
      "122 New best found: 3.21135910816e-05\n",
      "125 New best found: 3.20988386911e-05\n",
      "127 New best found: 3.20742736667e-05\n",
      "Early stopping after 511 epochs\n",
      "Score is: {'loss': 3.207427366667504e-05, 'AUC': 0.10011680852743343, 'wAUC': 0.06445967788468931}\n",
      "Fold took 507.244s\n",
      "\n",
      "Running fold 2 / 10\n",
      "1 New best found: 3.67183563037e-05\n",
      "2 New best found: 3.5477739948e-05\n",
      "3 New best found: 3.46112610052e-05\n",
      "5 New best found: 3.39148793774e-05\n",
      "6 New best found: 3.37179884194e-05\n",
      "7 New best found: 3.33032422404e-05\n",
      "13 New best found: 3.28198555497e-05\n",
      "14 New best found: 3.26669009723e-05\n",
      "22 New best found: 3.26104727913e-05\n",
      "25 New best found: 3.23738429772e-05\n",
      "28 New best found: 3.21297645717e-05\n",
      "29 New best found: 3.21004048569e-05\n",
      "30 New best found: 3.20900651148e-05\n",
      "50 New best found: 3.20652227419e-05\n",
      "51 New best found: 3.20113617504e-05\n",
      "52 New best found: 3.19331394009e-05\n",
      "54 New best found: 3.18752468102e-05\n",
      "55 New best found: 3.18129481377e-05\n",
      "56 New best found: 3.18070179662e-05\n",
      "57 New best found: 3.17211865098e-05\n",
      "59 New best found: 3.16050829487e-05\n",
      "61 New best found: 3.15226127851e-05\n",
      "106 New best found: 3.15095062223e-05\n",
      "115 New best found: 3.14020016633e-05\n",
      "Early stopping after 255 epochs\n",
      "Score is: {'loss': 3.1402001663302934e-05, 'AUC': 0.10057850327743967, 'wAUC': 0.06228436305993523}\n",
      "Fold took 259.401s\n",
      "\n",
      "Running fold 3 / 10\n",
      "1 New best found: 3.83565950444e-05\n",
      "2 New best found: 3.72401408557e-05\n",
      "3 New best found: 3.64973714631e-05\n",
      "4 New best found: 3.63708604907e-05\n",
      "5 New best found: 3.62403271834e-05\n",
      "6 New best found: 3.50364546459e-05\n",
      "7 New best found: 3.47315059574e-05\n",
      "11 New best found: 3.44955713919e-05\n",
      "12 New best found: 3.44704162521e-05\n",
      "13 New best found: 3.42474141444e-05\n",
      "14 New best found: 3.40103720868e-05\n",
      "15 New best found: 3.38446568949e-05\n",
      "26 New best found: 3.35618784905e-05\n",
      "29 New best found: 3.34028616832e-05\n",
      "31 New best found: 3.32453813726e-05\n",
      "53 New best found: 3.3081975434e-05\n",
      "57 New best found: 3.301976333e-05\n",
      "59 New best found: 3.29173317708e-05\n",
      "63 New best found: 3.2857391754e-05\n",
      "125 New best found: 3.28428645915e-05\n",
      "Early stopping after 255 epochs\n",
      "Score is: {'loss': 3.284286459150897e-05, 'AUC': 0.09944858716786653, 'wAUC': 0.06763576740516342}\n",
      "Fold took 256.702s\n",
      "\n",
      "Running fold 4 / 10\n"
     ]
    },
    {
     "name": "stderr",
     "output_type": "stream",
     "text": [
      "/home/giles/anaconda2/lib/python2.7/site-packages/keras/callbacks.py:120: UserWarning: Method on_batch_end() is slow compared to the batch update (0.103075). Check your callbacks.\n",
      "  % delta_t_median)\n"
     ]
    },
    {
     "name": "stdout",
     "output_type": "stream",
     "text": [
      "1 New best found: 3.7299460316e-05\n",
      "2 New best found: 3.57370113617e-05\n",
      "3 New best found: 3.41984567751e-05\n",
      "6 New best found: 3.36126942614e-05\n",
      "11 New best found: 3.33191640571e-05\n",
      "12 New best found: 3.31972880308e-05\n",
      "13 New best found: 3.27206526824e-05\n",
      "23 New best found: 3.27048638743e-05\n",
      "25 New best found: 3.25658399372e-05\n",
      "26 New best found: 3.24875414e-05\n",
      "27 New best found: 3.2375125279e-05\n",
      "28 New best found: 3.2195102497e-05\n",
      "30 New best found: 3.20019331836e-05\n",
      "50 New best found: 3.19931997773e-05\n",
      "52 New best found: 3.19907240938e-05\n",
      "54 New best found: 3.19401556997e-05\n",
      "55 New best found: 3.19234614077e-05\n",
      "57 New best found: 3.17779738808e-05\n",
      "58 New best found: 3.16517205959e-05\n",
      "Early stopping after 127 epochs\n",
      "Score is: {'loss': 3.165172059585499e-05, 'AUC': 0.10036053666304234, 'wAUC': 0.06312401120210875}\n",
      "Fold took 132.004s\n",
      "\n",
      "Running fold 5 / 10\n",
      "1 New best found: 3.74232079832e-05\n",
      "2 New best found: 3.56219122105e-05\n",
      "3 New best found: 3.46460925815e-05\n",
      "6 New best found: 3.38485434044e-05\n",
      "7 New best found: 3.37300984478e-05\n",
      "12 New best found: 3.32142478442e-05\n",
      "13 New best found: 3.27681035915e-05\n",
      "14 New best found: 3.27028740075e-05\n",
      "24 New best found: 3.2624767076e-05\n",
      "25 New best found: 3.25562205941e-05\n",
      "26 New best found: 3.24259092324e-05\n",
      "28 New best found: 3.22037941496e-05\n",
      "30 New best found: 3.2149037289e-05\n",
      "51 New best found: 3.20964772778e-05\n",
      "54 New best found: 3.20873777311e-05\n",
      "55 New best found: 3.20712608199e-05\n",
      "56 New best found: 3.2038185984e-05\n",
      "57 New best found: 3.20102027378e-05\n",
      "58 New best found: 3.19689754667e-05\n",
      "59 New best found: 3.19392032691e-05\n",
      "61 New best found: 3.19340922333e-05\n",
      "62 New best found: 3.18836313613e-05\n",
      "63 New best found: 3.18542946128e-05\n",
      "Early stopping after 255 epochs\n",
      "Score is: {'loss': 3.1854294612842535e-05, 'AUC': 0.09805875108552164, 'wAUC': 0.06323017377735574}\n",
      "Fold took 258.535s\n",
      "\n",
      "Running fold 6 / 10\n"
     ]
    },
    {
     "name": "stderr",
     "output_type": "stream",
     "text": [
      "/home/giles/anaconda2/lib/python2.7/site-packages/keras/callbacks.py:120: UserWarning: Method on_batch_end() is slow compared to the batch update (0.152810). Check your callbacks.\n",
      "  % delta_t_median)\n"
     ]
    },
    {
     "name": "stdout",
     "output_type": "stream",
     "text": [
      "1 New best found: 3.80997783136e-05\n",
      "2 New best found: 3.75078758106e-05\n",
      "3 New best found: 3.6052772681e-05\n",
      "5 New best found: 3.56475978506e-05\n",
      "6 New best found: 3.43925441714e-05\n",
      "7 New best found: 3.43518874962e-05\n",
      "10 New best found: 3.43286449141e-05\n",
      "11 New best found: 3.41421903926e-05\n",
      "12 New best found: 3.36324617326e-05\n",
      "13 New best found: 3.34471804286e-05\n",
      "14 New best found: 3.34201809268e-05\n",
      "15 New best found: 3.32693334015e-05\n",
      "24 New best found: 3.31742376468e-05\n",
      "26 New best found: 3.30748871766e-05\n",
      "27 New best found: 3.27127870496e-05\n",
      "28 New best found: 3.26309674364e-05\n",
      "29 New best found: 3.25436554269e-05\n",
      "30 New best found: 3.2502059159e-05\n",
      "54 New best found: 3.22445484199e-05\n",
      "60 New best found: 3.21814901484e-05\n",
      "100 New best found: 3.21722421135e-05\n",
      "107 New best found: 3.21038495092e-05\n",
      "108 New best found: 3.20796016212e-05\n",
      "114 New best found: 3.20679577963e-05\n",
      "116 New best found: 3.19799145392e-05\n",
      "117 New best found: 3.19524536925e-05\n",
      "Early stopping after 255 epochs\n",
      "Score is: {'loss': 3.1952453692475605e-05, 'AUC': 0.10200903237488768, 'wAUC': 0.06384484497041953}\n",
      "Fold took 261.645s\n",
      "\n",
      "Running fold 7 / 10\n"
     ]
    },
    {
     "name": "stderr",
     "output_type": "stream",
     "text": [
      "/home/giles/anaconda2/lib/python2.7/site-packages/keras/callbacks.py:120: UserWarning: Method on_batch_end() is slow compared to the batch update (0.148393). Check your callbacks.\n",
      "  % delta_t_median)\n"
     ]
    },
    {
     "name": "stdout",
     "output_type": "stream",
     "text": [
      "1 New best found: 3.77092844258e-05\n",
      "2 New best found: 3.59660214215e-05\n",
      "3 New best found: 3.51511772247e-05\n",
      "5 New best found: 3.50537697479e-05\n",
      "6 New best found: 3.43015872029e-05\n",
      "7 New best found: 3.38203250835e-05\n",
      "13 New best found: 3.34485999337e-05\n",
      "14 New best found: 3.30106630786e-05\n",
      "24 New best found: 3.29995516441e-05\n",
      "26 New best found: 3.2791552276e-05\n",
      "27 New best found: 3.27093754421e-05\n",
      "28 New best found: 3.24973009044e-05\n",
      "29 New best found: 3.24692803692e-05\n",
      "30 New best found: 3.23850748173e-05\n",
      "31 New best found: 3.23715771342e-05\n",
      "51 New best found: 3.23500401594e-05\n",
      "52 New best found: 3.23105867981e-05\n",
      "55 New best found: 3.20446725398e-05\n",
      "61 New best found: 3.2029806317e-05\n",
      "62 New best found: 3.19901084788e-05\n",
      "107 New best found: 3.19561546225e-05\n",
      "109 New best found: 3.18713683944e-05\n",
      "116 New best found: 3.1850053331e-05\n",
      "117 New best found: 3.18208668622e-05\n",
      "119 New best found: 3.17148767048e-05\n",
      "Early stopping after 255 epochs\n",
      "Score is: {'loss': 3.1714876704810116e-05, 'AUC': 0.10096763577438495, 'wAUC': 0.06358759648818368}\n",
      "Fold took 267.428s\n",
      "\n",
      "Running fold 8 / 10\n"
     ]
    },
    {
     "name": "stderr",
     "output_type": "stream",
     "text": [
      "/home/giles/anaconda2/lib/python2.7/site-packages/keras/callbacks.py:120: UserWarning: Method on_batch_end() is slow compared to the batch update (0.142901). Check your callbacks.\n",
      "  % delta_t_median)\n"
     ]
    },
    {
     "name": "stdout",
     "output_type": "stream",
     "text": [
      "1 New best found: 3.77339414799e-05\n",
      "2 New best found: 3.57779453284e-05\n",
      "3 New best found: 3.50369083844e-05\n",
      "5 New best found: 3.45741766437e-05\n",
      "6 New best found: 3.43314805265e-05\n",
      "7 New best found: 3.40475286421e-05\n",
      "12 New best found: 3.37403780014e-05\n",
      "13 New best found: 3.33351239516e-05\n",
      "14 New best found: 3.31089958233e-05\n",
      "25 New best found: 3.30449938887e-05\n",
      "26 New best found: 3.28906314189e-05\n",
      "27 New best found: 3.27223180199e-05\n",
      "28 New best found: 3.26304497682e-05\n",
      "29 New best found: 3.24890071218e-05\n",
      "31 New best found: 3.24704325795e-05\n",
      "54 New best found: 3.24415371165e-05\n",
      "55 New best found: 3.2334034033e-05\n",
      "57 New best found: 3.23265839383e-05\n",
      "58 New best found: 3.224925353e-05\n",
      "59 New best found: 3.21650080405e-05\n",
      "60 New best found: 3.21607963656e-05\n",
      "62 New best found: 3.21170374686e-05\n",
      "Early stopping after 127 epochs\n",
      "Score is: {'loss': 3.211703746856947e-05, 'AUC': 0.10604338890940879, 'wAUC': 0.06521465430240414}\n",
      "Fold took 133.915s\n",
      "\n",
      "Running fold 9 / 10\n"
     ]
    },
    {
     "name": "stderr",
     "output_type": "stream",
     "text": [
      "/home/giles/anaconda2/lib/python2.7/site-packages/keras/callbacks.py:120: UserWarning: Method on_batch_end() is slow compared to the batch update (0.174770). Check your callbacks.\n",
      "  % delta_t_median)\n"
     ]
    },
    {
     "name": "stdout",
     "output_type": "stream",
     "text": [
      "1 New best found: 3.71719954086e-05\n",
      "2 New best found: 3.60624748457e-05\n",
      "3 New best found: 3.55337345388e-05\n",
      "6 New best found: 3.44334246543e-05\n",
      "7 New best found: 3.43810055889e-05\n",
      "12 New best found: 3.406796428e-05\n",
      "13 New best found: 3.37769047888e-05\n",
      "14 New best found: 3.37505883879e-05\n",
      "15 New best found: 3.35802447257e-05\n",
      "26 New best found: 3.34125258142e-05\n",
      "28 New best found: 3.33315178475e-05\n",
      "29 New best found: 3.32608792159e-05\n",
      "30 New best found: 3.32117161747e-05\n",
      "31 New best found: 3.31464992069e-05\n",
      "54 New best found: 3.30901571868e-05\n",
      "56 New best found: 3.29335419956e-05\n",
      "57 New best found: 3.28906544255e-05\n",
      "58 New best found: 3.28591414978e-05\n",
      "59 New best found: 3.28585517322e-05\n",
      "61 New best found: 3.27521989564e-05\n",
      "106 New best found: 3.27458494077e-05\n",
      "117 New best found: 3.27371129202e-05\n",
      "120 New best found: 3.27212335466e-05\n",
      "122 New best found: 3.26869929804e-05\n",
      "Early stopping after 255 epochs\n",
      "Score is: {'loss': 3.268699298035663e-05, 'AUC': 0.10163866402548893, 'wAUC': 0.06671943226567789}\n",
      "Fold took 266.592s\n",
      "\n",
      "Running fold 10 / 10\n"
     ]
    },
    {
     "name": "stderr",
     "output_type": "stream",
     "text": [
      "/home/giles/anaconda2/lib/python2.7/site-packages/keras/callbacks.py:120: UserWarning: Method on_batch_end() is slow compared to the batch update (0.235974). Check your callbacks.\n",
      "  % delta_t_median)\n",
      "/home/giles/anaconda2/lib/python2.7/site-packages/keras/callbacks.py:120: UserWarning: Method on_batch_end() is slow compared to the batch update (0.118245). Check your callbacks.\n",
      "  % delta_t_median)\n"
     ]
    },
    {
     "name": "stdout",
     "output_type": "stream",
     "text": [
      "1 New best found: 3.84435909615e-05\n",
      "2 New best found: 3.60689255188e-05\n",
      "3 New best found: 3.55490495286e-05\n",
      "5 New best found: 3.46937446553e-05\n",
      "6 New best found: 3.44857537204e-05\n",
      "7 New best found: 3.39551448214e-05\n",
      "13 New best found: 3.36114066066e-05\n",
      "14 New best found: 3.35114009755e-05\n",
      "15 New best found: 3.3358296967e-05\n",
      "25 New best found: 3.33146717219e-05\n",
      "26 New best found: 3.32618649214e-05\n",
      "27 New best found: 3.3041036248e-05\n",
      "28 New best found: 3.28321476065e-05\n",
      "30 New best found: 3.27500579752e-05\n",
      "49 New best found: 3.26815367084e-05\n",
      "55 New best found: 3.25764607527e-05\n",
      "57 New best found: 3.25658599448e-05\n",
      "58 New best found: 3.25435063807e-05\n",
      "59 New best found: 3.23686877334e-05\n",
      "61 New best found: 3.23548021127e-05\n",
      "Early stopping after 127 epochs\n",
      "Score is: {'loss': 3.235480211272975e-05, 'AUC': 0.09987085137190921, 'wAUC': 0.06594132581489087}\n",
      "Fold took 135.680s\n",
      "\n",
      "\n",
      "______________________________________\n",
      "Training finished\n",
      "Cross-validation took 2480.475s \n"
     ]
    },
    {
     "data": {
      "image/png": "[encoded data removed]",
      "text/plain": [
       "<matplotlib.figure.Figure at 0x7ff5a83fcdd0>"
      ]
     },
     "metadata": {},
     "output_type": "display_data"
    },
    {
     "name": "stdout",
     "output_type": "stream",
     "text": [
      "Mean wAUC = 0.0646 +- 0.0005\n",
      "______________________________________\n",
      "\n"
     ]
    },
    {
     "data": {
      "text/plain": [
       "<matplotlib.figure.Figure at 0x7ff5a831be90>"
      ]
     },
     "metadata": {},
     "output_type": "display_data"
    }
   ],
   "source": [
    "results, histories = batchTrainClassifier(trainData, nSplits, getModel, modelParams, trainParams,\n",
    "                                          patience=2, cosAnnealMult=2, trainOnWeights=True,\n",
    "                                          maxEpochs=maxEpochs, verbose=1)"
   ]
  },
  {
   "cell_type": "markdown",
   "metadata": {},
   "source": [
    "## Construct ensemble"
   ]
  },
  {
   "cell_type": "code",
   "execution_count": 8,
   "metadata": {},
   "outputs": [],
   "source": [
    "with open('train_weights/resultsFile.pkl', 'r') as fin:   \n",
    "    results = pickle.load(fin)"
   ]
  },
  {
   "cell_type": "code",
   "execution_count": 9,
   "metadata": {},
   "outputs": [
    {
     "name": "stdout",
     "output_type": "stream",
     "text": [
      "Choosing ensemble by loss\n",
      "Model 0 is 1 with loss = 3.1402001663302934e-05\n",
      "Model 1 is 3 with loss = 3.165172059585499e-05\n",
      "Model 2 is 6 with loss = 3.1714876704810116e-05\n",
      "Model 3 is 4 with loss = 3.1854294612842535e-05\n",
      "Model 4 is 5 with loss = 3.1952453692475605e-05\n",
      "Model 5 is 0 with loss = 3.207427366667504e-05\n",
      "Model 6 is 7 with loss = 3.211703746856947e-05\n",
      "Model 7 is 9 with loss = 3.235480211272975e-05\n",
      "Model 8 is 8 with loss = 3.268699298035663e-05\n",
      "Model 9 is 2 with loss = 3.284286459150897e-05\n"
     ]
    }
   ],
   "source": [
    "ensemble, weights = assembleEnsemble(results, ensembleSize, ensembleMode, compileArgs)"
   ]
  },
  {
   "cell_type": "code",
   "execution_count": 10,
   "metadata": {},
   "outputs": [
    {
     "name": "stderr",
     "output_type": "stream",
     "text": [
      "/home/giles/anaconda2/lib/python2.7/site-packages/numpy/core/fromnumeric.py:2957: RuntimeWarning: Mean of empty slice.\n",
      "  out=out, **kwargs)\n",
      "/home/giles/anaconda2/lib/python2.7/site-packages/numpy/core/_methods.py:80: RuntimeWarning: invalid value encountered in double_scalars\n",
      "  ret = ret.dtype.type(ret / rcount)\n"
     ]
    },
    {
     "data": {
      "text/plain": [
       "nan"
      ]
     },
     "execution_count": 10,
     "metadata": {},
     "output_type": "execute_result"
    }
   ],
   "source": [
    "np.mean([])"
   ]
  },
  {
   "cell_type": "markdown",
   "metadata": {},
   "source": [
    "## Response on development data"
   ]
  },
  {
   "cell_type": "code",
   "execution_count": 12,
   "metadata": {},
   "outputs": [],
   "source": [
    "def batchEnsemblePredict(ensemble, weights, data, predName='pred', nOut=1, outputPipe=None, ensembleSize=None, nFolds=-1, verbose=False):\n",
    "    if isinstance(ensembleSize, types.NoneType):\n",
    "        ensembleSize = len(ensemble)\n",
    "\n",
    "    if not isinstance(data, BatchYielder):\n",
    "        data = BatchYielder(data)\n",
    "\n",
    "    if nFolds < 0:\n",
    "        nFolds = len(data.source)\n",
    "\n",
    "    for fold in range(nFolds):\n",
    "        if verbose:\n",
    "            print 'Predicting batch {} out of {}'.format(fold+1, nFolds)\n",
    "            start = timeit.default_timer()\n",
    "\n",
    "        if not data.testTimeAug:\n",
    "            batch = data.getBatch(fold)['inputs']\n",
    "            batchPred = ensemblePredict(batch, ensemble, weights, n=ensembleSize, nOut=nOut, outputPipe=outputPipe)\n",
    "\n",
    "        else:\n",
    "            tmpPred = []\n",
    "            for aug in range(data.augMult):\n",
    "                batch = data.getTestBatch(fold, aug)['inputs']\n",
    "                tmpPred.append(ensemblePredict(batch, ensemble, weights, n=ensembleSize, nOut=nOut, outputPipe=outputPipe))\n",
    "            batchPred = np.mean(tmpPred, axis=0)\n",
    "\n",
    "        if verbose: \n",
    "            print \"Prediction took {}s per sample\\n\".format((timeit.default_timer() - start)/len(batch))\n",
    "\n",
    "        if nOut > 1:\n",
    "            saveBatchPred(batchPred, 'fold_' + str(fold), data.source, predName=predName)\n",
    "        else:\n",
    "            saveBatchPred(batchPred[:,0], 'fold_' + str(fold), data.source, predName=predName)"
   ]
  },
  {
   "cell_type": "code",
   "execution_count": 13,
   "metadata": {
    "scrolled": false
   },
   "outputs": [
    {
     "name": "stdout",
     "output_type": "stream",
     "text": [
      "Predicting batch 1 out of 10\n",
      "Prediction took 0.00231865795664s per sample\n",
      "\n",
      "Predicting batch 2 out of 10\n",
      "Prediction took 0.00203936382876s per sample\n",
      "\n",
      "Predicting batch 3 out of 10\n",
      "Prediction took 0.00211811639042s per sample\n",
      "\n",
      "Predicting batch 4 out of 10\n",
      "Prediction took 0.00216780714989s per sample\n",
      "\n",
      "Predicting batch 5 out of 10\n",
      "Prediction took 0.00214516779184s per sample\n",
      "\n",
      "Predicting batch 6 out of 10\n",
      "Prediction took 0.0020678366065s per sample\n",
      "\n",
      "Predicting batch 7 out of 10\n",
      "Prediction took 0.00207335600853s per sample\n",
      "\n",
      "Predicting batch 8 out of 10\n",
      "Prediction took 0.00205691985306s per sample\n",
      "\n",
      "Predicting batch 9 out of 10\n",
      "Prediction took 0.00212082834719s per sample\n",
      "\n",
      "Predicting batch 10 out of 10\n",
      "Prediction took 0.00209002269734s per sample\n",
      "\n"
     ]
    }
   ],
   "source": [
    "batchEnsemblePredict(ensemble, weights, trainData, ensembleSize=10, verbose=1)"
   ]
  },
  {
   "cell_type": "code",
   "execution_count": 14,
   "metadata": {},
   "outputs": [
    {
     "name": "stdout",
     "output_type": "stream",
     "text": [
      "Training ROC AUC: unweighted 0.904783288719, weighted 0.940640609578\n"
     ]
    }
   ],
   "source": [
    "print 'Training ROC AUC: unweighted {}, weighted {}'.format(roc_auc_score(getFeature('targets', trainData.source), getFeature('pred', trainData.source)),\n",
    "                                                            roc_auc_score(getFeature('targets', trainData.source), getFeature('pred', trainData.source), sample_weight=getFeature('weights', trainData.source)))"
   ]
  },
  {
   "cell_type": "markdown",
   "metadata": {},
   "source": [
    "## Response on val data"
   ]
  },
  {
   "cell_type": "code",
   "execution_count": 15,
   "metadata": {},
   "outputs": [
    {
     "name": "stdout",
     "output_type": "stream",
     "text": [
      "Predicting batch 1 out of 10\n",
      "Prediction took 0.00207479043007s per sample\n",
      "\n",
      "Predicting batch 2 out of 10\n",
      "Prediction took 0.00206748518944s per sample\n",
      "\n",
      "Predicting batch 3 out of 10\n",
      "Prediction took 0.00209967398643s per sample\n",
      "\n",
      "Predicting batch 4 out of 10\n",
      "Prediction took 0.00205588879585s per sample\n",
      "\n",
      "Predicting batch 5 out of 10\n",
      "Prediction took 0.00211500840187s per sample\n",
      "\n",
      "Predicting batch 6 out of 10\n",
      "Prediction took 0.00202868762016s per sample\n",
      "\n",
      "Predicting batch 7 out of 10\n",
      "Prediction took 0.00211792140007s per sample\n",
      "\n",
      "Predicting batch 8 out of 10\n",
      "Prediction took 0.00206067757607s per sample\n",
      "\n",
      "Predicting batch 9 out of 10\n",
      "Prediction took 0.00201144576073s per sample\n",
      "\n",
      "Predicting batch 10 out of 10\n",
      "Prediction took 0.00212015080452s per sample\n",
      "\n"
     ]
    }
   ],
   "source": [
    "batchEnsemblePredict(ensemble, weights, valData, ensembleSize=10, verbose=1)"
   ]
  },
  {
   "cell_type": "code",
   "execution_count": 16,
   "metadata": {},
   "outputs": [
    {
     "name": "stdout",
     "output_type": "stream",
     "text": [
      "Testing ROC AUC: unweighted 0.901771555067, weighted 0.935092407904\n"
     ]
    }
   ],
   "source": [
    "print 'Testing ROC AUC: unweighted {}, weighted {}'.format(roc_auc_score(getFeature('targets', valData.source), getFeature('pred', valData.source)),\n",
    "                                                           roc_auc_score(getFeature('targets', valData.source), getFeature('pred', valData.source), sample_weight=getFeature('weights', valData.source)))"
   ]
  },
  {
   "cell_type": "markdown",
   "metadata": {},
   "source": [
    "## Evaluation"
   ]
  },
  {
   "cell_type": "markdown",
   "metadata": {},
   "source": [
    "### Import in dataframe"
   ]
  },
  {
   "cell_type": "code",
   "execution_count": 17,
   "metadata": {},
   "outputs": [
    {
     "name": "stdout",
     "output_type": "stream",
     "text": [
      "50000 candidates loaded\n"
     ]
    }
   ],
   "source": [
    "valframe = convertToDF(valData.source)"
   ]
  },
  {
   "cell_type": "code",
   "execution_count": 18,
   "metadata": {},
   "outputs": [],
   "source": [
    "sigVal = (valframe.gen_target == 1)\n",
    "bkgVal = (valframe.gen_target == 0)"
   ]
  },
  {
   "cell_type": "markdown",
   "metadata": {},
   "source": [
    "### MVA distributions"
   ]
  },
  {
   "cell_type": "code",
   "execution_count": 19,
   "metadata": {
    "scrolled": false
   },
   "outputs": [
    {
     "data": {
      "image/png": "[encoded data removed]",
      "text/plain": [
       "<matplotlib.figure.Figure at 0x7ff59e8c2650>"
      ]
     },
     "metadata": {},
     "output_type": "display_data"
    }
   ],
   "source": [
    "getClassPredPlot([valframe[bkgVal], valframe[sigVal]], weightName='gen_weight')"
   ]
  },
  {
   "cell_type": "code",
   "execution_count": 20,
   "metadata": {},
   "outputs": [
    {
     "name": "stdout",
     "output_type": "stream",
     "text": [
      "[0.9579285383224487, 1.6960349835778525]\n"
     ]
    }
   ],
   "source": [
    "valframe['ams'] = amsScan(valframe)[0]"
   ]
  },
  {
   "cell_type": "code",
   "execution_count": 21,
   "metadata": {
    "scrolled": false
   },
   "outputs": [
    {
     "name": "stdout",
     "output_type": "stream",
     "text": [
      "[0.9857715964317322, 2.02567152387413]\n",
      "Fold 0, best AMS 2.02567152387 at cut of 0.985771596432. Total weights Signal:Bkg. 13.991812706:8281.83789062\n"
     ]
    },
    {
     "name": "stderr",
     "output_type": "stream",
     "text": [
      "../Modules/Basics.py:63: UserWarning: Boolean Series key will be reindexed to match DataFrame index.\n",
      "  np.sum(inData.iloc[test][inData.gen_target == 1]['gen_weight']),\n",
      "../Modules/Basics.py:64: UserWarning: Boolean Series key will be reindexed to match DataFrame index.\n",
      "  np.sum(inData.iloc[test][inData.gen_target == 0]['gen_weight']))\n"
     ]
    },
    {
     "name": "stdout",
     "output_type": "stream",
     "text": [
      "[0.9386342763900757, 1.784175602732194]\n",
      "Fold 1, best AMS 1.78417560273 at cut of 0.93863427639. Total weights Signal:Bkg. 13.8332748413:8294.97070312\n",
      "[0.9790675044059753, 2.2794273375888934]\n",
      "Fold 2, best AMS 2.27942733759 at cut of 0.979067504406. Total weights Signal:Bkg. 13.6162910461:8171.09375\n",
      "[0.9186940789222717, 1.5455121076740521]\n",
      "Fold 3, best AMS 1.54551210767 at cut of 0.918694078922. Total weights Signal:Bkg. 13.77277565:8255.5078125\n",
      "[0.9840020537376404, 2.024831370048734]\n",
      "Fold 4, best AMS 2.02483137005 at cut of 0.984002053738. Total weights Signal:Bkg. 13.2541999817:8117.69482422\n",
      "[0.9323616623878479, 1.7277692943298981]\n",
      "Fold 5, best AMS 1.72776929433 at cut of 0.932361662388. Total weights Signal:Bkg. 13.715511322:8092.49121094\n",
      "[0.978226900100708, 2.3146186167900296]\n",
      "Fold 6, best AMS 2.31461861679 at cut of 0.978226900101. Total weights Signal:Bkg. 14.1896247864:8168.60742188\n",
      "[0.9711857438087463, 1.9595192755810795]\n",
      "Fold 7, best AMS 1.95951927558 at cut of 0.971185743809. Total weights Signal:Bkg. 13.9794187546:8075.98242188\n",
      "[0.9751021265983582, 1.976547469338822]\n",
      "Fold 8, best AMS 1.97654746934 at cut of 0.975102126598. Total weights Signal:Bkg. 14.1222314835:8131.79492188\n",
      "[0.9568482637405396, 1.977939983991159]\n",
      "Fold 9, best AMS 1.97793998399 at cut of 0.956848263741. Total weights Signal:Bkg. 14.4762964249:8202.30957031\n",
      "Mean cut 0.9595884326387787 mean AMS 1.9355792201737634\n"
     ]
    }
   ],
   "source": [
    "bests = foldAMSScan(valframe, 10)"
   ]
  },
  {
   "cell_type": "code",
   "execution_count": 22,
   "metadata": {
    "scrolled": false
   },
   "outputs": [
    {
     "name": "stdout",
     "output_type": "stream",
     "text": [
      "Predicting batch 1 out of 10\n",
      "Prediction took 0.00200742774443s per sample\n",
      "\n",
      "Predicting batch 2 out of 10\n",
      "Prediction took 0.00203859678182s per sample\n",
      "\n",
      "Predicting batch 3 out of 10\n",
      "Prediction took 0.00206853545362s per sample\n",
      "\n",
      "Predicting batch 4 out of 10\n",
      "Prediction took 0.00204988172705s per sample\n",
      "\n",
      "Predicting batch 5 out of 10\n",
      "Prediction took 0.00204623374939s per sample\n",
      "\n",
      "Predicting batch 6 out of 10\n",
      "Prediction took 0.00205763760047s per sample\n",
      "\n",
      "Predicting batch 7 out of 10\n",
      "Prediction took 0.00204184043624s per sample\n",
      "\n",
      "Predicting batch 8 out of 10\n",
      "Prediction took 0.0020513644912s per sample\n",
      "\n",
      "Predicting batch 9 out of 10\n",
      "Prediction took 0.00202667236328s per sample\n",
      "\n",
      "Predicting batch 10 out of 10\n",
      "Prediction took 0.00202495310957s per sample\n",
      "\n"
     ]
    }
   ],
   "source": [
    "batchEnsemblePredict(ensemble, weights, RotationBatch(classTrainFeatures, h5py.File(dirLoc + 'testing.hdf5', \"r+\")), ensembleSize=10, verbose=1)"
   ]
  },
  {
   "cell_type": "code",
   "execution_count": 28,
   "metadata": {},
   "outputs": [
    {
     "name": "stdout",
     "output_type": "stream",
     "text": [
      "../Data/Day_9_5e3_IM_test.csv\n"
     ]
    }
   ],
   "source": [
    "saveTest(0.9595884326387787, 'Day_9_5e3_IM')"
   ]
  },
  {
   "cell_type": "code",
   "execution_count": 29,
   "metadata": {},
   "outputs": [
    {
     "name": "stdout",
     "output_type": "stream",
     "text": [
      "Successfully submitted to Higgs Boson Machine Learning Challenge"
     ]
    }
   ],
   "source": [
    "!kaggle competitions submit -c higgs-boson -f ../Data/Day_9_5e3_IM_test.csv -m\"Day_9 5e-3 IM\""
   ]
  },
  {
   "cell_type": "code",
   "execution_count": null,
   "metadata": {},
   "outputs": [],
   "source": []
  }
 ],
 "metadata": {
  "kernelspec": {
   "display_name": "Python 2",
   "language": "python",
   "name": "python2"
  },
  "language_info": {
   "codemirror_mode": {
    "name": "ipython",
    "version": 2
   },
   "file_extension": ".py",
   "mimetype": "text/x-python",
   "name": "python",
   "nbconvert_exporter": "python",
   "pygments_lexer": "ipython2",
   "version": "2.7.14"
  }
 },
 "nbformat": 4,
 "nbformat_minor": 1
}
