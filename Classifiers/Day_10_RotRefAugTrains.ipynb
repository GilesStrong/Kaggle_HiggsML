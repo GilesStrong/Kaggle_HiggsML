{
 "cells": [
  {
   "cell_type": "markdown",
   "metadata": {},
   "source": [
    "# Day 10\n",
    "batch size 256 lr 1e-3, normed weighted, non-rotated, cartesian,"
   ]
  },
  {
   "cell_type": "markdown",
   "metadata": {},
   "source": [
    "### Import modules"
   ]
  },
  {
   "cell_type": "code",
   "execution_count": 1,
   "metadata": {},
   "outputs": [
    {
     "name": "stderr",
     "output_type": "stream",
     "text": [
      "/home/giles/anaconda2/lib/python2.7/site-packages/h5py/__init__.py:36: FutureWarning: Conversion of the second argument of issubdtype from `float` to `np.floating` is deprecated. In future, it will be treated as `np.float64 == np.dtype(float).type`.\n",
      "  from ._conv import register_converters as _register_converters\n",
      "/home/giles/anaconda2/lib/python2.7/site-packages/statsmodels/compat/pandas.py:56: FutureWarning: The pandas.core.datetools module is deprecated and will be removed in a future version. Please use the pandas.tseries module instead.\n",
      "  from pandas.core import datetools\n",
      "Using TensorFlow backend.\n"
     ]
    }
   ],
   "source": [
    "%matplotlib inline\n",
    "from __future__ import division\n",
    "import sys\n",
    "import os\n",
    "os.environ['MKL_THREADING_LAYER']='GNU'\n",
    "sys.path.append('../')\n",
    "from Modules.Basics import *\n",
    "from Modules.Class_Basics import *"
   ]
  },
  {
   "cell_type": "markdown",
   "metadata": {},
   "source": [
    "## Options"
   ]
  },
  {
   "cell_type": "code",
   "execution_count": 195,
   "metadata": {
    "scrolled": false
   },
   "outputs": [
    {
     "name": "stdout",
     "output_type": "stream",
     "text": [
      "\n",
      "Training on 31 features: ['DER_mass_MMC', 'DER_mass_transverse_met_lep', 'DER_mass_vis', 'DER_pt_h', 'DER_deltaeta_jet_jet', 'DER_mass_jet_jet', 'DER_prodeta_jet_jet', 'DER_deltar_tau_lep', 'DER_pt_tot', 'DER_sum_pt', 'DER_pt_ratio_lep_tau', 'DER_met_phi_centrality', 'DER_lep_eta_centrality', 'PRI_met_pt', 'PRI_met_sumet', 'PRI_jet_num', 'PRI_jet_all_pt', 'PRI_tau_px', 'PRI_tau_py', 'PRI_tau_pz', 'PRI_lep_px', 'PRI_lep_py', 'PRI_lep_pz', 'PRI_jet_leading_px', 'PRI_jet_leading_py', 'PRI_jet_leading_pz', 'PRI_jet_subleading_px', 'PRI_jet_subleading_py', 'PRI_jet_subleading_pz', 'PRI_met_px', 'PRI_met_py']\n"
     ]
    }
   ],
   "source": [
    "classTrainFeatures = ['DER_mass_MMC', 'DER_mass_transverse_met_lep', 'DER_mass_vis', 'DER_pt_h', 'DER_deltaeta_jet_jet', 'DER_mass_jet_jet', 'DER_prodeta_jet_jet', 'DER_deltar_tau_lep', 'DER_pt_tot', 'DER_sum_pt', 'DER_pt_ratio_lep_tau', 'DER_met_phi_centrality', 'DER_lep_eta_centrality', 'PRI_met_pt', 'PRI_met_sumet', 'PRI_jet_num', 'PRI_jet_all_pt', 'PRI_tau_px', 'PRI_tau_py', 'PRI_tau_pz', 'PRI_lep_px', 'PRI_lep_py', 'PRI_lep_pz', 'PRI_jet_leading_px', 'PRI_jet_leading_py', 'PRI_jet_leading_pz', 'PRI_jet_subleading_px', 'PRI_jet_subleading_py', 'PRI_jet_subleading_pz', 'PRI_met_px', 'PRI_met_py']\n",
    "classModel = 'modelSwish'\n",
    "varSet = \"basic_features\"\n",
    "\n",
    "nSplits = 10\n",
    "ensembleSize = 10\n",
    "ensembleMode = 'loss'\n",
    "\n",
    "maxEpochs = 200\n",
    "compileArgs = {'loss':'binary_crossentropy', 'optimizer':'adam'}\n",
    "trainParams = {'epochs' : 1, 'batch_size' : 256, 'verbose' : 0}\n",
    "modelParams = {'version':classModel, 'nIn':len(classTrainFeatures), 'compileArgs':compileArgs, 'mode':'classifier'}\n",
    "\n",
    "print \"\\nTraining on\", len(classTrainFeatures), \"features:\", [var for var in classTrainFeatures]"
   ]
  },
  {
   "cell_type": "code",
   "execution_count": 3,
   "metadata": {},
   "outputs": [],
   "source": [
    "class RotationReflectionBatch(BatchYielder):\n",
    "    def __init__(self, header, datafile=None, inputPipe=None,\n",
    "                 rotate=True, reflect=True, augRotMult=4,\n",
    "                 trainTimeAug=True, testTimeAug=True):\n",
    "        self.header = header\n",
    "        self.rotateAug = rotate\n",
    "        self.reflectAug = reflect\n",
    "        self.augmented = True\n",
    "        self.augRotMult = augRotMult\n",
    "        \n",
    "        if self.rotateAug and not self.reflectAug:\n",
    "            self.augMult = self.augRotMult\n",
    "            \n",
    "        elif not self.rotateAug and self.reflectAug:\n",
    "            self.reflectAxes = ['_px', '_py', '_pz']\n",
    "            self.augMult = 8\n",
    "            \n",
    "        elif not self.rotateAug and not self.reflectAug:\n",
    "            self.augmented = False\n",
    "            trainTimeAug = False\n",
    "            testTimeAug = False\n",
    "            self.augMult = 0\n",
    "            print 'No augmentation specified!'\n",
    "            inputPipe = None\n",
    "            self.getTestBatch = self.getBatch\n",
    "            \n",
    "        else: #reflect and rotate\n",
    "            self.reflectAxes = ['_px', '_pz']\n",
    "            self.augMult = self.augRotMult*4\n",
    "            \n",
    "        self.trainTimeAug = trainTimeAug\n",
    "        self.testTimeAug = testTimeAug\n",
    "        self.inputPipe = inputPipe\n",
    "        \n",
    "        if not isinstance(datafile, types.NoneType):\n",
    "            self.addSource(datafile)\n",
    "    \n",
    "    def rotate(self, inData, vectors):\n",
    "        for vector in vectors:\n",
    "            if 'jet_leading' in vector:\n",
    "                cut = inData.PRI_jet_num >= 0.9\n",
    "                inData.loc[cut, vector + '_px'] = inData.loc[cut, vector + '_px']*np.cos(inData.loc[cut, 'aug_angle'])-inData.loc[:, vector + '_py']*np.sin(inData.loc[cut, 'aug_angle'])\n",
    "                inData.loc[cut, vector + '_py'] = inData.loc[cut, vector + '_py']*np.cos(inData.loc[cut, 'aug_angle'])+inData.loc[:, vector + '_px']*np.sin(inData.loc[cut, 'aug_angle'])\n",
    "            elif 'jet_subleading' in vector:\n",
    "                cut = inData.PRI_jet_num >= 1.9\n",
    "                inData.loc[cut, vector + '_px'] = inData.loc[cut, vector + '_px']*np.cos(inData.loc[cut, 'aug_angle'])-inData.loc[:, vector + '_py']*np.sin(inData.loc[cut, 'aug_angle'])\n",
    "                inData.loc[cut, vector + '_py'] = inData.loc[cut, vector + '_py']*np.cos(inData.loc[cut, 'aug_angle'])+inData.loc[:, vector + '_px']*np.sin(inData.loc[cut, 'aug_angle'])\n",
    "            else:\n",
    "                inData.loc[:, vector + '_px'] = inData.loc[:, vector + '_px']*np.cos(inData.loc[:, 'aug_angle'])-inData.loc[:, vector + '_py']*np.sin(inData.loc[:, 'aug_angle'])\n",
    "                inData.loc[:, vector + '_py'] = inData.loc[:, vector + '_py']*np.cos(inData.loc[:, 'aug_angle'])+inData.loc[:, vector + '_px']*np.sin(inData.loc[:, 'aug_angle'])\n",
    "    \n",
    "    def reflect(self, inData, vectors):\n",
    "        for vector in vectors:\n",
    "            for coord in self.reflectAxes:\n",
    "                try:\n",
    "                    cut = (inData['aug' + coord] == 1)\n",
    "                    if 'jet_leading' in vector:\n",
    "                        cut = cut & (inData.PRI_jet_num >= 0.9)\n",
    "                    elif 'jet_subleading' in vector:\n",
    "                        cut = cut & (inData.PRI_jet_num >= 1.9)\n",
    "                    inData.loc[cut, vector + coord] = -inData.loc[cut, vector + coord]\n",
    "                except KeyError:\n",
    "                    pass\n",
    "            \n",
    "    def getBatch(self, index, datafile=None):\n",
    "        if isinstance(datafile, types.NoneType):\n",
    "            datafile = self.source\n",
    "            \n",
    "        index = str(index)\n",
    "        weights = None\n",
    "        targets = None\n",
    "        if 'fold_' + index + '/weights' in datafile:\n",
    "            weights = np.array(datafile['fold_' + index + '/weights'])\n",
    "        if 'fold_' + index + '/targets' in datafile:\n",
    "            targets = np.array(datafile['fold_' + index + '/targets'])\n",
    "            \n",
    "        if not self.augmented:\n",
    "            return {'inputs':np.array(datafile['fold_' + index + '/inputs']),\n",
    "                    'targets':targets,\n",
    "                    'weights':weights}\n",
    "\n",
    "        if isinstance(self.inputPipe, types.NoneType):\n",
    "            inputs = pandas.DataFrame(np.array(datafile['fold_' + index + '/inputs']), columns=self.header)\n",
    "        else:\n",
    "            inputs = pandas.DataFrame(self.inputPipe.inverse_transform(np.array(datafile['fold_' + index + '/inputs'])), columns=self.header)            \n",
    "        \n",
    "        vectors = [x[:-3] for x in inputs.columns if '_px' in x]\n",
    "        if self.rotateAug:\n",
    "            inputs['aug_angle'] = 2*np.pi*np.random.random(size=len(inputs))\n",
    "            self.rotate(inputs, vectors)\n",
    "            \n",
    "        if self.reflectAug:\n",
    "            for coord in self.reflectAxes:\n",
    "                inputs['aug' + coord] = np.random.randint(0, 2, size=len(inputs))\n",
    "            self.reflect(inputs, vectors)\n",
    "            \n",
    "        if isinstance(self.inputPipe, types.NoneType):\n",
    "            inputs = inputs[self.header].values\n",
    "        else:\n",
    "            inputs = inputPipe.transform(inputs[self.header].values)\n",
    "        \n",
    "        return {'inputs':inputs,\n",
    "                'targets':targets,\n",
    "                'weights':weights}\n",
    "    \n",
    "    def getTestBatch(self, index, augIndex, datafile=None):\n",
    "        if augIndex >= self.augMult:\n",
    "            print \"Invalid augmentation index passed\", augIndex\n",
    "            return -1\n",
    "        \n",
    "        if isinstance(datafile, types.NoneType):\n",
    "            datafile = self.source\n",
    "            \n",
    "        index = str(index)\n",
    "        weights = None\n",
    "        targets = None\n",
    "        if 'fold_' + index + '/weights' in datafile:\n",
    "            weights = np.array(datafile['fold_' + index + '/weights'])\n",
    "        if 'fold_' + index + '/targets' in datafile:\n",
    "            targets = np.array(datafile['fold_' + index + '/targets'])\n",
    "            \n",
    "        if isinstance(self.inputPipe, types.NoneType):\n",
    "            inputs = pandas.DataFrame(np.array(datafile['fold_' + index + '/inputs']), columns=self.header)\n",
    "        else:\n",
    "            inputs = pandas.DataFrame(self.inputPipe.inverse_transform(np.array(datafile['fold_' + index + '/inputs'])), columns=self.header)            \n",
    "            \n",
    "        if self.reflectAug and self.rotateAug:\n",
    "            rotIndex = augIndex%self.augRotMult\n",
    "            refIndex = '{0:02b}'.format(int(augIndex/4))\n",
    "            vectors = [x[:-3] for x in inputs.columns if '_px' in x]\n",
    "            inputs['aug_angle'] = np.linspace(0, 2*np.pi, (self.augRotMult)+1)[rotIndex]\n",
    "            for i, coord in enumerate(self.reflectAxes):\n",
    "                inputs['aug' + coord] = int(refIndex[i])\n",
    "            self.rotate(inputs, vectors)\n",
    "            self.reflect(inputs, vectors)\n",
    "            \n",
    "        elif self.reflectAug:\n",
    "            refIndex = '{0:03b}'.format(int(augIndex))\n",
    "            vectors = [x[:-3] for x in inputs.columns if '_px' in x]\n",
    "            for i, coord in enumerate(self.reflectAxes):\n",
    "                inputs['aug' + coord] = int(refIndex[i])\n",
    "            self.reflect(inputs, vectors)\n",
    "            \n",
    "        else:\n",
    "            vectors = [x[:-3] for x in inputs.columns if '_px' in x]\n",
    "            inputs['aug_angle'] = np.linspace(0, 2*np.pi, (self.augRotMult)+1)[augIndex]\n",
    "            self.rotate(inputs, vectors)\n",
    "            \n",
    "        if isinstance(self.inputPipe, types.NoneType):\n",
    "            inputs = inputs[self.header].values\n",
    "        else:\n",
    "            inputs = inputPipe.transform(inputs[self.header].values)\n",
    "\n",
    "        return {'inputs':inputs,\n",
    "                'targets':targets,\n",
    "                'weights':weights}"
   ]
  },
  {
   "cell_type": "markdown",
   "metadata": {},
   "source": [
    "## Import data"
   ]
  },
  {
   "cell_type": "code",
   "execution_count": 4,
   "metadata": {},
   "outputs": [],
   "source": [
    "with open(dirLoc + 'inputPipe.pkl', 'r') as fin:\n",
    "    inputPipe = pickle.load(fin)"
   ]
  },
  {
   "cell_type": "code",
   "execution_count": 6,
   "metadata": {},
   "outputs": [],
   "source": [
    "trainData = RotationReflectionBatch(classTrainFeatures, h5py.File(dirLoc + 'train.hdf5', \"r+\"),\n",
    "                                    inputPipe=inputPipe, augRotMult=16)"
   ]
  },
  {
   "cell_type": "markdown",
   "metadata": {},
   "source": [
    "## Determine LR"
   ]
  },
  {
   "cell_type": "code",
   "execution_count": 7,
   "metadata": {
    "scrolled": false
   },
   "outputs": [
    {
     "name": "stdout",
     "output_type": "stream",
     "text": [
      "2 classes found, running in binary mode\n",
      "\n",
      "\n",
      "______________________________________\n",
      "Training finished\n",
      "Cross-validation took 1.181s \n"
     ]
    },
    {
     "data": {
      "image/png": "[encoded data removed]",
      "text/plain": [
       "<matplotlib.figure.Figure at 0x7f48e549e3d0>"
      ]
     },
     "metadata": {},
     "output_type": "display_data"
    },
    {
     "data": {
      "image/png": "[encoded data removed]",
      "text/plain": [
       "<matplotlib.figure.Figure at 0x7f48cf702390>"
      ]
     },
     "metadata": {},
     "output_type": "display_data"
    },
    {
     "name": "stdout",
     "output_type": "stream",
     "text": [
      "______________________________________\n",
      "\n"
     ]
    }
   ],
   "source": [
    "lrFinder = batchLRFind(trainData, getModel, modelParams, trainParams,\n",
    "                       lrBounds=[1e-5,1e-1], trainOnWeights=True, verbose=0)"
   ]
  },
  {
   "cell_type": "code",
   "execution_count": 8,
   "metadata": {},
   "outputs": [],
   "source": [
    "compileArgs['lr'] = 1e-3"
   ]
  },
  {
   "cell_type": "markdown",
   "metadata": {},
   "source": [
    "## Train classifier"
   ]
  },
  {
   "cell_type": "code",
   "execution_count": 9,
   "metadata": {
    "scrolled": false
   },
   "outputs": [
    {
     "name": "stdout",
     "output_type": "stream",
     "text": [
      "Using cosine annealing\n",
      "Training using weights\n",
      "Running fold 1 / 10\n",
      "2 classes found, running in binary mode\n",
      "\n",
      "1 New best found: 4.24574948219e-05\n",
      "2 New best found: 3.78675681408e-05\n",
      "3 New best found: 3.69165805748e-05\n",
      "4 New best found: 3.67288045403e-05\n",
      "5 New best found: 3.50440194986e-05\n",
      "6 New best found: 3.48061173023e-05\n",
      "7 New best found: 3.45982477617e-05\n",
      "9 New best found: 3.41114023673e-05\n",
      "10 New best found: 3.40726910951e-05\n",
      "11 New best found: 3.39769901585e-05\n",
      "12 New best found: 3.35987479466e-05\n",
      "15 New best found: 3.34178529628e-05\n",
      "19 New best found: 3.33548160289e-05\n",
      "21 New best found: 3.32574457962e-05\n",
      "22 New best found: 3.30857548645e-05\n",
      "23 New best found: 3.30611007061e-05\n",
      "24 New best found: 3.30139610629e-05\n",
      "25 New best found: 3.2827289946e-05\n",
      "28 New best found: 3.27189354471e-05\n",
      "30 New best found: 3.26890618341e-05\n",
      "42 New best found: 3.25960434683e-05\n",
      "43 New best found: 3.25729594297e-05\n",
      "44 New best found: 3.2269885227e-05\n",
      "51 New best found: 3.20771008729e-05\n",
      "54 New best found: 3.20562040608e-05\n",
      "55 New best found: 3.19549779307e-05\n",
      "86 New best found: 3.19394381815e-05\n",
      "88 New best found: 3.18890102595e-05\n",
      "90 New best found: 3.1618532044e-05\n",
      "99 New best found: 3.15424408772e-05\n",
      "107 New best found: 3.14940020668e-05\n",
      "115 New best found: 3.14568373725e-05\n",
      "118 New best found: 3.14275953137e-05\n",
      "181 New best found: 3.14156374746e-05\n",
      "196 New best found: 3.13780415836e-05\n",
      "200 New best found: 3.13382133232e-05\n",
      "201 New best found: 3.12591436287e-05\n",
      "204 New best found: 3.12215931769e-05\n",
      "215 New best found: 3.12037506036e-05\n",
      "225 New best found: 3.11731097757e-05\n",
      "228 New best found: 3.11519432421e-05\n",
      "242 New best found: 3.10542733943e-05\n",
      "CosineAnneal stalling after 511 epochs, entering redux decay at LR=2.52846598824e-05\n",
      "Early stopping after 521 epochs\n",
      "Score is: {'loss': 3.1054273394334784e-05, 'AUC': 0.09878856157309279, 'wAUC': 0.06131772766906507}\n",
      "Fold took 570.813s\n",
      "\n",
      "Running fold 2 / 10\n",
      "1 New best found: 4.3471952888e-05\n",
      "2 New best found: 3.73596960935e-05\n",
      "3 New best found: 3.69227398505e-05\n",
      "4 New best found: 3.6473356501e-05\n",
      "5 New best found: 3.54683066873e-05\n",
      "6 New best found: 3.48629760525e-05\n",
      "7 New best found: 3.47825470518e-05\n",
      "9 New best found: 3.42581018475e-05\n",
      "10 New best found: 3.38310754855e-05\n",
      "11 New best found: 3.36368117953e-05\n",
      "13 New best found: 3.33215400512e-05\n",
      "19 New best found: 3.32964734742e-05\n",
      "20 New best found: 3.31487383197e-05\n",
      "22 New best found: 3.31362566842e-05\n",
      "23 New best found: 3.29889771574e-05\n",
      "25 New best found: 3.27302428681e-05\n",
      "26 New best found: 3.25814762063e-05\n",
      "28 New best found: 3.24590904217e-05\n",
      "30 New best found: 3.24324191141e-05\n",
      "31 New best found: 3.24204996123e-05\n",
      "42 New best found: 3.22289253035e-05\n",
      "43 New best found: 3.21611221428e-05\n",
      "44 New best found: 3.19350016609e-05\n",
      "49 New best found: 3.19125517229e-05\n",
      "52 New best found: 3.17901095448e-05\n",
      "55 New best found: 3.17894297378e-05\n",
      "56 New best found: 3.17390456851e-05\n",
      "58 New best found: 3.16893752092e-05\n",
      "59 New best found: 3.16350841367e-05\n",
      "61 New best found: 3.1576742237e-05\n",
      "84 New best found: 3.15510764726e-05\n",
      "93 New best found: 3.14708481888e-05\n",
      "95 New best found: 3.14231322898e-05\n",
      "98 New best found: 3.13185210035e-05\n",
      "104 New best found: 3.1279358687e-05\n",
      "106 New best found: 3.1235498179e-05\n",
      "107 New best found: 3.11994309316e-05\n",
      "115 New best found: 3.11483501252e-05\n",
      "118 New best found: 3.10811633862e-05\n",
      "195 New best found: 3.10481809306e-05\n",
      "196 New best found: 3.09817342542e-05\n",
      "205 New best found: 3.09608216321e-05\n",
      "214 New best found: 3.09352625674e-05\n",
      "217 New best found: 3.09297804796e-05\n",
      "223 New best found: 3.08583091866e-05\n",
      "235 New best found: 3.08458712644e-05\n",
      "245 New best found: 3.07799437413e-05\n",
      "385 New best found: 3.07367510595e-05\n",
      "415 New best found: 3.07349628321e-05\n",
      "440 New best found: 3.0715338361e-05\n",
      "442 New best found: 3.07013405181e-05\n",
      "448 New best found: 3.06980366006e-05\n",
      "452 New best found: 3.06304588862e-05\n",
      "479 New best found: 3.06302501579e-05\n",
      "CosineAnneal stalling after 1023 epochs, entering redux decay at LR=3.80899623067e-05\n",
      "Early stopping after 1033 epochs\n",
      "Score is: {'loss': 3.063025015785535e-05, 'AUC': 0.09269105693693303, 'wAUC': 0.05890605851788422}\n",
      "Fold took 1143.776s\n",
      "\n",
      "Running fold 3 / 10\n",
      "1 New best found: 4.37967506124e-05\n",
      "2 New best found: 3.86324015592e-05\n",
      "3 New best found: 3.76426169083e-05\n",
      "4 New best found: 3.65299265166e-05\n",
      "5 New best found: 3.56051235783e-05\n",
      "6 New best found: 3.53209351564e-05\n",
      "8 New best found: 3.52492354972e-05\n",
      "10 New best found: 3.48531965768e-05\n",
      "11 New best found: 3.47913640428e-05\n",
      "12 New best found: 3.4383391823e-05\n",
      "13 New best found: 3.42224510551e-05\n",
      "14 New best found: 3.42214014838e-05\n",
      "18 New best found: 3.41850971624e-05\n",
      "19 New best found: 3.41413095068e-05\n",
      "21 New best found: 3.39836238781e-05\n",
      "22 New best found: 3.38728971649e-05\n",
      "23 New best found: 3.36557310911e-05\n",
      "24 New best found: 3.35303828798e-05\n",
      "27 New best found: 3.34262342433e-05\n",
      "28 New best found: 3.34076978655e-05\n",
      "30 New best found: 3.32417297295e-05\n",
      "42 New best found: 3.30953730287e-05\n",
      "43 New best found: 3.30092526632e-05\n",
      "47 New best found: 3.29899648145e-05\n",
      "48 New best found: 3.29842089079e-05\n",
      "49 New best found: 3.29518375442e-05\n",
      "50 New best found: 3.2879020948e-05\n",
      "52 New best found: 3.27199895174e-05\n",
      "56 New best found: 3.26168334675e-05\n",
      "88 New best found: 3.25345052515e-05\n",
      "90 New best found: 3.24884958921e-05\n",
      "97 New best found: 3.24336613929e-05\n",
      "98 New best found: 3.23613289475e-05\n",
      "107 New best found: 3.22977270158e-05\n",
      "110 New best found: 3.22254066283e-05\n",
      "114 New best found: 3.22089945332e-05\n",
      "178 New best found: 3.21375471654e-05\n",
      "179 New best found: 3.20709816312e-05\n",
      "199 New best found: 3.20462539334e-05\n",
      "201 New best found: 3.19896196612e-05\n",
      "210 New best found: 3.1983017875e-05\n",
      "211 New best found: 3.19184982865e-05\n",
      "214 New best found: 3.18952244933e-05\n",
      "220 New best found: 3.18885206215e-05\n",
      "235 New best found: 3.18753283198e-05\n",
      "241 New best found: 3.18657549025e-05\n",
      "245 New best found: 3.18298420421e-05\n",
      "449 New best found: 3.18211107254e-05\n",
      "475 New best found: 3.17917344789e-05\n",
      "CosineAnneal stalling after 1023 epochs, entering redux decay at LR=4.80385670586e-05\n",
      "1025 New best found: 3.17784699306e-05\n",
      "Early stopping after 1035 epochs\n",
      "Score is: {'loss': 3.1778469930613926e-05, 'AUC': 0.10055971298742639, 'wAUC': 0.06386952583404826}\n",
      "Fold took 1153.870s\n",
      "\n",
      "Running fold 4 / 10\n",
      "1 New best found: 4.31169361711e-05\n",
      "2 New best found: 3.83524925915e-05\n",
      "3 New best found: 3.78240873431e-05\n",
      "4 New best found: 3.67200941495e-05\n",
      "5 New best found: 3.6400701997e-05\n",
      "6 New best found: 3.5889730297e-05\n",
      "7 New best found: 3.57491430612e-05\n",
      "9 New best found: 3.55900611688e-05\n",
      "10 New best found: 3.53059099989e-05\n",
      "11 New best found: 3.49758814392e-05\n",
      "12 New best found: 3.4926136083e-05\n",
      "13 New best found: 3.47087361592e-05\n",
      "14 New best found: 3.46132083544e-05\n",
      "15 New best found: 3.45313303032e-05\n",
      "20 New best found: 3.45018142057e-05\n",
      "21 New best found: 3.42893113093e-05\n",
      "24 New best found: 3.42698130084e-05\n",
      "25 New best found: 3.40443311065e-05\n",
      "26 New best found: 3.40425922972e-05\n",
      "28 New best found: 3.38965264081e-05\n",
      "29 New best found: 3.37008056702e-05\n",
      "45 New best found: 3.36465596509e-05\n",
      "46 New best found: 3.35965913791e-05\n",
      "47 New best found: 3.35667152472e-05\n",
      "51 New best found: 3.34002296692e-05\n",
      "53 New best found: 3.33672569118e-05\n",
      "54 New best found: 3.33672168741e-05\n",
      "56 New best found: 3.33566106088e-05\n",
      "57 New best found: 3.31850051628e-05\n",
      "60 New best found: 3.31554447226e-05\n",
      "92 New best found: 3.30876804373e-05\n",
      "96 New best found: 3.30451912461e-05\n",
      "101 New best found: 3.30176329951e-05\n",
      "102 New best found: 3.29646292578e-05\n",
      "103 New best found: 3.29627216931e-05\n",
      "107 New best found: 3.29291224819e-05\n",
      "111 New best found: 3.28146405828e-05\n",
      "122 New best found: 3.28027900095e-05\n",
      "127 New best found: 3.27790993573e-05\n",
      "192 New best found: 3.2757669126e-05\n",
      "210 New best found: 3.275235212e-05\n",
      "211 New best found: 3.27249800958e-05\n",
      "214 New best found: 3.26847436598e-05\n",
      "218 New best found: 3.2644159484e-05\n",
      "220 New best found: 3.25965754619e-05\n",
      "242 New best found: 3.25772645419e-05\n",
      "CosineAnneal stalling after 511 epochs, entering redux decay at LR=2.52846598824e-05\n",
      "Early stopping after 521 epochs\n",
      "Score is: {'loss': 3.257726454186965e-05, 'AUC': 0.09893882989167979, 'wAUC': 0.06670121943994978}\n",
      "Fold took 617.829s\n",
      "\n",
      "Running fold 5 / 10\n"
     ]
    },
    {
     "name": "stdout",
     "output_type": "stream",
     "text": [
      "1 New best found: 4.38539886785e-05\n",
      "2 New best found: 3.75306353046e-05\n",
      "3 New best found: 3.68671216082e-05\n",
      "4 New best found: 3.65383586746e-05\n",
      "5 New best found: 3.57725320421e-05\n",
      "6 New best found: 3.48800220938e-05\n",
      "9 New best found: 3.47856377701e-05\n",
      "10 New best found: 3.46402410866e-05\n",
      "11 New best found: 3.42263892283e-05\n",
      "12 New best found: 3.3939288333e-05\n",
      "13 New best found: 3.38536275289e-05\n",
      "15 New best found: 3.38423890673e-05\n",
      "16 New best found: 3.38342999546e-05\n",
      "18 New best found: 3.3830179574e-05\n",
      "19 New best found: 3.35994079341e-05\n",
      "23 New best found: 3.35585991888e-05\n",
      "24 New best found: 3.3358081775e-05\n",
      "26 New best found: 3.30658765616e-05\n",
      "28 New best found: 3.30040891756e-05\n",
      "29 New best found: 3.29984919507e-05\n",
      "30 New best found: 3.29588386294e-05\n",
      "41 New best found: 3.27530704288e-05\n",
      "46 New best found: 3.26595199779e-05\n",
      "48 New best found: 3.25306722824e-05\n",
      "51 New best found: 3.24413778878e-05\n",
      "53 New best found: 3.23184984802e-05\n",
      "57 New best found: 3.2301032869e-05\n",
      "61 New best found: 3.22341692022e-05\n",
      "87 New best found: 3.21299357163e-05\n",
      "91 New best found: 3.20822692264e-05\n",
      "94 New best found: 3.20603397234e-05\n",
      "98 New best found: 3.19280384005e-05\n",
      "101 New best found: 3.19138752673e-05\n",
      "109 New best found: 3.18997507754e-05\n",
      "111 New best found: 3.1841008909e-05\n",
      "112 New best found: 3.17654408017e-05\n",
      "118 New best found: 3.17280803902e-05\n",
      "120 New best found: 3.16902629728e-05\n",
      "182 New best found: 3.16832365445e-05\n",
      "190 New best found: 3.16742258868e-05\n",
      "197 New best found: 3.16006535936e-05\n",
      "212 New best found: 3.15936329396e-05\n",
      "215 New best found: 3.1585325441e-05\n",
      "217 New best found: 3.15484974977e-05\n",
      "229 New best found: 3.1479140681e-05\n",
      "230 New best found: 3.14417971241e-05\n",
      "247 New best found: 3.14284776156e-05\n",
      "444 New best found: 3.14195745662e-05\n",
      "CosineAnneal stalling after 1023 epochs, entering redux decay at LR=0.000159756410402\n",
      "Early stopping after 1033 epochs\n",
      "Score is: {'loss': 3.14195745661631e-05, 'AUC': 0.09552160256839692, 'wAUC': 0.06285573823934709}\n",
      "Fold took 1190.160s\n",
      "\n",
      "Running fold 6 / 10\n"
     ]
    },
    {
     "name": "stderr",
     "output_type": "stream",
     "text": [
      "/home/giles/anaconda2/lib/python2.7/site-packages/keras/callbacks.py:120: UserWarning: Method on_batch_end() is slow compared to the batch update (0.100292). Check your callbacks.\n",
      "  % delta_t_median)\n"
     ]
    },
    {
     "name": "stdout",
     "output_type": "stream",
     "text": [
      "1 New best found: 4.18578619987e-05\n",
      "2 New best found: 3.72292863319e-05\n",
      "3 New best found: 3.62304949394e-05\n",
      "5 New best found: 3.52558618968e-05\n",
      "6 New best found: 3.42522986249e-05\n",
      "9 New best found: 3.37317552878e-05\n",
      "11 New best found: 3.33674908218e-05\n",
      "12 New best found: 3.3254132586e-05\n",
      "14 New best found: 3.31477288461e-05\n",
      "15 New best found: 3.30720814234e-05\n",
      "19 New best found: 3.26754976728e-05\n",
      "21 New best found: 3.26064024569e-05\n",
      "23 New best found: 3.24684760455e-05\n",
      "25 New best found: 3.23955592183e-05\n",
      "27 New best found: 3.21416202278e-05\n",
      "30 New best found: 3.2092187906e-05\n",
      "43 New best found: 3.20787440187e-05\n",
      "45 New best found: 3.20590141925e-05\n",
      "46 New best found: 3.1954002334e-05\n",
      "50 New best found: 3.17382592576e-05\n",
      "53 New best found: 3.17332637184e-05\n",
      "54 New best found: 3.16116717511e-05\n",
      "59 New best found: 3.14904903997e-05\n",
      "83 New best found: 3.1475068124e-05\n",
      "91 New best found: 3.14247653529e-05\n",
      "97 New best found: 3.13426920773e-05\n",
      "101 New best found: 3.13353293469e-05\n",
      "108 New best found: 3.1260176452e-05\n",
      "110 New best found: 3.12295721852e-05\n",
      "113 New best found: 3.1206552825e-05\n",
      "116 New best found: 3.12008268817e-05\n",
      "118 New best found: 3.1193388535e-05\n",
      "121 New best found: 3.1174733399e-05\n",
      "122 New best found: 3.1137867661e-05\n",
      "123 New best found: 3.11247458832e-05\n",
      "126 New best found: 3.1105301968e-05\n",
      "194 New best found: 3.10929159633e-05\n",
      "198 New best found: 3.09914982962e-05\n",
      "216 New best found: 3.09287698859e-05\n",
      "226 New best found: 3.09273944006e-05\n",
      "236 New best found: 3.09087483483e-05\n",
      "245 New best found: 3.08960636478e-05\n",
      "247 New best found: 3.08655489922e-05\n",
      "CosineAnneal stalling after 511 epochs, entering redux decay at LR=9.6376887615e-06\n",
      "Early stopping after 521 epochs\n",
      "Score is: {'loss': 3.0865548992241726e-05, 'AUC': 0.09689716301029294, 'wAUC': 0.0599986348511552}\n",
      "Fold took 620.542s\n",
      "\n",
      "Running fold 7 / 10\n"
     ]
    },
    {
     "name": "stderr",
     "output_type": "stream",
     "text": [
      "/home/giles/anaconda2/lib/python2.7/site-packages/keras/callbacks.py:120: UserWarning: Method on_batch_end() is slow compared to the batch update (0.128379). Check your callbacks.\n",
      "  % delta_t_median)\n"
     ]
    },
    {
     "name": "stdout",
     "output_type": "stream",
     "text": [
      "1 New best found: 4.47930761421e-05\n",
      "2 New best found: 3.99148253879e-05\n",
      "3 New best found: 3.92244434288e-05\n",
      "4 New best found: 3.74218771687e-05\n",
      "5 New best found: 3.65779711279e-05\n",
      "6 New best found: 3.648641788e-05\n",
      "7 New best found: 3.64547649729e-05\n",
      "8 New best found: 3.6309404558e-05\n",
      "9 New best found: 3.61816522049e-05\n",
      "10 New best found: 3.5639180485e-05\n",
      "11 New best found: 3.5443719881e-05\n",
      "12 New best found: 3.50601253676e-05\n",
      "13 New best found: 3.49497488724e-05\n",
      "14 New best found: 3.48914126149e-05\n",
      "15 New best found: 3.48597753495e-05\n",
      "17 New best found: 3.4730258896e-05\n",
      "20 New best found: 3.45433724135e-05\n",
      "21 New best found: 3.43546262985e-05\n",
      "23 New best found: 3.41148165864e-05\n",
      "25 New best found: 3.40133120393e-05\n",
      "26 New best found: 3.3806196209e-05\n",
      "29 New best found: 3.37823829326e-05\n",
      "30 New best found: 3.3762663471e-05\n",
      "39 New best found: 3.36355497321e-05\n",
      "43 New best found: 3.33743013356e-05\n",
      "48 New best found: 3.32033452769e-05\n",
      "52 New best found: 3.30873109785e-05\n",
      "53 New best found: 3.2988036341e-05\n",
      "57 New best found: 3.28740070816e-05\n",
      "62 New best found: 3.28109947242e-05\n",
      "79 New best found: 3.28035407759e-05\n",
      "86 New best found: 3.26420302394e-05\n",
      "94 New best found: 3.25832094712e-05\n",
      "98 New best found: 3.25047327932e-05\n",
      "106 New best found: 3.24970108771e-05\n",
      "107 New best found: 3.24385136495e-05\n",
      "112 New best found: 3.24241390762e-05\n",
      "116 New best found: 3.23173970836e-05\n",
      "124 New best found: 3.22899056521e-05\n",
      "180 New best found: 3.22854400992e-05\n",
      "187 New best found: 3.22264441134e-05\n",
      "190 New best found: 3.22066726668e-05\n",
      "215 New best found: 3.21802440683e-05\n",
      "224 New best found: 3.20415573919e-05\n",
      "395 New best found: 3.20013486958e-05\n",
      "498 New best found: 3.19819314292e-05\n",
      "502 New best found: 3.19623964879e-05\n",
      "CosineAnneal stalling after 1023 epochs, entering redux decay at LR=3.05508194393e-06\n",
      "Early stopping after 1033 epochs\n",
      "Score is: {'loss': 3.1962396487919885e-05, 'AUC': 0.09994530854757522, 'wAUC': 0.06488025182048296}\n",
      "Fold took 1248.761s\n",
      "\n",
      "Running fold 8 / 10\n"
     ]
    },
    {
     "name": "stderr",
     "output_type": "stream",
     "text": [
      "/home/giles/anaconda2/lib/python2.7/site-packages/keras/callbacks.py:120: UserWarning: Method on_batch_end() is slow compared to the batch update (0.188398). Check your callbacks.\n",
      "  % delta_t_median)\n"
     ]
    },
    {
     "name": "stdout",
     "output_type": "stream",
     "text": [
      "1 New best found: 4.12874326476e-05\n",
      "2 New best found: 3.65885004355e-05\n",
      "3 New best found: 3.62965146416e-05\n",
      "4 New best found: 3.50241709454e-05\n",
      "5 New best found: 3.47932818771e-05\n",
      "6 New best found: 3.42085509387e-05\n",
      "7 New best found: 3.41198004489e-05\n",
      "10 New best found: 3.37209632048e-05\n",
      "11 New best found: 3.33762476341e-05\n",
      "13 New best found: 3.31380528658e-05\n",
      "14 New best found: 3.30501683387e-05\n",
      "21 New best found: 3.27598829845e-05\n",
      "23 New best found: 3.26666219083e-05\n",
      "24 New best found: 3.237704801e-05\n",
      "30 New best found: 3.2372746651e-05\n",
      "31 New best found: 3.23361076759e-05\n",
      "38 New best found: 3.22989805494e-05\n",
      "43 New best found: 3.22628287897e-05\n",
      "44 New best found: 3.22447904149e-05\n",
      "45 New best found: 3.21679958741e-05\n",
      "47 New best found: 3.2036140443e-05\n",
      "50 New best found: 3.19788437482e-05\n",
      "52 New best found: 3.19137288412e-05\n",
      "58 New best found: 3.17668355042e-05\n",
      "59 New best found: 3.17597328656e-05\n",
      "62 New best found: 3.17350191841e-05\n",
      "87 New best found: 3.1667037128e-05\n",
      "99 New best found: 3.15997089275e-05\n",
      "105 New best found: 3.15564193199e-05\n",
      "106 New best found: 3.1551658602e-05\n",
      "111 New best found: 3.15427427638e-05\n",
      "112 New best found: 3.14380027342e-05\n",
      "123 New best found: 3.1434187576e-05\n",
      "126 New best found: 3.14274595837e-05\n",
      "141 New best found: 3.14018454548e-05\n",
      "170 New best found: 3.13010893131e-05\n",
      "195 New best found: 3.12881024986e-05\n",
      "203 New best found: 3.12272931252e-05\n",
      "211 New best found: 3.11962986986e-05\n",
      "221 New best found: 3.11667649375e-05\n",
      "233 New best found: 3.11625902232e-05\n",
      "240 New best found: 3.11246369605e-05\n",
      "242 New best found: 3.10468750683e-05\n",
      "CosineAnneal stalling after 511 epochs, entering redux decay at LR=2.52846598824e-05\n",
      "Early stopping after 521 epochs\n",
      "Score is: {'loss': 3.104687506827571e-05, 'AUC': 0.09690593574950168, 'wAUC': 0.061060186985037124}\n",
      "Fold took 626.041s\n",
      "\n",
      "Running fold 9 / 10\n"
     ]
    },
    {
     "name": "stderr",
     "output_type": "stream",
     "text": [
      "/home/giles/anaconda2/lib/python2.7/site-packages/keras/callbacks.py:120: UserWarning: Method on_batch_end() is slow compared to the batch update (0.134212). Check your callbacks.\n",
      "  % delta_t_median)\n"
     ]
    },
    {
     "name": "stdout",
     "output_type": "stream",
     "text": [
      "1 New best found: 4.34063634862e-05\n",
      "2 New best found: 3.86412767593e-05\n",
      "3 New best found: 3.80909779904e-05\n",
      "4 New best found: 3.78543935791e-05\n",
      "5 New best found: 3.71222824184e-05\n",
      "6 New best found: 3.64626300035e-05\n",
      "7 New best found: 3.63914482335e-05\n",
      "8 New best found: 3.63337810776e-05\n",
      "9 New best found: 3.59331345172e-05\n",
      "11 New best found: 3.56968973699e-05\n",
      "12 New best found: 3.54731491617e-05\n",
      "13 New best found: 3.52191566874e-05\n",
      "15 New best found: 3.52098923208e-05\n",
      "19 New best found: 3.49608184525e-05\n",
      "22 New best found: 3.48191085378e-05\n",
      "23 New best found: 3.46909819732e-05\n",
      "24 New best found: 3.43632442286e-05\n",
      "26 New best found: 3.42608400787e-05\n",
      "28 New best found: 3.42473165714e-05\n",
      "30 New best found: 3.4190034207e-05\n",
      "31 New best found: 3.41327143324e-05\n",
      "38 New best found: 3.3963639946e-05\n",
      "45 New best found: 3.39376063243e-05\n",
      "48 New best found: 3.37467744918e-05\n",
      "49 New best found: 3.36946871484e-05\n",
      "51 New best found: 3.35380843575e-05\n",
      "52 New best found: 3.35220466044e-05\n",
      "55 New best found: 3.34858486514e-05\n",
      "58 New best found: 3.34605793487e-05\n",
      "61 New best found: 3.34594309238e-05\n",
      "62 New best found: 3.33874487696e-05\n",
      "93 New best found: 3.32454105814e-05\n",
      "94 New best found: 3.32042176757e-05\n",
      "102 New best found: 3.31182474248e-05\n",
      "108 New best found: 3.30429500091e-05\n",
      "112 New best found: 3.30203081346e-05\n",
      "115 New best found: 3.30193286725e-05\n",
      "116 New best found: 3.29764652038e-05\n",
      "123 New best found: 3.2963787721e-05\n",
      "125 New best found: 3.29194603234e-05\n",
      "182 New best found: 3.28980884436e-05\n",
      "191 New best found: 3.28817758254e-05\n",
      "193 New best found: 3.28753092268e-05\n",
      "198 New best found: 3.28723847342e-05\n",
      "204 New best found: 3.27140296102e-05\n",
      "217 New best found: 3.26984884424e-05\n",
      "220 New best found: 3.26369825195e-05\n",
      "228 New best found: 3.26170589699e-05\n",
      "233 New best found: 3.25775825661e-05\n",
      "240 New best found: 3.25638999079e-05\n",
      "391 New best found: 3.25099888879e-05\n",
      "482 New best found: 3.2495394603e-05\n",
      "486 New best found: 3.2491050594e-05\n",
      "493 New best found: 3.24550809953e-05\n",
      "CosineAnneal stalling after 1023 epochs, entering redux decay at LR=1.2165958441e-05\n",
      "Early stopping after 1033 epochs\n",
      "Score is: {'loss': 3.2455080995326304e-05, 'AUC': 0.10148920804525696, 'wAUC': 0.06603349571536077}\n",
      "Fold took 1215.942s\n",
      "\n",
      "Running fold 10 / 10\n"
     ]
    },
    {
     "name": "stderr",
     "output_type": "stream",
     "text": [
      "/home/giles/anaconda2/lib/python2.7/site-packages/keras/callbacks.py:120: UserWarning: Method on_batch_end() is slow compared to the batch update (0.185574). Check your callbacks.\n",
      "  % delta_t_median)\n"
     ]
    },
    {
     "name": "stdout",
     "output_type": "stream",
     "text": [
      "1 New best found: 4.42277832081e-05\n",
      "2 New best found: 3.96417016269e-05\n",
      "3 New best found: 3.89692155333e-05\n",
      "4 New best found: 3.79375384642e-05\n",
      "5 New best found: 3.76428027064e-05\n",
      "6 New best found: 3.72976285503e-05\n",
      "7 New best found: 3.68697700954e-05\n",
      "9 New best found: 3.66776013382e-05\n",
      "10 New best found: 3.61402271758e-05\n",
      "11 New best found: 3.61303208309e-05\n",
      "12 New best found: 3.59195816319e-05\n",
      "13 New best found: 3.57113193126e-05\n",
      "14 New best found: 3.56725677931e-05\n",
      "15 New best found: 3.56588951017e-05\n",
      "19 New best found: 3.55516144667e-05\n",
      "20 New best found: 3.54871501327e-05\n",
      "22 New best found: 3.50228945632e-05\n",
      "23 New best found: 3.49433353356e-05\n",
      "24 New best found: 3.48965373129e-05\n",
      "25 New best found: 3.48168371487e-05\n",
      "26 New best found: 3.47719902692e-05\n",
      "27 New best found: 3.46357213336e-05\n",
      "30 New best found: 3.45703377269e-05\n",
      "41 New best found: 3.44925185699e-05\n",
      "42 New best found: 3.43686776758e-05\n",
      "47 New best found: 3.4268432523e-05\n",
      "48 New best found: 3.3985150093e-05\n",
      "53 New best found: 3.38541139772e-05\n",
      "61 New best found: 3.38473554361e-05\n",
      "63 New best found: 3.38417519406e-05\n",
      "88 New best found: 3.38175494375e-05\n",
      "90 New best found: 3.37427784703e-05\n",
      "92 New best found: 3.37215867202e-05\n",
      "95 New best found: 3.35212057545e-05\n",
      "101 New best found: 3.34870653985e-05\n",
      "110 New best found: 3.34524744468e-05\n",
      "125 New best found: 3.34155557076e-05\n",
      "176 New best found: 3.3390540641e-05\n",
      "192 New best found: 3.3343508546e-05\n",
      "194 New best found: 3.32875227561e-05\n",
      "201 New best found: 3.32817187923e-05\n",
      "202 New best found: 3.32753725787e-05\n",
      "212 New best found: 3.3213538438e-05\n",
      "216 New best found: 3.31997583807e-05\n",
      "225 New best found: 3.31664488417e-05\n",
      "238 New best found: 3.31446332383e-05\n",
      "465 New best found: 3.31116676648e-05\n",
      "CosineAnneal stalling after 1023 epochs, entering redux decay at LR=7.76147756904e-05\n",
      "1030 New best found: 3.30560655051e-05\n",
      "Early stopping after 1040 epochs\n",
      "Score is: {'loss': 3.3056065505063494e-05, 'AUC': 0.1022221032942876, 'wAUC': 0.06913575344583567}\n",
      "Fold took 1175.862s\n",
      "\n",
      "\n",
      "______________________________________\n",
      "Training finished\n",
      "Cross-validation took 9564.710s \n"
     ]
    },
    {
     "data": {
      "image/png": "[encoded data removed]",
      "text/plain": [
       "<matplotlib.figure.Figure at 0x7f48a6d4da50>"
      ]
     },
     "metadata": {},
     "output_type": "display_data"
    },
    {
     "name": "stdout",
     "output_type": "stream",
     "text": [
      "Mean loss = 3.17e-05 +- 2e-07\n",
      "Mean AUC = 0.0984 +- 0.0009\n",
      "Mean wAUC = 0.0635 +- 0.001\n",
      "______________________________________\n",
      "\n"
     ]
    },
    {
     "data": {
      "text/plain": [
       "<matplotlib.figure.Figure at 0x7f48a65c1e90>"
      ]
     },
     "metadata": {},
     "output_type": "display_data"
    }
   ],
   "source": [
    "results, histories = batchTrainClassifier(trainData, nSplits, getModel, modelParams, trainParams,\n",
    "                                          patience=2, cosAnnealMult=2, reduxDecay=True, trainOnWeights=True,\n",
    "                                          maxEpochs=maxEpochs, verbose=1)"
   ]
  },
  {
   "cell_type": "markdown",
   "metadata": {},
   "source": [
    "## Construct ensemble"
   ]
  },
  {
   "cell_type": "code",
   "execution_count": 196,
   "metadata": {},
   "outputs": [],
   "source": [
    "with open('train_weights/resultsFile.pkl', 'r') as fin:   \n",
    "    results = pickle.load(fin)"
   ]
  },
  {
   "cell_type": "code",
   "execution_count": 197,
   "metadata": {},
   "outputs": [
    {
     "name": "stdout",
     "output_type": "stream",
     "text": [
      "Choosing ensemble by loss\n",
      "Model 0 is 1 with loss = 3.063025015785535e-05\n",
      "Model 1 is 5 with loss = 3.0865548992241726e-05\n",
      "Model 2 is 7 with loss = 3.104687506827571e-05\n",
      "Model 3 is 0 with loss = 3.1054273394334784e-05\n",
      "Model 4 is 4 with loss = 3.14195745661631e-05\n",
      "Model 5 is 2 with loss = 3.1778469930613926e-05\n",
      "Model 6 is 6 with loss = 3.1962396487919885e-05\n",
      "Model 7 is 8 with loss = 3.2455080995326304e-05\n",
      "Model 8 is 3 with loss = 3.257726454186965e-05\n",
      "Model 9 is 9 with loss = 3.3056065505063494e-05\n"
     ]
    }
   ],
   "source": [
    "ensemble, weights = assembleEnsemble(results, ensembleSize, ensembleMode, compileArgs)"
   ]
  },
  {
   "cell_type": "markdown",
   "metadata": {},
   "source": [
    "## Response on val data"
   ]
  },
  {
   "cell_type": "code",
   "execution_count": 12,
   "metadata": {},
   "outputs": [],
   "source": [
    "with open(dirLoc + 'inputPipe.pkl', 'r') as fin:\n",
    "    inputPipe = pickle.load(fin)"
   ]
  },
  {
   "cell_type": "code",
   "execution_count": 67,
   "metadata": {},
   "outputs": [],
   "source": [
    "valData = RotationReflectionBatch(classTrainFeatures, h5py.File(dirLoc + 'val.hdf5', \"r+\"), inputPipe=inputPipe,\n",
    "                                  rotate = False, reflect = True, augRotMult=16)"
   ]
  },
  {
   "cell_type": "code",
   "execution_count": 68,
   "metadata": {
    "scrolled": true
   },
   "outputs": [],
   "source": [
    "pred = []\n",
    "for i in xrange(10):\n",
    "    tmpPred = []\n",
    "    for aug in range(valData.augMult):\n",
    "        batch = valData.getTestBatch(i, aug)['inputs']\n",
    "        tmpPred.append(ensemblePredict(batch, ensemble, weights, n=1))\n",
    "    pred.append(np.array(tmpPred))"
   ]
  },
  {
   "cell_type": "code",
   "execution_count": 69,
   "metadata": {},
   "outputs": [],
   "source": [
    "tPred = np.concatenate(pred, axis=1)"
   ]
  },
  {
   "cell_type": "code",
   "execution_count": 70,
   "metadata": {},
   "outputs": [],
   "source": [
    "df = pandas.DataFrame(getFeature('targets', valData.source), columns=['target'])"
   ]
  },
  {
   "cell_type": "code",
   "execution_count": 71,
   "metadata": {},
   "outputs": [],
   "source": [
    "for p in xrange(tPred.shape[0]):\n",
    "    df['pred_'+ str(p)] = tPred[p,:]"
   ]
  },
  {
   "cell_type": "code",
   "execution_count": 72,
   "metadata": {},
   "outputs": [],
   "source": [
    "df.loc[:,'pred_mean'] = np.mean(df[[x for x in df.columns if 'pred' in x]], axis=1)"
   ]
  },
  {
   "cell_type": "markdown",
   "metadata": {},
   "source": [
    "### Rot 8"
   ]
  },
  {
   "cell_type": "code",
   "execution_count": 19,
   "metadata": {},
   "outputs": [
    {
     "data": {
      "text/plain": [
       "0.5153221125943123"
      ]
     },
     "execution_count": 19,
     "metadata": {},
     "output_type": "execute_result"
    }
   ],
   "source": [
    "len(df[(df.target == 1) & (df.pred_0 > df.pred_mean)])/len(df[(df.target == 1)])"
   ]
  },
  {
   "cell_type": "code",
   "execution_count": 20,
   "metadata": {},
   "outputs": [
    {
     "data": {
      "text/plain": [
       "0.5098565761367104"
      ]
     },
     "execution_count": 20,
     "metadata": {},
     "output_type": "execute_result"
    }
   ],
   "source": [
    "len(df[(df.target == 0) & (df.pred_0 < df.pred_mean)])/len(df[(df.target == 0)])"
   ]
  },
  {
   "cell_type": "code",
   "execution_count": 21,
   "metadata": {
    "scrolled": false
   },
   "outputs": [
    {
     "data": {
      "text/plain": [
       "0.51174"
      ]
     },
     "execution_count": 21,
     "metadata": {},
     "output_type": "execute_result"
    }
   ],
   "source": [
    "(len(df[(df.target == 0) & (df.pred_0 < df.pred_mean)])+len(df[(df.target == 1) & (df.pred_0 > df.pred_mean)]))/len(df)"
   ]
  },
  {
   "cell_type": "markdown",
   "metadata": {},
   "source": [
    "### Ref"
   ]
  },
  {
   "cell_type": "code",
   "execution_count": 73,
   "metadata": {},
   "outputs": [
    {
     "data": {
      "text/plain": [
       "0.5248403946604759"
      ]
     },
     "execution_count": 73,
     "metadata": {},
     "output_type": "execute_result"
    }
   ],
   "source": [
    "len(df[(df.target == 1) & (df.pred_0 > df.pred_mean)])/len(df[(df.target == 1)])"
   ]
  },
  {
   "cell_type": "code",
   "execution_count": 74,
   "metadata": {},
   "outputs": [
    {
     "data": {
      "text/plain": [
       "0.5193774794018919"
      ]
     },
     "execution_count": 74,
     "metadata": {},
     "output_type": "execute_result"
    }
   ],
   "source": [
    "len(df[(df.target == 0) & (df.pred_0 < df.pred_mean)])/len(df[(df.target == 0)])"
   ]
  },
  {
   "cell_type": "code",
   "execution_count": 75,
   "metadata": {
    "scrolled": false
   },
   "outputs": [
    {
     "data": {
      "text/plain": [
       "0.52126"
      ]
     },
     "execution_count": 75,
     "metadata": {},
     "output_type": "execute_result"
    }
   ],
   "source": [
    "(len(df[(df.target == 0) & (df.pred_0 < df.pred_mean)])+len(df[(df.target == 1) & (df.pred_0 > df.pred_mean)]))/len(df)"
   ]
  },
  {
   "cell_type": "markdown",
   "metadata": {},
   "source": [
    "### RotRef 4"
   ]
  },
  {
   "cell_type": "code",
   "execution_count": 37,
   "metadata": {},
   "outputs": [
    {
     "data": {
      "text/plain": [
       "0.5248403946604759"
      ]
     },
     "execution_count": 37,
     "metadata": {},
     "output_type": "execute_result"
    }
   ],
   "source": [
    "len(df[(df.target == 1) & (df.pred_0 > df.pred_mean)])/len(df[(df.target == 1)])"
   ]
  },
  {
   "cell_type": "code",
   "execution_count": 38,
   "metadata": {},
   "outputs": [
    {
     "data": {
      "text/plain": [
       "0.5150137320720171"
      ]
     },
     "execution_count": 38,
     "metadata": {},
     "output_type": "execute_result"
    }
   ],
   "source": [
    "len(df[(df.target == 0) & (df.pred_0 < df.pred_mean)])/len(df[(df.target == 0)])"
   ]
  },
  {
   "cell_type": "code",
   "execution_count": 39,
   "metadata": {
    "scrolled": true
   },
   "outputs": [
    {
     "data": {
      "text/plain": [
       "0.5184"
      ]
     },
     "execution_count": 39,
     "metadata": {},
     "output_type": "execute_result"
    }
   ],
   "source": [
    "(len(df[(df.target == 0) & (df.pred_0 < df.pred_mean)])+len(df[(df.target == 1) & (df.pred_0 > df.pred_mean)]))/len(df)"
   ]
  },
  {
   "cell_type": "markdown",
   "metadata": {},
   "source": [
    "### RotRef 8"
   ]
  },
  {
   "cell_type": "code",
   "execution_count": 46,
   "metadata": {},
   "outputs": [
    {
     "data": {
      "text/plain": [
       "0.5278003482298317"
      ]
     },
     "execution_count": 46,
     "metadata": {},
     "output_type": "execute_result"
    }
   ],
   "source": [
    "len(df[(df.target == 1) & (df.pred_0 > df.pred_mean)])/len(df[(df.target == 1)])"
   ]
  },
  {
   "cell_type": "code",
   "execution_count": 47,
   "metadata": {},
   "outputs": [
    {
     "data": {
      "text/plain": [
       "0.5165395178516936"
      ]
     },
     "execution_count": 47,
     "metadata": {},
     "output_type": "execute_result"
    }
   ],
   "source": [
    "len(df[(df.target == 0) & (df.pred_0 < df.pred_mean)])/len(df[(df.target == 0)])"
   ]
  },
  {
   "cell_type": "code",
   "execution_count": 48,
   "metadata": {
    "scrolled": false
   },
   "outputs": [
    {
     "data": {
      "text/plain": [
       "0.52042"
      ]
     },
     "execution_count": 48,
     "metadata": {},
     "output_type": "execute_result"
    }
   ],
   "source": [
    "(len(df[(df.target == 0) & (df.pred_0 < df.pred_mean)])+len(df[(df.target == 1) & (df.pred_0 > df.pred_mean)]))/len(df)"
   ]
  },
  {
   "cell_type": "markdown",
   "metadata": {},
   "source": [
    "### RotRef 10"
   ]
  },
  {
   "cell_type": "code",
   "execution_count": 55,
   "metadata": {},
   "outputs": [
    {
     "data": {
      "text/plain": [
       "0.5283807312826465"
      ]
     },
     "execution_count": 55,
     "metadata": {},
     "output_type": "execute_result"
    }
   ],
   "source": [
    "len(df[(df.target == 1) & (df.pred_0 > df.pred_mean)])/len(df[(df.target == 1)])"
   ]
  },
  {
   "cell_type": "code",
   "execution_count": 56,
   "metadata": {},
   "outputs": [
    {
     "data": {
      "text/plain": [
       "0.5166310649984742"
      ]
     },
     "execution_count": 56,
     "metadata": {},
     "output_type": "execute_result"
    }
   ],
   "source": [
    "len(df[(df.target == 0) & (df.pred_0 < df.pred_mean)])/len(df[(df.target == 0)])"
   ]
  },
  {
   "cell_type": "code",
   "execution_count": 57,
   "metadata": {
    "scrolled": false
   },
   "outputs": [
    {
     "data": {
      "text/plain": [
       "0.52068"
      ]
     },
     "execution_count": 57,
     "metadata": {},
     "output_type": "execute_result"
    }
   ],
   "source": [
    "(len(df[(df.target == 0) & (df.pred_0 < df.pred_mean)])+len(df[(df.target == 1) & (df.pred_0 > df.pred_mean)]))/len(df)"
   ]
  },
  {
   "cell_type": "markdown",
   "metadata": {},
   "source": [
    "### RotRef 16"
   ]
  },
  {
   "cell_type": "code",
   "execution_count": 64,
   "metadata": {},
   "outputs": [
    {
     "data": {
      "text/plain": [
       "0.5290771909460243"
      ]
     },
     "execution_count": 64,
     "metadata": {},
     "output_type": "execute_result"
    }
   ],
   "source": [
    "len(df[(df.target == 1) & (df.pred_0 > df.pred_mean)])/len(df[(df.target == 1)])"
   ]
  },
  {
   "cell_type": "code",
   "execution_count": 65,
   "metadata": {},
   "outputs": [
    {
     "data": {
      "text/plain": [
       "0.51547146780592"
      ]
     },
     "execution_count": 65,
     "metadata": {},
     "output_type": "execute_result"
    }
   ],
   "source": [
    "len(df[(df.target == 0) & (df.pred_0 < df.pred_mean)])/len(df[(df.target == 0)])"
   ]
  },
  {
   "cell_type": "code",
   "execution_count": 66,
   "metadata": {
    "scrolled": false
   },
   "outputs": [
    {
     "data": {
      "text/plain": [
       "0.52016"
      ]
     },
     "execution_count": 66,
     "metadata": {},
     "output_type": "execute_result"
    }
   ],
   "source": [
    "(len(df[(df.target == 0) & (df.pred_0 < df.pred_mean)])+len(df[(df.target == 1) & (df.pred_0 > df.pred_mean)]))/len(df)"
   ]
  },
  {
   "cell_type": "code",
   "execution_count": 89,
   "metadata": {},
   "outputs": [],
   "source": [
    "def amsScanQuick(inData, wFactor=250000./50000.):\n",
    "    s = np.sum(inData.loc[inData['gen_target'] == 1, 'gen_weight'])\n",
    "    b = np.sum(inData.loc[inData['gen_target'] == 0, 'gen_weight'])\n",
    "    tIIs = inData['pred_class'].argsort()\n",
    "    amss = np.empty([len(tIIs)])\n",
    "    \n",
    "    amsMax = 0\n",
    "    threshold = 0.0\n",
    "\n",
    "    for tI in range(len(tIIs)):\n",
    "        # don't forget to renormalize the weights to the same sum \n",
    "        # as in the complete training set\n",
    "        amss[tI] = AMS(max(0,s * wFactor),max(0,b * wFactor))\n",
    "        if amss[tI] > amsMax:\n",
    "            amsMax = amss[tI]\n",
    "            threshold = inData['pred_class'].values[tIIs[tI]]\n",
    "            #print tI,threshold\n",
    "        if inData.loc[:, 'gen_target'].values[tIIs[tI]]:\n",
    "            s -= inData.loc[:, 'gen_weight'].values[tIIs[tI]]\n",
    "        else:\n",
    "            b -= inData.loc[:, 'gen_weight'].values[tIIs[tI]]\n",
    "    print amsMax, threshold\n",
    "    return amsMax, threshold"
   ]
  },
  {
   "cell_type": "markdown",
   "metadata": {},
   "source": [
    "## Response on validation data base"
   ]
  },
  {
   "cell_type": "code",
   "execution_count": 203,
   "metadata": {},
   "outputs": [],
   "source": [
    "valData = BatchYielder(h5py.File(dirLoc + 'val.hdf5', \"r+\"))"
   ]
  },
  {
   "cell_type": "code",
   "execution_count": 204,
   "metadata": {},
   "outputs": [],
   "source": [
    "batchEnsemblePredict(ensemble, weights, valData, ensembleSize=5, verbose=0)"
   ]
  },
  {
   "cell_type": "code",
   "execution_count": 205,
   "metadata": {},
   "outputs": [
    {
     "name": "stdout",
     "output_type": "stream",
     "text": [
      "Testing ROC AUC: unweighted 0.903825016546, weighted 0.936022762662\n"
     ]
    }
   ],
   "source": [
    "print 'Testing ROC AUC: unweighted {}, weighted {}'.format(roc_auc_score(getFeature('targets', valData.source), getFeature('pred', valData.source)),\n",
    "                                                           roc_auc_score(getFeature('targets', valData.source), getFeature('pred', valData.source), sample_weight=getFeature('weights', valData.source)))"
   ]
  },
  {
   "cell_type": "code",
   "execution_count": 206,
   "metadata": {},
   "outputs": [
    {
     "name": "stdout",
     "output_type": "stream",
     "text": [
      "50000 candidates loaded\n",
      "3.902063907007075 0.96151376\n"
     ]
    },
    {
     "data": {
      "text/plain": [
       "(3.902063907007075, 0.96151376)"
      ]
     },
     "execution_count": 206,
     "metadata": {},
     "output_type": "execute_result"
    }
   ],
   "source": [
    "amsScanQuick(convertToDF(valData.source))"
   ]
  },
  {
   "cell_type": "markdown",
   "metadata": {},
   "source": [
    "## Response on validation data Rot-Ref 4"
   ]
  },
  {
   "cell_type": "code",
   "execution_count": 207,
   "metadata": {},
   "outputs": [],
   "source": [
    "with open(dirLoc + 'inputPipe.pkl', 'r') as fin:\n",
    "    inputPipe = pickle.load(fin)"
   ]
  },
  {
   "cell_type": "code",
   "execution_count": 208,
   "metadata": {},
   "outputs": [],
   "source": [
    "valData = RotationReflectionBatch(classTrainFeatures, h5py.File(dirLoc + 'val.hdf5', \"r+\"), inputPipe=inputPipe,\n",
    "                                  rotate = True, reflect = True, augRotMult=4)"
   ]
  },
  {
   "cell_type": "code",
   "execution_count": 209,
   "metadata": {},
   "outputs": [],
   "source": [
    "batchEnsemblePredict(ensemble, weights, valData, ensembleSize=5, verbose=0)"
   ]
  },
  {
   "cell_type": "code",
   "execution_count": 210,
   "metadata": {},
   "outputs": [
    {
     "name": "stdout",
     "output_type": "stream",
     "text": [
      "Testing ROC AUC: unweighted 0.904048121318, weighted 0.936117806882\n"
     ]
    }
   ],
   "source": [
    "print 'Testing ROC AUC: unweighted {}, weighted {}'.format(roc_auc_score(getFeature('targets', valData.source), getFeature('pred', valData.source)),\n",
    "                                                           roc_auc_score(getFeature('targets', valData.source), getFeature('pred', valData.source), sample_weight=getFeature('weights', valData.source)))"
   ]
  },
  {
   "cell_type": "code",
   "execution_count": 98,
   "metadata": {},
   "outputs": [
    {
     "name": "stdout",
     "output_type": "stream",
     "text": [
      "50000 candidates loaded\n",
      "3.9354516298108813 0.9562446\n"
     ]
    },
    {
     "data": {
      "text/plain": [
       "(3.9354516298108813, 0.9562446)"
      ]
     },
     "execution_count": 98,
     "metadata": {},
     "output_type": "execute_result"
    }
   ],
   "source": [
    "amsScanQuick(convertToDF(valData.source))"
   ]
  },
  {
   "cell_type": "markdown",
   "metadata": {},
   "source": [
    "## Response on validation data Rot-Ref 8"
   ]
  },
  {
   "cell_type": "code",
   "execution_count": 211,
   "metadata": {},
   "outputs": [],
   "source": [
    "with open(dirLoc + 'inputPipe.pkl', 'r') as fin:\n",
    "    inputPipe = pickle.load(fin)"
   ]
  },
  {
   "cell_type": "code",
   "execution_count": 212,
   "metadata": {},
   "outputs": [],
   "source": [
    "valData = RotationReflectionBatch(classTrainFeatures, h5py.File(dirLoc + 'val.hdf5', \"r+\"), inputPipe=inputPipe,\n",
    "                                  rotate = True, reflect = True, augRotMult=8)"
   ]
  },
  {
   "cell_type": "code",
   "execution_count": 213,
   "metadata": {},
   "outputs": [],
   "source": [
    "batchEnsemblePredict(ensemble, weights, valData, ensembleSize=5, verbose=0)"
   ]
  },
  {
   "cell_type": "code",
   "execution_count": 214,
   "metadata": {},
   "outputs": [
    {
     "name": "stdout",
     "output_type": "stream",
     "text": [
      "Testing ROC AUC: unweighted 0.904064613618, weighted 0.936127397042\n"
     ]
    }
   ],
   "source": [
    "print 'Testing ROC AUC: unweighted {}, weighted {}'.format(roc_auc_score(getFeature('targets', valData.source), getFeature('pred', valData.source)),\n",
    "                                                           roc_auc_score(getFeature('targets', valData.source), getFeature('pred', valData.source), sample_weight=getFeature('weights', valData.source)))"
   ]
  },
  {
   "cell_type": "code",
   "execution_count": 215,
   "metadata": {
    "scrolled": true
   },
   "outputs": [
    {
     "name": "stdout",
     "output_type": "stream",
     "text": [
      "50000 candidates loaded\n",
      "3.946667721229724 0.9632657\n"
     ]
    },
    {
     "data": {
      "text/plain": [
       "(3.946667721229724, 0.9632657)"
      ]
     },
     "execution_count": 215,
     "metadata": {},
     "output_type": "execute_result"
    }
   ],
   "source": [
    "amsScanQuick(convertToDF(valData.source))"
   ]
  },
  {
   "cell_type": "markdown",
   "metadata": {},
   "source": [
    "## Response on validation data Ref"
   ]
  },
  {
   "cell_type": "code",
   "execution_count": 216,
   "metadata": {},
   "outputs": [],
   "source": [
    "with open(dirLoc + 'inputPipe.pkl', 'r') as fin:\n",
    "    inputPipe = pickle.load(fin)"
   ]
  },
  {
   "cell_type": "code",
   "execution_count": 217,
   "metadata": {},
   "outputs": [],
   "source": [
    "valData = RotationReflectionBatch(classTrainFeatures, h5py.File(dirLoc + 'val.hdf5', \"r+\"), inputPipe=inputPipe,\n",
    "                                  rotate = False, reflect = True, augRotMult=8)"
   ]
  },
  {
   "cell_type": "code",
   "execution_count": 218,
   "metadata": {},
   "outputs": [],
   "source": [
    "batchEnsemblePredict(ensemble, weights, valData, ensembleSize=5, verbose=0)"
   ]
  },
  {
   "cell_type": "code",
   "execution_count": 219,
   "metadata": {},
   "outputs": [
    {
     "name": "stdout",
     "output_type": "stream",
     "text": [
      "Testing ROC AUC: unweighted 0.904080675547, weighted 0.936144198749\n"
     ]
    }
   ],
   "source": [
    "print 'Testing ROC AUC: unweighted {}, weighted {}'.format(roc_auc_score(getFeature('targets', valData.source), getFeature('pred', valData.source)),\n",
    "                                                           roc_auc_score(getFeature('targets', valData.source), getFeature('pred', valData.source), sample_weight=getFeature('weights', valData.source)))"
   ]
  },
  {
   "cell_type": "code",
   "execution_count": 220,
   "metadata": {
    "scrolled": false
   },
   "outputs": [
    {
     "name": "stdout",
     "output_type": "stream",
     "text": [
      "50000 candidates loaded\n",
      "3.9185693606729024 0.96182704\n"
     ]
    },
    {
     "data": {
      "text/plain": [
       "(3.9185693606729024, 0.96182704)"
      ]
     },
     "execution_count": 220,
     "metadata": {},
     "output_type": "execute_result"
    }
   ],
   "source": [
    "amsScanQuick(convertToDF(valData.source))"
   ]
  },
  {
   "cell_type": "markdown",
   "metadata": {},
   "source": [
    "## Response on validation data Rot 4"
   ]
  },
  {
   "cell_type": "code",
   "execution_count": 221,
   "metadata": {},
   "outputs": [],
   "source": [
    "with open(dirLoc + 'inputPipe.pkl', 'r') as fin:\n",
    "    inputPipe = pickle.load(fin)"
   ]
  },
  {
   "cell_type": "code",
   "execution_count": 222,
   "metadata": {},
   "outputs": [],
   "source": [
    "valData = RotationReflectionBatch(classTrainFeatures, h5py.File(dirLoc + 'val.hdf5', \"r+\"), inputPipe=inputPipe,\n",
    "                                  rotate = True, reflect = False, augRotMult=4)"
   ]
  },
  {
   "cell_type": "code",
   "execution_count": 223,
   "metadata": {},
   "outputs": [],
   "source": [
    "batchEnsemblePredict(ensemble, weights, valData, ensembleSize=5, verbose=0)"
   ]
  },
  {
   "cell_type": "code",
   "execution_count": 224,
   "metadata": {},
   "outputs": [
    {
     "name": "stdout",
     "output_type": "stream",
     "text": [
      "Testing ROC AUC: unweighted 0.904009176145, weighted 0.936076130721\n"
     ]
    }
   ],
   "source": [
    "print 'Testing ROC AUC: unweighted {}, weighted {}'.format(roc_auc_score(getFeature('targets', valData.source), getFeature('pred', valData.source)),\n",
    "                                                           roc_auc_score(getFeature('targets', valData.source), getFeature('pred', valData.source), sample_weight=getFeature('weights', valData.source)))"
   ]
  },
  {
   "cell_type": "code",
   "execution_count": 225,
   "metadata": {
    "scrolled": true
   },
   "outputs": [
    {
     "name": "stdout",
     "output_type": "stream",
     "text": [
      "50000 candidates loaded\n",
      "3.935093899227462 0.9581222\n"
     ]
    },
    {
     "data": {
      "text/plain": [
       "(3.935093899227462, 0.9581222)"
      ]
     },
     "execution_count": 225,
     "metadata": {},
     "output_type": "execute_result"
    }
   ],
   "source": [
    "amsScanQuick(convertToDF(valData.source))"
   ]
  },
  {
   "cell_type": "markdown",
   "metadata": {},
   "source": [
    "## Response on validation data Rot 5"
   ]
  },
  {
   "cell_type": "code",
   "execution_count": 226,
   "metadata": {},
   "outputs": [],
   "source": [
    "with open(dirLoc + 'inputPipe.pkl', 'r') as fin:\n",
    "    inputPipe = pickle.load(fin)"
   ]
  },
  {
   "cell_type": "code",
   "execution_count": 227,
   "metadata": {},
   "outputs": [],
   "source": [
    "valData = RotationReflectionBatch(classTrainFeatures, h5py.File(dirLoc + 'val.hdf5', \"r+\"), inputPipe=inputPipe,\n",
    "                                  rotate = True, reflect = False, augRotMult=5)"
   ]
  },
  {
   "cell_type": "code",
   "execution_count": 228,
   "metadata": {},
   "outputs": [],
   "source": [
    "batchEnsemblePredict(ensemble, weights, valData, ensembleSize=5, verbose=0)"
   ]
  },
  {
   "cell_type": "code",
   "execution_count": 229,
   "metadata": {},
   "outputs": [
    {
     "name": "stdout",
     "output_type": "stream",
     "text": [
      "Testing ROC AUC: unweighted 0.904033428434, weighted 0.936089420355\n"
     ]
    }
   ],
   "source": [
    "print 'Testing ROC AUC: unweighted {}, weighted {}'.format(roc_auc_score(getFeature('targets', valData.source), getFeature('pred', valData.source)),\n",
    "                                                           roc_auc_score(getFeature('targets', valData.source), getFeature('pred', valData.source), sample_weight=getFeature('weights', valData.source)))"
   ]
  },
  {
   "cell_type": "code",
   "execution_count": 230,
   "metadata": {
    "scrolled": false
   },
   "outputs": [
    {
     "name": "stdout",
     "output_type": "stream",
     "text": [
      "50000 candidates loaded\n",
      "3.930939499116286 0.9663005\n"
     ]
    },
    {
     "data": {
      "text/plain": [
       "(3.930939499116286, 0.9663005)"
      ]
     },
     "execution_count": 230,
     "metadata": {},
     "output_type": "execute_result"
    }
   ],
   "source": [
    "amsScanQuick(convertToDF(valData.source))"
   ]
  },
  {
   "cell_type": "markdown",
   "metadata": {},
   "source": [
    "## Response on validation data Rot 6"
   ]
  },
  {
   "cell_type": "code",
   "execution_count": 231,
   "metadata": {},
   "outputs": [],
   "source": [
    "with open(dirLoc + 'inputPipe.pkl', 'r') as fin:\n",
    "    inputPipe = pickle.load(fin)"
   ]
  },
  {
   "cell_type": "code",
   "execution_count": 232,
   "metadata": {},
   "outputs": [],
   "source": [
    "valData = RotationReflectionBatch(classTrainFeatures, h5py.File(dirLoc + 'val.hdf5', \"r+\"), inputPipe=inputPipe,\n",
    "                                  rotate = True, reflect = False, augRotMult=6)"
   ]
  },
  {
   "cell_type": "code",
   "execution_count": 233,
   "metadata": {},
   "outputs": [],
   "source": [
    "batchEnsemblePredict(ensemble, weights, valData, ensembleSize=5, verbose=0)"
   ]
  },
  {
   "cell_type": "code",
   "execution_count": 234,
   "metadata": {},
   "outputs": [
    {
     "name": "stdout",
     "output_type": "stream",
     "text": [
      "Testing ROC AUC: unweighted 0.904034500824, weighted 0.936088319023\n"
     ]
    }
   ],
   "source": [
    "print 'Testing ROC AUC: unweighted {}, weighted {}'.format(roc_auc_score(getFeature('targets', valData.source), getFeature('pred', valData.source)),\n",
    "                                                           roc_auc_score(getFeature('targets', valData.source), getFeature('pred', valData.source), sample_weight=getFeature('weights', valData.source)))"
   ]
  },
  {
   "cell_type": "code",
   "execution_count": 235,
   "metadata": {
    "scrolled": false
   },
   "outputs": [
    {
     "name": "stdout",
     "output_type": "stream",
     "text": [
      "50000 candidates loaded\n",
      "3.926759655082747 0.9662959\n"
     ]
    },
    {
     "data": {
      "text/plain": [
       "(3.926759655082747, 0.9662959)"
      ]
     },
     "execution_count": 235,
     "metadata": {},
     "output_type": "execute_result"
    }
   ],
   "source": [
    "amsScanQuick(convertToDF(valData.source))"
   ]
  },
  {
   "cell_type": "markdown",
   "metadata": {},
   "source": [
    "## Response on validation data Rot 8"
   ]
  },
  {
   "cell_type": "code",
   "execution_count": 236,
   "metadata": {},
   "outputs": [],
   "source": [
    "with open(dirLoc + 'inputPipe.pkl', 'r') as fin:\n",
    "    inputPipe = pickle.load(fin)"
   ]
  },
  {
   "cell_type": "code",
   "execution_count": 237,
   "metadata": {},
   "outputs": [],
   "source": [
    "valData = RotationReflectionBatch(classTrainFeatures, h5py.File(dirLoc + 'val.hdf5', \"r+\"), inputPipe=inputPipe,\n",
    "                                  rotate = True, reflect = False, augRotMult=8)"
   ]
  },
  {
   "cell_type": "code",
   "execution_count": 238,
   "metadata": {},
   "outputs": [],
   "source": [
    "batchEnsemblePredict(ensemble, weights, valData, ensembleSize=5, verbose=0)"
   ]
  },
  {
   "cell_type": "code",
   "execution_count": 239,
   "metadata": {},
   "outputs": [
    {
     "name": "stdout",
     "output_type": "stream",
     "text": [
      "Testing ROC AUC: unweighted 0.904032217015, weighted 0.936087016071\n"
     ]
    }
   ],
   "source": [
    "print 'Testing ROC AUC: unweighted {}, weighted {}'.format(roc_auc_score(getFeature('targets', valData.source), getFeature('pred', valData.source)),\n",
    "                                                           roc_auc_score(getFeature('targets', valData.source), getFeature('pred', valData.source), sample_weight=getFeature('weights', valData.source)))"
   ]
  },
  {
   "cell_type": "code",
   "execution_count": 240,
   "metadata": {
    "scrolled": true
   },
   "outputs": [
    {
     "name": "stdout",
     "output_type": "stream",
     "text": [
      "50000 candidates loaded\n",
      "3.928069939459488 0.95791966\n"
     ]
    },
    {
     "data": {
      "text/plain": [
       "(3.928069939459488, 0.95791966)"
      ]
     },
     "execution_count": 240,
     "metadata": {},
     "output_type": "execute_result"
    }
   ],
   "source": [
    "amsScanQuick(convertToDF(valData.source))"
   ]
  },
  {
   "cell_type": "markdown",
   "metadata": {},
   "source": [
    "## Response on validation data Rot 10"
   ]
  },
  {
   "cell_type": "code",
   "execution_count": 241,
   "metadata": {},
   "outputs": [],
   "source": [
    "with open(dirLoc + 'inputPipe.pkl', 'r') as fin:\n",
    "    inputPipe = pickle.load(fin)"
   ]
  },
  {
   "cell_type": "code",
   "execution_count": 242,
   "metadata": {},
   "outputs": [],
   "source": [
    "valData = RotationReflectionBatch(classTrainFeatures, h5py.File(dirLoc + 'val.hdf5', \"r+\"), inputPipe=inputPipe,\n",
    "                                  rotate = True, reflect = False, augRotMult=10)"
   ]
  },
  {
   "cell_type": "code",
   "execution_count": 243,
   "metadata": {},
   "outputs": [],
   "source": [
    "batchEnsemblePredict(ensemble, weights, valData, ensembleSize=5, verbose=0)"
   ]
  },
  {
   "cell_type": "code",
   "execution_count": 244,
   "metadata": {},
   "outputs": [
    {
     "name": "stdout",
     "output_type": "stream",
     "text": [
      "Testing ROC AUC: unweighted 0.904032576545, weighted 0.936087286253\n"
     ]
    }
   ],
   "source": [
    "print 'Testing ROC AUC: unweighted {}, weighted {}'.format(roc_auc_score(getFeature('targets', valData.source), getFeature('pred', valData.source)),\n",
    "                                                           roc_auc_score(getFeature('targets', valData.source), getFeature('pred', valData.source), sample_weight=getFeature('weights', valData.source)))"
   ]
  },
  {
   "cell_type": "code",
   "execution_count": 245,
   "metadata": {
    "scrolled": false
   },
   "outputs": [
    {
     "name": "stdout",
     "output_type": "stream",
     "text": [
      "50000 candidates loaded\n",
      "3.9283522553419745 0.9579162\n"
     ]
    },
    {
     "data": {
      "text/plain": [
       "(3.9283522553419745, 0.9579162)"
      ]
     },
     "execution_count": 245,
     "metadata": {},
     "output_type": "execute_result"
    }
   ],
   "source": [
    "amsScanQuick(convertToDF(valData.source))"
   ]
  },
  {
   "cell_type": "markdown",
   "metadata": {},
   "source": [
    "## Response on validation data Rot 16"
   ]
  },
  {
   "cell_type": "code",
   "execution_count": 246,
   "metadata": {},
   "outputs": [],
   "source": [
    "with open(dirLoc + 'inputPipe.pkl', 'r') as fin:\n",
    "    inputPipe = pickle.load(fin)"
   ]
  },
  {
   "cell_type": "code",
   "execution_count": 247,
   "metadata": {},
   "outputs": [],
   "source": [
    "valData = RotationReflectionBatch(classTrainFeatures, h5py.File(dirLoc + 'val.hdf5', \"r+\"), inputPipe=inputPipe,\n",
    "                                  rotate = True, reflect = False, augRotMult=16)"
   ]
  },
  {
   "cell_type": "code",
   "execution_count": 248,
   "metadata": {},
   "outputs": [],
   "source": [
    "batchEnsemblePredict(ensemble, weights, valData, ensembleSize=5, verbose=0)"
   ]
  },
  {
   "cell_type": "code",
   "execution_count": 249,
   "metadata": {},
   "outputs": [
    {
     "name": "stdout",
     "output_type": "stream",
     "text": [
      "Testing ROC AUC: unweighted 0.904032557063, weighted 0.936087233394\n"
     ]
    }
   ],
   "source": [
    "print 'Testing ROC AUC: unweighted {}, weighted {}'.format(roc_auc_score(getFeature('targets', valData.source), getFeature('pred', valData.source)),\n",
    "                                                           roc_auc_score(getFeature('targets', valData.source), getFeature('pred', valData.source), sample_weight=getFeature('weights', valData.source)))"
   ]
  },
  {
   "cell_type": "code",
   "execution_count": 250,
   "metadata": {
    "scrolled": false
   },
   "outputs": [
    {
     "name": "stdout",
     "output_type": "stream",
     "text": [
      "50000 candidates loaded\n",
      "3.9283522553419745 0.95791584\n"
     ]
    },
    {
     "data": {
      "text/plain": [
       "(3.9283522553419745, 0.95791584)"
      ]
     },
     "execution_count": 250,
     "metadata": {},
     "output_type": "execute_result"
    }
   ],
   "source": [
    "amsScanQuick(convertToDF(valData.source))"
   ]
  },
  {
   "cell_type": "markdown",
   "metadata": {},
   "source": [
    "## Response on validation data Rot-Ref 16"
   ]
  },
  {
   "cell_type": "code",
   "execution_count": 251,
   "metadata": {},
   "outputs": [],
   "source": [
    "with open(dirLoc + 'inputPipe.pkl', 'r') as fin:\n",
    "    inputPipe = pickle.load(fin)"
   ]
  },
  {
   "cell_type": "code",
   "execution_count": 252,
   "metadata": {},
   "outputs": [],
   "source": [
    "valData = RotationReflectionBatch(classTrainFeatures, h5py.File(dirLoc + 'val.hdf5', \"r+\"), inputPipe=inputPipe,\n",
    "                                  rotate = True, reflect = True, augRotMult=16)"
   ]
  },
  {
   "cell_type": "code",
   "execution_count": 253,
   "metadata": {},
   "outputs": [],
   "source": [
    "batchEnsemblePredict(ensemble, weights, valData, ensembleSize=5, verbose=0)"
   ]
  },
  {
   "cell_type": "code",
   "execution_count": 254,
   "metadata": {},
   "outputs": [
    {
     "name": "stdout",
     "output_type": "stream",
     "text": [
      "Testing ROC AUC: unweighted 0.904067742232, weighted 0.936129939119\n"
     ]
    }
   ],
   "source": [
    "print 'Testing ROC AUC: unweighted {}, weighted {}'.format(roc_auc_score(getFeature('targets', valData.source), getFeature('pred', valData.source)),\n",
    "                                                           roc_auc_score(getFeature('targets', valData.source), getFeature('pred', valData.source), sample_weight=getFeature('weights', valData.source)))"
   ]
  },
  {
   "cell_type": "code",
   "execution_count": 255,
   "metadata": {
    "scrolled": false
   },
   "outputs": [
    {
     "name": "stdout",
     "output_type": "stream",
     "text": [
      "50000 candidates loaded\n",
      "3.930312481518534 0.96295744\n"
     ]
    },
    {
     "data": {
      "text/plain": [
       "(3.930312481518534, 0.96295744)"
      ]
     },
     "execution_count": 255,
     "metadata": {},
     "output_type": "execute_result"
    }
   ],
   "source": [
    "amsScanQuick(convertToDF(valData.source))"
   ]
  },
  {
   "cell_type": "markdown",
   "metadata": {},
   "source": [
    "## Response on validation data Rot-Ref 3"
   ]
  },
  {
   "cell_type": "code",
   "execution_count": 256,
   "metadata": {},
   "outputs": [],
   "source": [
    "with open(dirLoc + 'inputPipe.pkl', 'r') as fin:\n",
    "    inputPipe = pickle.load(fin)"
   ]
  },
  {
   "cell_type": "code",
   "execution_count": 257,
   "metadata": {},
   "outputs": [],
   "source": [
    "valData = RotationReflectionBatch(classTrainFeatures, h5py.File(dirLoc + 'val.hdf5', \"r+\"), inputPipe=inputPipe,\n",
    "                                  rotate = True, reflect = True, augRotMult=3)"
   ]
  },
  {
   "cell_type": "code",
   "execution_count": 258,
   "metadata": {},
   "outputs": [],
   "source": [
    "batchEnsemblePredict(ensemble, weights, valData, ensembleSize=5, verbose=0)"
   ]
  },
  {
   "cell_type": "code",
   "execution_count": 259,
   "metadata": {},
   "outputs": [
    {
     "name": "stdout",
     "output_type": "stream",
     "text": [
      "Testing ROC AUC: unweighted 0.90400732448, weighted 0.936121299076\n"
     ]
    }
   ],
   "source": [
    "print 'Testing ROC AUC: unweighted {}, weighted {}'.format(roc_auc_score(getFeature('targets', valData.source), getFeature('pred', valData.source)),\n",
    "                                                           roc_auc_score(getFeature('targets', valData.source), getFeature('pred', valData.source), sample_weight=getFeature('weights', valData.source)))"
   ]
  },
  {
   "cell_type": "code",
   "execution_count": 260,
   "metadata": {
    "scrolled": false
   },
   "outputs": [
    {
     "name": "stdout",
     "output_type": "stream",
     "text": [
      "50000 candidates loaded\n",
      "3.9438997099821904 0.96288526\n"
     ]
    },
    {
     "data": {
      "text/plain": [
       "(3.9438997099821904, 0.96288526)"
      ]
     },
     "execution_count": 260,
     "metadata": {},
     "output_type": "execute_result"
    }
   ],
   "source": [
    "amsScanQuick(convertToDF(valData.source))"
   ]
  },
  {
   "cell_type": "markdown",
   "metadata": {},
   "source": [
    "## Response on validation data Rot-Ref 5"
   ]
  },
  {
   "cell_type": "code",
   "execution_count": 261,
   "metadata": {},
   "outputs": [],
   "source": [
    "with open(dirLoc + 'inputPipe.pkl', 'r') as fin:\n",
    "    inputPipe = pickle.load(fin)"
   ]
  },
  {
   "cell_type": "code",
   "execution_count": 262,
   "metadata": {},
   "outputs": [],
   "source": [
    "valData = RotationReflectionBatch(classTrainFeatures, h5py.File(dirLoc + 'val.hdf5', \"r+\"), inputPipe=inputPipe,\n",
    "                                  rotate = True, reflect = True, augRotMult=5)"
   ]
  },
  {
   "cell_type": "code",
   "execution_count": 263,
   "metadata": {},
   "outputs": [],
   "source": [
    "batchEnsemblePredict(ensemble, weights, valData, ensembleSize=5, verbose=0)"
   ]
  },
  {
   "cell_type": "code",
   "execution_count": 264,
   "metadata": {},
   "outputs": [
    {
     "name": "stdout",
     "output_type": "stream",
     "text": [
      "Testing ROC AUC: unweighted 0.904076230135, weighted 0.936131261371\n"
     ]
    }
   ],
   "source": [
    "print 'Testing ROC AUC: unweighted {}, weighted {}'.format(roc_auc_score(getFeature('targets', valData.source), getFeature('pred', valData.source)),\n",
    "                                                           roc_auc_score(getFeature('targets', valData.source), getFeature('pred', valData.source), sample_weight=getFeature('weights', valData.source)))"
   ]
  },
  {
   "cell_type": "code",
   "execution_count": 265,
   "metadata": {
    "scrolled": false
   },
   "outputs": [
    {
     "name": "stdout",
     "output_type": "stream",
     "text": [
      "50000 candidates loaded\n",
      "3.940036692183632 0.9629896\n"
     ]
    },
    {
     "data": {
      "text/plain": [
       "(3.940036692183632, 0.9629896)"
      ]
     },
     "execution_count": 265,
     "metadata": {},
     "output_type": "execute_result"
    }
   ],
   "source": [
    "amsScanQuick(convertToDF(valData.source))"
   ]
  },
  {
   "cell_type": "markdown",
   "metadata": {},
   "source": [
    "# Final run"
   ]
  },
  {
   "cell_type": "code",
   "execution_count": 274,
   "metadata": {},
   "outputs": [
    {
     "name": "stdout",
     "output_type": "stream",
     "text": [
      "Predicting batch 1 out of 10\n",
      "Prediction took 0.0041929043293s per sample\n",
      "\n",
      "Predicting batch 2 out of 10\n",
      "Prediction took 0.00398194111044s per sample\n",
      "\n",
      "Predicting batch 3 out of 10\n",
      "Prediction took 0.00390727887587s per sample\n",
      "\n",
      "Predicting batch 4 out of 10\n",
      "Prediction took 0.00391101232442s per sample\n",
      "\n",
      "Predicting batch 5 out of 10\n",
      "Prediction took 0.0036883030718s per sample\n",
      "\n",
      "Predicting batch 6 out of 10\n",
      "Prediction took 0.003820555817s per sample\n",
      "\n",
      "Predicting batch 7 out of 10\n",
      "Prediction took 0.0041084741289s per sample\n",
      "\n",
      "Predicting batch 8 out of 10\n",
      "Prediction took 0.00364367843541s per sample\n",
      "\n",
      "Predicting batch 9 out of 10\n",
      "Prediction took 0.00385060307329s per sample\n",
      "\n",
      "Predicting batch 10 out of 10\n",
      "Prediction took 0.00443902545409s per sample\n",
      "\n"
     ]
    }
   ],
   "source": [
    "batchEnsemblePredict(ensemble, weights, \n",
    "                     RotationReflectionBatch(classTrainFeatures, h5py.File(dirLoc + 'testing.hdf5', \"r+\"), inputPipe=inputPipe,\n",
    "                                  rotate = True, reflect = True, augRotMult=8),\n",
    "                     ensembleSize=5, verbose=1)"
   ]
  },
  {
   "cell_type": "code",
   "execution_count": 275,
   "metadata": {},
   "outputs": [
    {
     "name": "stdout",
     "output_type": "stream",
     "text": [
      "../Data/Day_10_basic_rotref8_5_test.csv\n"
     ]
    }
   ],
   "source": [
    "saveTest(0.9632657, 'Day_10_basic_rotref8_5')"
   ]
  },
  {
   "cell_type": "code",
   "execution_count": 276,
   "metadata": {},
   "outputs": [
    {
     "name": "stdout",
     "output_type": "stream",
     "text": [
      "Successfully submitted to Higgs Boson Machine Learning Challenge"
     ]
    }
   ],
   "source": [
    "!kaggle competitions submit -c higgs-boson -f ../Data/Day_10_basic_rotref8_5_test.csv -m\"Day_10 basic rotref8 5\""
   ]
  },
  {
   "cell_type": "markdown",
   "metadata": {},
   "source": [
    "## Response on validation data Rot-Ref 8 10"
   ]
  },
  {
   "cell_type": "code",
   "execution_count": 277,
   "metadata": {},
   "outputs": [],
   "source": [
    "with open(dirLoc + 'inputPipe.pkl', 'r') as fin:\n",
    "    inputPipe = pickle.load(fin)"
   ]
  },
  {
   "cell_type": "code",
   "execution_count": 278,
   "metadata": {},
   "outputs": [],
   "source": [
    "valData = RotationReflectionBatch(classTrainFeatures, h5py.File(dirLoc + 'val.hdf5', \"r+\"), inputPipe=inputPipe,\n",
    "                                  rotate = True, reflect = True, augRotMult=8)"
   ]
  },
  {
   "cell_type": "code",
   "execution_count": 279,
   "metadata": {},
   "outputs": [],
   "source": [
    "batchEnsemblePredict(ensemble, weights, valData, ensembleSize=10, verbose=0)"
   ]
  },
  {
   "cell_type": "code",
   "execution_count": 280,
   "metadata": {},
   "outputs": [
    {
     "name": "stdout",
     "output_type": "stream",
     "text": [
      "Testing ROC AUC: unweighted 0.904336393878, weighted 0.93622120754\n"
     ]
    }
   ],
   "source": [
    "print 'Testing ROC AUC: unweighted {}, weighted {}'.format(roc_auc_score(getFeature('targets', valData.source), getFeature('pred', valData.source)),\n",
    "                                                           roc_auc_score(getFeature('targets', valData.source), getFeature('pred', valData.source), sample_weight=getFeature('weights', valData.source)))"
   ]
  },
  {
   "cell_type": "code",
   "execution_count": 281,
   "metadata": {
    "scrolled": true
   },
   "outputs": [
    {
     "name": "stdout",
     "output_type": "stream",
     "text": [
      "50000 candidates loaded\n",
      "3.9347726168373547 0.95998764\n"
     ]
    }
   ],
   "source": [
    "cut = amsScanQuick(convertToDF(valData.source))[1]"
   ]
  },
  {
   "cell_type": "code",
   "execution_count": 289,
   "metadata": {},
   "outputs": [
    {
     "name": "stdout",
     "output_type": "stream",
     "text": [
      "50000 candidates loaded\n"
     ]
    }
   ],
   "source": [
    "trainFrame = pandas.DataFrame()\n",
    "trainFrame['gen_target'] = getFeature('targets', trainData.source)\n",
    "trainFrame['gen_weight'] = getFeature('weights', trainData.source)\n",
    "valFrame = convertToDF(valData.source)"
   ]
  },
  {
   "cell_type": "code",
   "execution_count": 298,
   "metadata": {},
   "outputs": [
    {
     "name": "stdout",
     "output_type": "stream",
     "text": [
      "4.97196749855 5.01473909063\n"
     ]
    }
   ],
   "source": [
    "sigFactor = (len(trainFrame.loc[trainFrame.gen_target == 1, 'gen_weight'])+len(valFrame.loc[valFrame.gen_target == 1, 'gen_weight']))/len(valFrame.loc[valFrame.gen_target == 1, 'gen_weight'])\n",
    "bkgFactor = (len(trainFrame.loc[trainFrame.gen_target == 0, 'gen_weight'])+len(valFrame.loc[valFrame.gen_target == 0, 'gen_weight']))/len(valFrame.loc[valFrame.gen_target == 0, 'gen_weight'])\n",
    "print sigFactor, bkgFactor"
   ]
  },
  {
   "cell_type": "code",
   "execution_count": 299,
   "metadata": {},
   "outputs": [],
   "source": [
    "def amsScanQuick(inData, sigFactor=250000./50000., bkgFactor=250000./50000.):\n",
    "    s = np.sum(inData.loc[inData['gen_target'] == 1, 'gen_weight'])\n",
    "    b = np.sum(inData.loc[inData['gen_target'] == 0, 'gen_weight'])\n",
    "    tIIs = inData['pred_class'].argsort()\n",
    "    amss = np.empty([len(tIIs)])\n",
    "    \n",
    "    amsMax = 0\n",
    "    threshold = 0.0\n",
    "\n",
    "    for tI in range(len(tIIs)):\n",
    "        # don't forget to renormalize the weights to the same sum \n",
    "        # as in the complete training set\n",
    "        amss[tI] = AMS(max(0,s * sigFactor),max(0,b * bkgFactor))\n",
    "        if amss[tI] > amsMax:\n",
    "            amsMax = amss[tI]\n",
    "            threshold = inData['pred_class'].values[tIIs[tI]]\n",
    "            #print tI,threshold\n",
    "        if inData.loc[:, 'gen_target'].values[tIIs[tI]]:\n",
    "            s -= inData.loc[:, 'gen_weight'].values[tIIs[tI]]\n",
    "        else:\n",
    "            b -= inData.loc[:, 'gen_weight'].values[tIIs[tI]]\n",
    "    print amsMax, threshold\n",
    "    return amsMax, threshold"
   ]
  },
  {
   "cell_type": "code",
   "execution_count": 300,
   "metadata": {},
   "outputs": [
    {
     "name": "stdout",
     "output_type": "stream",
     "text": [
      "3.9074220622379157 0.95998764\n"
     ]
    },
    {
     "data": {
      "text/plain": [
       "(3.9074220622379157, 0.95998764)"
      ]
     },
     "execution_count": 300,
     "metadata": {},
     "output_type": "execute_result"
    }
   ],
   "source": [
    "amsScanQuick(valFrame, sigFactor, bkgFactor)"
   ]
  },
  {
   "cell_type": "code",
   "execution_count": 328,
   "metadata": {},
   "outputs": [],
   "source": [
    "def amsScan(inData, scale=False):\n",
    "    best = [0,-1]\n",
    "    ams = []\n",
    "    for index, row in inData.iterrows():\n",
    "        s = wFactor*np.sum(inData.loc[(inData['pred_class'] >= row['pred_class']) & (inData['gen_target'] == 1), 'gen_weight'])\n",
    "        b = wFactor*np.sum(inData.loc[(inData['pred_class'] >= row['pred_class']) & (inData['gen_target'] == 0), 'gen_weight'])\n",
    "        ams.append(AMS(s, b))\n",
    "        if ams[-1] > best[1]:\n",
    "            best = [row['pred_class'], ams[-1]]\n",
    "    print best\n",
    "    return ams, best\n",
    "\n",
    "def foldAMSScan(inData, N=10):\n",
    "    kf = StratifiedKFold(n_splits=N, shuffle=True)\n",
    "    folds = kf.split(inData, inData['gen_target'])\n",
    "    bests = []\n",
    "    for i, (train, test) in enumerate(folds):\n",
    "        bests.append(amsScan(inData.iloc[test], (np.sum(inData[(inData['gen_target'] == 1)]['gen_weight']), np.sum(inData[(inData['gen_target'] == 0)]['gen_weight'])))[1])\n",
    "        print \"Fold {}, best AMS {} at cut of {}. Total weights Signal:Bkg. {}:{}\".format(i, bests[-1][1], bests[-1][0],\n",
    "                                                                                          np.sum(inData.iloc[test][inData.gen_target == 1]['gen_weight']),\n",
    "                                                                                          np.sum(inData.iloc[test][inData.gen_target == 0]['gen_weight']))\n",
    "    print \"Mean cut\", np.average([x[0] for x in bests], weights=[1/x[1] for x in bests]), \"mean AMS\", np.average([x[1] for x in bests], weights=[1/x[1] for x in bests])\n",
    "    return bests"
   ]
  },
  {
   "cell_type": "code",
   "execution_count": 336,
   "metadata": {},
   "outputs": [
    {
     "name": "stdout",
     "output_type": "stream",
     "text": [
      "50000 candidates loaded\n",
      "1.7448610687361392 0.95998764\n"
     ]
    },
    {
     "data": {
      "text/plain": [
       "(1.7448610687361392, 0.95998764)"
      ]
     },
     "execution_count": 336,
     "metadata": {},
     "output_type": "execute_result"
    }
   ],
   "source": [
    "amsScanQuick(convertToDF(valData.source), 1, 1)"
   ]
  },
  {
   "cell_type": "code",
   "execution_count": 329,
   "metadata": {},
   "outputs": [
    {
     "name": "stdout",
     "output_type": "stream",
     "text": [
      "50000 candidates loaded\n",
      "[0.9753281474113464, 1.345941920072834]\n",
      "Fold 0, best AMS 1.34594192007 at cut of 0.975328147411. Total weights Signal:Bkg. 13.7167768478:8151.65917969\n"
     ]
    },
    {
     "name": "stderr",
     "output_type": "stream",
     "text": [
      "/home/giles/anaconda2/lib/python2.7/site-packages/ipykernel_launcher.py:20: UserWarning: Boolean Series key will be reindexed to match DataFrame index.\n",
      "/home/giles/anaconda2/lib/python2.7/site-packages/ipykernel_launcher.py:21: UserWarning: Boolean Series key will be reindexed to match DataFrame index.\n"
     ]
    },
    {
     "name": "stdout",
     "output_type": "stream",
     "text": [
      "[0.9858377575874329, 1.3867985250387396]\n",
      "Fold 1, best AMS 1.38679852504 at cut of 0.985837757587. Total weights Signal:Bkg. 13.7795658112:8172.04101562\n",
      "[0.983581006526947, 1.4414358597371966]\n",
      "Fold 2, best AMS 1.44143585974 at cut of 0.983581006527. Total weights Signal:Bkg. 13.8481006622:8319.9375\n",
      "[0.9404186606407166, 1.2485394644899082]\n",
      "Fold 3, best AMS 1.24853946449 at cut of 0.940418660641. Total weights Signal:Bkg. 13.6938896179:8190.86474609\n",
      "[0.9427838921546936, 1.2266774965448515]\n",
      "Fold 4, best AMS 1.22667749654 at cut of 0.942783892155. Total weights Signal:Bkg. 13.7885246277:8086.55126953\n",
      "[0.9770797491073608, 2.4728650219419634]\n",
      "Fold 5, best AMS 2.47286502194 at cut of 0.977079749107. Total weights Signal:Bkg. 13.9748182297:8270.1484375\n",
      "[0.9754099249839783, 1.3927320244095838]\n",
      "Fold 6, best AMS 1.39273202441 at cut of 0.975409924984. Total weights Signal:Bkg. 14.3369216919:8249.79101562\n",
      "[0.9606456160545349, 1.5890744111058275]\n",
      "Fold 7, best AMS 1.58907441111 at cut of 0.960645616055. Total weights Signal:Bkg. 14.1645526886:8047.31689453\n",
      "[0.9334101676940918, 1.3427839062264115]\n",
      "Fold 8, best AMS 1.34278390623 at cut of 0.933410167694. Total weights Signal:Bkg. 14.3825778961:8094.68066406\n",
      "[0.9642895460128784, 1.2774168246139534]\n",
      "Fold 9, best AMS 1.27741682461 at cut of 0.964289546013. Total weights Signal:Bkg. 13.2657079697:8209.29882812\n",
      "Mean cut 0.9626363224736257 mean AMS 1.4177943666556512\n"
     ]
    }
   ],
   "source": [
    "bests = foldAMSScan(convertToDF(valData.source))"
   ]
  },
  {
   "cell_type": "code",
   "execution_count": 337,
   "metadata": {},
   "outputs": [
    {
     "name": "stdout",
     "output_type": "stream",
     "text": [
      "0.9638784468173981\n",
      "0.9626363224736257\n",
      "0.9653914582960732\n",
      "0.9557010754710975\n",
      "0.9646777562398445\n"
     ]
    }
   ],
   "source": [
    "print np.average([x[0] for x in bests])\n",
    "print np.average([x[0] for x in bests], weights=[1/x[1] for x in bests])\n",
    "print np.average([x[0] for x in bests], weights=[x[1] for x in bests])\n",
    "print np.average([x[0] for x in bests], weights=[1.7448610687361392-x[1] for x in bests])\n",
    "print np.average([x[0] for x in bests], weights=[1/np.abs(1.7448610687361392-x[1]) for x in bests])"
   ]
  },
  {
   "cell_type": "code",
   "execution_count": 282,
   "metadata": {},
   "outputs": [
    {
     "name": "stdout",
     "output_type": "stream",
     "text": [
      "Predicting batch 1 out of 10\n",
      "Prediction took 0.0102225558194s per sample\n",
      "\n",
      "Predicting batch 2 out of 10\n",
      "Prediction took 0.00714328707348s per sample\n",
      "\n",
      "Predicting batch 3 out of 10\n",
      "Prediction took 0.00715095481439s per sample\n",
      "\n",
      "Predicting batch 4 out of 10\n",
      "Prediction took 0.00716434243809s per sample\n",
      "\n",
      "Predicting batch 5 out of 10\n",
      "Prediction took 0.00717327899933s per sample\n",
      "\n",
      "Predicting batch 6 out of 10\n",
      "Prediction took 0.00717131827094s per sample\n",
      "\n",
      "Predicting batch 7 out of 10\n",
      "Prediction took 0.00718027054613s per sample\n",
      "\n",
      "Predicting batch 8 out of 10\n",
      "Prediction took 0.00717530889078s per sample\n",
      "\n",
      "Predicting batch 9 out of 10\n",
      "Prediction took 0.00717386498018s per sample\n",
      "\n",
      "Predicting batch 10 out of 10\n",
      "Prediction took 0.00718395217982s per sample\n",
      "\n"
     ]
    }
   ],
   "source": [
    "batchEnsemblePredict(ensemble, weights, \n",
    "                     RotationReflectionBatch(classTrainFeatures, h5py.File(dirLoc + 'testing.hdf5', \"r+\"), inputPipe=inputPipe,\n",
    "                                  rotate = True, reflect = True, augRotMult=8),\n",
    "                     ensembleSize=10, verbose=1)"
   ]
  },
  {
   "cell_type": "code",
   "execution_count": 338,
   "metadata": {},
   "outputs": [
    {
     "name": "stdout",
     "output_type": "stream",
     "text": [
      "../Data/Day_10_M_rotref8_10_test.csv\n"
     ]
    }
   ],
   "source": [
    "saveTest(0.9557010754710975, 'Day_10_M_rotref8_10')"
   ]
  },
  {
   "cell_type": "code",
   "execution_count": 339,
   "metadata": {},
   "outputs": [
    {
     "name": "stdout",
     "output_type": "stream",
     "text": [
      "Successfully submitted to Higgs Boson Machine Learning Challenge"
     ]
    }
   ],
   "source": [
    "!kaggle competitions submit -c higgs-boson -f ../Data/Day_10_M_rotref8_10_test.csv -m\"Day_10 minus rotref8 10\""
   ]
  },
  {
   "cell_type": "markdown",
   "metadata": {},
   "source": [
    "## Response on validation data Rot-Ref 16 10"
   ]
  },
  {
   "cell_type": "code",
   "execution_count": 340,
   "metadata": {},
   "outputs": [],
   "source": [
    "with open(dirLoc + 'inputPipe.pkl', 'r') as fin:\n",
    "    inputPipe = pickle.load(fin)"
   ]
  },
  {
   "cell_type": "code",
   "execution_count": 341,
   "metadata": {},
   "outputs": [],
   "source": [
    "valData = RotationReflectionBatch(classTrainFeatures, h5py.File(dirLoc + 'val.hdf5', \"r+\"), inputPipe=inputPipe,\n",
    "                                  rotate = True, reflect = True, augRotMult=16)"
   ]
  },
  {
   "cell_type": "code",
   "execution_count": 343,
   "metadata": {},
   "outputs": [
    {
     "name": "stdout",
     "output_type": "stream",
     "text": [
      "Predicting batch 1 out of 10\n",
      "Prediction took 0.0189333316326s per sample\n",
      "\n",
      "Predicting batch 2 out of 10\n",
      "Prediction took 0.01705866642s per sample\n",
      "\n",
      "Predicting batch 3 out of 10\n",
      "Prediction took 0.01929036479s per sample\n",
      "\n",
      "Predicting batch 4 out of 10\n",
      "Prediction took 0.0175134486198s per sample\n",
      "\n",
      "Predicting batch 5 out of 10\n",
      "Prediction took 0.0175624599934s per sample\n",
      "\n",
      "Predicting batch 6 out of 10\n",
      "Prediction took 0.0177510950089s per sample\n",
      "\n",
      "Predicting batch 7 out of 10\n",
      "Prediction took 0.0179121144295s per sample\n",
      "\n",
      "Predicting batch 8 out of 10\n",
      "Prediction took 0.0185949529648s per sample\n",
      "\n",
      "Predicting batch 9 out of 10\n",
      "Prediction took 0.0175262567997s per sample\n",
      "\n",
      "Predicting batch 10 out of 10\n",
      "Prediction took 0.0175568314075s per sample\n",
      "\n"
     ]
    }
   ],
   "source": [
    "batchEnsemblePredict(ensemble, weights, valData, ensembleSize=10, verbose=1)"
   ]
  },
  {
   "cell_type": "code",
   "execution_count": 344,
   "metadata": {},
   "outputs": [
    {
     "name": "stdout",
     "output_type": "stream",
     "text": [
      "Testing ROC AUC: unweighted 0.904339597763, weighted 0.936222626452\n"
     ]
    }
   ],
   "source": [
    "print 'Testing ROC AUC: unweighted {}, weighted {}'.format(roc_auc_score(getFeature('targets', valData.source), getFeature('pred', valData.source)),\n",
    "                                                           roc_auc_score(getFeature('targets', valData.source), getFeature('pred', valData.source), sample_weight=getFeature('weights', valData.source)))"
   ]
  },
  {
   "cell_type": "code",
   "execution_count": 345,
   "metadata": {},
   "outputs": [
    {
     "name": "stdout",
     "output_type": "stream",
     "text": [
      "50000 candidates loaded\n",
      "1.7472080023156094 0.9634347\n"
     ]
    },
    {
     "data": {
      "text/plain": [
       "(1.7472080023156094, 0.9634347)"
      ]
     },
     "execution_count": 345,
     "metadata": {},
     "output_type": "execute_result"
    }
   ],
   "source": [
    "amsScanQuick(convertToDF(valData.source), 1, 1)"
   ]
  },
  {
   "cell_type": "code",
   "execution_count": 346,
   "metadata": {},
   "outputs": [
    {
     "name": "stdout",
     "output_type": "stream",
     "text": [
      "50000 candidates loaded\n",
      "[0.9806860089302063, 1.359051084446112]\n",
      "Fold 0, best AMS 1.35905108445 at cut of 0.98068600893. Total weights Signal:Bkg. 13.9064006805:8144.05859375\n"
     ]
    },
    {
     "name": "stderr",
     "output_type": "stream",
     "text": [
      "/home/giles/anaconda2/lib/python2.7/site-packages/ipykernel_launcher.py:20: UserWarning: Boolean Series key will be reindexed to match DataFrame index.\n",
      "/home/giles/anaconda2/lib/python2.7/site-packages/ipykernel_launcher.py:21: UserWarning: Boolean Series key will be reindexed to match DataFrame index.\n"
     ]
    },
    {
     "name": "stdout",
     "output_type": "stream",
     "text": [
      "[0.9367119073867798, 1.2363223089068271]\n",
      "Fold 1, best AMS 1.23632230891 at cut of 0.936711907387. Total weights Signal:Bkg. 14.0525436401:8285.08886719\n",
      "[0.9592130184173584, 1.6155390593049694]\n",
      "Fold 2, best AMS 1.6155390593 at cut of 0.959213018417. Total weights Signal:Bkg. 13.9644622803:8361.75390625\n",
      "[0.9806404709815979, 1.5845495619242753]\n",
      "Fold 3, best AMS 1.58454956192 at cut of 0.980640470982. Total weights Signal:Bkg. 14.2921676636:8063.52441406\n",
      "[0.9770373106002808, 1.3291674622215222]\n",
      "Fold 4, best AMS 1.32916746222 at cut of 0.9770373106. Total weights Signal:Bkg. 13.9828681946:8023.92675781\n",
      "[0.9512416124343872, 1.1706405601160217]\n",
      "Fold 5, best AMS 1.17064056012 at cut of 0.951241612434. Total weights Signal:Bkg. 13.8208732605:8024.08154297\n",
      "[0.9518672227859497, 1.5515321038875243]\n",
      "Fold 6, best AMS 1.55153210389 at cut of 0.951867222786. Total weights Signal:Bkg. 14.6555528641:8286.48828125\n",
      "[0.978404700756073, 1.351576983787843]\n",
      "Fold 7, best AMS 1.35157698379 at cut of 0.978404700756. Total weights Signal:Bkg. 13.2724571228:8253.00683594\n",
      "[0.9364314079284668, 1.3573007958541925]\n",
      "Fold 8, best AMS 1.35730079585 at cut of 0.936431407928. Total weights Signal:Bkg. 13.4848556519:8201.87304688\n",
      "[0.9716654419898987, 1.4298515955666742]\n",
      "Fold 9, best AMS 1.42985159557 at cut of 0.97166544199. Total weights Signal:Bkg. 13.5192546844:8148.48730469\n",
      "Mean cut 0.9618595264700661 mean AMS 1.384685822875167\n"
     ]
    }
   ],
   "source": [
    "bests = foldAMSScan(convertToDF(valData.source))"
   ]
  },
  {
   "cell_type": "code",
   "execution_count": 350,
   "metadata": {},
   "outputs": [
    {
     "name": "stdout",
     "output_type": "stream",
     "text": [
      "Mean 0.9623899102210999\n",
      "Inverse-AMS-weighted mean 0.9618595264700661\n",
      "AMS-weighted mean 0.9628669633605695\n",
      "AMS-Difference-weighted mean 0.9604763152422247\n",
      "Inverse AMS-Difference-weighted mean 0.9637883888059864\n"
     ]
    }
   ],
   "source": [
    "print 'Mean', np.average([x[0] for x in bests])\n",
    "print 'Inverse-AMS-weighted mean', np.average([x[0] for x in bests], weights=[1/x[1] for x in bests])\n",
    "print 'AMS-weighted mean', np.average([x[0] for x in bests], weights=[x[1] for x in bests])\n",
    "print 'AMS-Difference-weighted mean', np.average([x[0] for x in bests], weights=[1.7472080023156094-x[1] for x in bests])\n",
    "print 'Inverse AMS-Difference-weighted mean', np.average([x[0] for x in bests], weights=[1/np.abs(1.7472080023156094-x[1]) for x in bests])"
   ]
  },
  {
   "cell_type": "code",
   "execution_count": 348,
   "metadata": {},
   "outputs": [
    {
     "name": "stdout",
     "output_type": "stream",
     "text": [
      "Predicting batch 1 out of 10\n",
      "Prediction took 0.0169123962576s per sample\n",
      "\n",
      "Predicting batch 2 out of 10\n",
      "Prediction took 0.0167690309308s per sample\n",
      "\n",
      "Predicting batch 3 out of 10\n",
      "Prediction took 0.0168373967431s per sample\n",
      "\n",
      "Predicting batch 4 out of 10\n",
      "Prediction took 0.0168076757821s per sample\n",
      "\n",
      "Predicting batch 5 out of 10\n",
      "Prediction took 0.0142331053821s per sample\n",
      "\n",
      "Predicting batch 6 out of 10\n",
      "Prediction took 0.014805176891s per sample\n",
      "\n",
      "Predicting batch 7 out of 10\n",
      "Prediction took 0.0708010923819s per sample\n",
      "\n",
      "Predicting batch 8 out of 10\n",
      "Prediction took 0.0146434947837s per sample\n",
      "\n",
      "Predicting batch 9 out of 10\n",
      "Prediction took 0.0145613361445s per sample\n",
      "\n",
      "Predicting batch 10 out of 10\n",
      "Prediction took 0.0145477535291s per sample\n",
      "\n"
     ]
    }
   ],
   "source": [
    "batchEnsemblePredict(ensemble, weights, \n",
    "                     RotationReflectionBatch(classTrainFeatures, h5py.File(dirLoc + 'testing.hdf5', \"r+\"), inputPipe=inputPipe,\n",
    "                                  rotate = True, reflect = True, augRotMult=16),\n",
    "                     ensembleSize=10, verbose=1)"
   ]
  },
  {
   "cell_type": "code",
   "execution_count": 356,
   "metadata": {},
   "outputs": [
    {
     "name": "stdout",
     "output_type": "stream",
     "text": [
      "../Data/Day_10_95_rotref16_10_test.csv\n"
     ]
    }
   ],
   "source": [
    "saveTest(0.95, 'Day_10_95_rotref16_10')"
   ]
  },
  {
   "cell_type": "code",
   "execution_count": 358,
   "metadata": {},
   "outputs": [
    {
     "name": "stdout",
     "output_type": "stream",
     "text": [
      "Successfully submitted to Higgs Boson Machine Learning Challenge"
     ]
    }
   ],
   "source": [
    "!kaggle competitions submit -c higgs-boson -f ../Data/Day_10_95_rotref16_10_test.csv -m\"Day_10 95 rotref16 10\""
   ]
  },
  {
   "cell_type": "code",
   "execution_count": null,
   "metadata": {},
   "outputs": [],
   "source": []
  }
 ],
 "metadata": {
  "kernelspec": {
   "display_name": "Python 2",
   "language": "python",
   "name": "python2"
  },
  "language_info": {
   "codemirror_mode": {
    "name": "ipython",
    "version": 2
   },
   "file_extension": ".py",
   "mimetype": "text/x-python",
   "name": "python",
   "nbconvert_exporter": "python",
   "pygments_lexer": "ipython2",
   "version": "2.7.14"
  }
 },
 "nbformat": 4,
 "nbformat_minor": 1
}
