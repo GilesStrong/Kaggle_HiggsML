{
 "cells": [
  {
   "cell_type": "markdown",
   "metadata": {},
   "source": [
    "# Day 9\n",
    "batch size 256 lr 1e-3, normed weighted, non-rotated, cartesian, reflection and rotation augmentation"
   ]
  },
  {
   "cell_type": "markdown",
   "metadata": {},
   "source": [
    "### Import modules"
   ]
  },
  {
   "cell_type": "code",
   "execution_count": 1,
   "metadata": {},
   "outputs": [
    {
     "name": "stderr",
     "output_type": "stream",
     "text": [
      "/home/giles/anaconda2/lib/python2.7/site-packages/h5py/__init__.py:36: FutureWarning: Conversion of the second argument of issubdtype from `float` to `np.floating` is deprecated. In future, it will be treated as `np.float64 == np.dtype(float).type`.\n",
      "  from ._conv import register_converters as _register_converters\n",
      "/home/giles/anaconda2/lib/python2.7/site-packages/statsmodels/compat/pandas.py:56: FutureWarning: The pandas.core.datetools module is deprecated and will be removed in a future version. Please use the pandas.tseries module instead.\n",
      "  from pandas.core import datetools\n",
      "Using TensorFlow backend.\n"
     ]
    }
   ],
   "source": [
    "%matplotlib inline\n",
    "from __future__ import division\n",
    "import sys\n",
    "import os\n",
    "os.environ['MKL_THREADING_LAYER']='GNU'\n",
    "sys.path.append('../')\n",
    "from Modules.Basics import *\n",
    "from Modules.Class_Basics import *"
   ]
  },
  {
   "cell_type": "markdown",
   "metadata": {},
   "source": [
    "## Options"
   ]
  },
  {
   "cell_type": "code",
   "execution_count": 2,
   "metadata": {
    "scrolled": false
   },
   "outputs": [
    {
     "name": "stdout",
     "output_type": "stream",
     "text": [
      "\n",
      "Training on 31 features: ['DER_mass_MMC', 'DER_mass_transverse_met_lep', 'DER_mass_vis', 'DER_pt_h', 'DER_deltaeta_jet_jet', 'DER_mass_jet_jet', 'DER_prodeta_jet_jet', 'DER_deltar_tau_lep', 'DER_pt_tot', 'DER_sum_pt', 'DER_pt_ratio_lep_tau', 'DER_met_phi_centrality', 'DER_lep_eta_centrality', 'PRI_met_pt', 'PRI_met_sumet', 'PRI_jet_num', 'PRI_jet_all_pt', 'PRI_tau_px', 'PRI_tau_py', 'PRI_tau_pz', 'PRI_lep_px', 'PRI_lep_py', 'PRI_lep_pz', 'PRI_jet_leading_px', 'PRI_jet_leading_py', 'PRI_jet_leading_pz', 'PRI_jet_subleading_px', 'PRI_jet_subleading_py', 'PRI_jet_subleading_pz', 'PRI_met_px', 'PRI_met_py']\n"
     ]
    }
   ],
   "source": [
    "classTrainFeatures = ['DER_mass_MMC', 'DER_mass_transverse_met_lep', 'DER_mass_vis', 'DER_pt_h', 'DER_deltaeta_jet_jet', 'DER_mass_jet_jet', 'DER_prodeta_jet_jet', 'DER_deltar_tau_lep', 'DER_pt_tot', 'DER_sum_pt', 'DER_pt_ratio_lep_tau', 'DER_met_phi_centrality', 'DER_lep_eta_centrality', 'PRI_met_pt', 'PRI_met_sumet', 'PRI_jet_num', 'PRI_jet_all_pt', 'PRI_tau_px', 'PRI_tau_py', 'PRI_tau_pz', 'PRI_lep_px', 'PRI_lep_py', 'PRI_lep_pz', 'PRI_jet_leading_px', 'PRI_jet_leading_py', 'PRI_jet_leading_pz', 'PRI_jet_subleading_px', 'PRI_jet_subleading_py', 'PRI_jet_subleading_pz', 'PRI_met_px', 'PRI_met_py']\n",
    "classModel = 'modelSwish'\n",
    "varSet = \"basic_features\"\n",
    "\n",
    "nSplits = 10\n",
    "ensembleSize = 10\n",
    "ensembleMode = 'loss'\n",
    "\n",
    "maxEpochs = 200\n",
    "compileArgs = {'loss':'binary_crossentropy', 'optimizer':'adam'}\n",
    "trainParams = {'epochs' : 1, 'batch_size' : 256, 'verbose' : 0}\n",
    "modelParams = {'version':classModel, 'nIn':len(classTrainFeatures), 'compileArgs':compileArgs, 'mode':'classifier'}\n",
    "\n",
    "print \"\\nTraining on\", len(classTrainFeatures), \"features:\", [var for var in classTrainFeatures]"
   ]
  },
  {
   "cell_type": "markdown",
   "metadata": {},
   "source": [
    "## Import data"
   ]
  },
  {
   "cell_type": "code",
   "execution_count": 57,
   "metadata": {},
   "outputs": [],
   "source": [
    "class RotationReflectionBatch(BatchYielder):\n",
    "    def __init__(self, header, datafile=None, augRotMult=4, trainTimeAug=True, testTimeAug=True):\n",
    "        self.header = header\n",
    "        self.augmented = True\n",
    "        self.augRotMult = augRotMult\n",
    "        self.augMult = self.augRotMult*4\n",
    "        self.trainTimeAug = trainTimeAug\n",
    "        self.testTimeAug = testTimeAug\n",
    "        if not isinstance(datafile, types.NoneType):\n",
    "            self.addSource(datafile)\n",
    "    \n",
    "    @staticmethod\n",
    "    def rotate(inData, vectors):\n",
    "        for vector in vectors:\n",
    "            inData.loc[:, vector + '_px'] = inData.loc[:, vector + '_px']*np.cos(inData.loc[:, 'aug_angle'])-inData.loc[:, vector + '_py']*np.sin(inData.loc[:, 'aug_angle'])\n",
    "            inData.loc[:, vector + '_py'] = inData.loc[:, vector + '_py']*np.cos(inData.loc[:, 'aug_angle'])+inData.loc[:, vector + '_px']*np.sin(inData.loc[:, 'aug_angle'])\n",
    "    \n",
    "    @staticmethod\n",
    "    def reflect(inData, vectors):\n",
    "        for vector in vectors:\n",
    "            for coord in ['_px', '_pz']:\n",
    "                try:\n",
    "                    inData.loc[inData['aug' + coord] == 1, vector + coord] = -inData.loc[inData['aug' + coord] == 1, vector + coord]\n",
    "                except KeyError:\n",
    "                    pass\n",
    "            \n",
    "    def getBatch(self, index, datafile=None):\n",
    "        if isinstance(datafile, types.NoneType):\n",
    "            datafile = self.source\n",
    "            \n",
    "        index = str(index)\n",
    "        weights = None\n",
    "        targets = None\n",
    "        if 'fold_' + index + '/weights' in datafile:\n",
    "            weights = np.array(datafile['fold_' + index + '/weights'])\n",
    "        if 'fold_' + index + '/targets' in datafile:\n",
    "            targets = np.array(datafile['fold_' + index + '/targets'])\n",
    "\n",
    "        inputs = pandas.DataFrame(np.array(datafile['fold_' + index + '/inputs']), columns=self.header)\n",
    "        vectors = [x[:-3] for x in inputs.columns if '_px' in x]\n",
    "        inputs['aug_angle'] = 2*np.pi*np.random.random(size=len(inputs))\n",
    "        for coord in ['_px', '_pz']:\n",
    "            inputs['aug' + coord] = np.random.randint(0, 2, size=len(inputs))\n",
    "        self.rotate(inputs, vectors)\n",
    "        self.reflect(inputs, vectors)\n",
    "        \n",
    "        return {'inputs':inputs[self.header].values,\n",
    "                'targets':targets,\n",
    "                'weights':weights}\n",
    "    \n",
    "    def getTestBatch(self, index, augIndex, datafile=None):\n",
    "        if augIndex >= self.augMult:\n",
    "            print \"Invalid augmentation index passed\", augIndex\n",
    "            return -1\n",
    "        \n",
    "        if isinstance(datafile, types.NoneType):\n",
    "            datafile = self.source\n",
    "            \n",
    "        index = str(index)\n",
    "        weights = None\n",
    "        targets = None\n",
    "        if 'fold_' + index + '/weights' in datafile:\n",
    "            weights = np.array(datafile['fold_' + index + '/weights'])\n",
    "        if 'fold_' + index + '/targets' in datafile:\n",
    "            targets = np.array(datafile['fold_' + index + '/targets'])\n",
    "            \n",
    "        inputs = pandas.DataFrame(np.array(datafile['fold_' + index + '/inputs']), columns=self.header)\n",
    "        rotIndex = augIndex%self.augRotMult\n",
    "        refIndex = '{0:02b}'.format(int(augIndex/4))\n",
    "        vectors = [x[:-3] for x in inputs.columns if '_px' in x]\n",
    "        inputs['aug_angle'] = np.linspace(0, 2*np.pi, (self.augRotMult)+1)[rotIndex]\n",
    "        for i, coord in enumerate(['_px', '_pz']):\n",
    "            inputs['aug' + coord] = int(refIndex[i])\n",
    "        self.rotate(inputs, vectors)\n",
    "        self.reflect(inputs, vectors)\n",
    "\n",
    "        return {'inputs':inputs[self.header].values,\n",
    "                'targets':targets,\n",
    "                'weights':weights}"
   ]
  },
  {
   "cell_type": "code",
   "execution_count": 58,
   "metadata": {},
   "outputs": [],
   "source": [
    "trainData = RotationReflectionBatch(classTrainFeatures, h5py.File(dirLoc + 'train.hdf5', \"r+\"))\n",
    "valData = RotationReflectionBatch(classTrainFeatures, h5py.File(dirLoc + 'val.hdf5', \"r+\"))"
   ]
  },
  {
   "cell_type": "markdown",
   "metadata": {},
   "source": [
    "## Determine LR"
   ]
  },
  {
   "cell_type": "code",
   "execution_count": 59,
   "metadata": {
    "scrolled": false
   },
   "outputs": [
    {
     "name": "stdout",
     "output_type": "stream",
     "text": [
      "2 classes found, running in binary mode\n",
      "\n",
      "\n",
      "______________________________________\n",
      "Training finished\n",
      "Cross-validation took 1.229s \n"
     ]
    },
    {
     "data": {
      "image/png": "[encoded data removed]",
      "text/plain": [
       "<matplotlib.figure.Figure at 0x7f403f2c2e10>"
      ]
     },
     "metadata": {},
     "output_type": "display_data"
    },
    {
     "data": {
      "image/png": "[encoded data removed]",
      "text/plain": [
       "<matplotlib.figure.Figure at 0x7f403c67ba50>"
      ]
     },
     "metadata": {},
     "output_type": "display_data"
    },
    {
     "name": "stdout",
     "output_type": "stream",
     "text": [
      "______________________________________\n",
      "\n"
     ]
    }
   ],
   "source": [
    "lrFinder = batchLRFind(trainData, getModel, modelParams, trainParams,\n",
    "                       lrBounds=[1e-5,1e-1], trainOnWeights=True, verbose=0)"
   ]
  },
  {
   "cell_type": "code",
   "execution_count": 60,
   "metadata": {},
   "outputs": [],
   "source": [
    "compileArgs['lr'] = 1e-3"
   ]
  },
  {
   "cell_type": "markdown",
   "metadata": {},
   "source": [
    "## Train classifier"
   ]
  },
  {
   "cell_type": "code",
   "execution_count": null,
   "metadata": {
    "scrolled": false
   },
   "outputs": [
    {
     "name": "stdout",
     "output_type": "stream",
     "text": [
      "Using cosine annealing\n",
      "Training using weights\n",
      "Running fold 1 / 10\n",
      "2 classes found, running in binary mode\n",
      "\n",
      "1 New best found: 4.4283700067e-05\n",
      "2 New best found: 3.92413603924e-05\n",
      "3 New best found: 3.8136331588e-05\n",
      "4 New best found: 3.76118607045e-05\n",
      "5 New best found: 3.66991365834e-05\n",
      "6 New best found: 3.65648081643e-05\n",
      "7 New best found: 3.62912261731e-05\n",
      "9 New best found: 3.59634010658e-05\n",
      "10 New best found: 3.57225122846e-05\n",
      "11 New best found: 3.55747691999e-05\n",
      "12 New best found: 3.5280910456e-05\n",
      "13 New best found: 3.50571040309e-05\n",
      "19 New best found: 3.49350544745e-05\n",
      "23 New best found: 3.46378303685e-05\n",
      "25 New best found: 3.45670017287e-05\n",
      "26 New best found: 3.45202360361e-05\n",
      "27 New best found: 3.44955552434e-05\n",
      "28 New best found: 3.44067859261e-05\n",
      "30 New best found: 3.43423835319e-05\n",
      "31 New best found: 3.41905804161e-05\n",
      "42 New best found: 3.41592612905e-05\n",
      "43 New best found: 3.41253441406e-05\n",
      "45 New best found: 3.4043416199e-05\n",
      "48 New best found: 3.39002235063e-05\n",
      "49 New best found: 3.37378706048e-05\n",
      "55 New best found: 3.35575962307e-05\n",
      "86 New best found: 3.35453444042e-05\n",
      "90 New best found: 3.34965594422e-05\n",
      "94 New best found: 3.33789835801e-05\n",
      "104 New best found: 3.33726225666e-05\n",
      "108 New best found: 3.33503362632e-05\n",
      "109 New best found: 3.33254007634e-05\n",
      "111 New best found: 3.33045269244e-05\n",
      "112 New best found: 3.32974908678e-05\n",
      "117 New best found: 3.32546554462e-05\n",
      "189 New best found: 3.32254140366e-05\n",
      "193 New best found: 3.32084549359e-05\n",
      "211 New best found: 3.3169302088e-05\n",
      "229 New best found: 3.3140812012e-05\n",
      "252 New best found: 3.3131680929e-05\n",
      "Early stopping after 511 epochs\n",
      "Score is: {'loss': 3.313168092899132e-05, 'AUC': 0.10558481623740468, 'wAUC': 0.06917449515141916}\n",
      "Fold took 586.824s\n",
      "\n",
      "Running fold 2 / 10\n",
      "1 New best found: 4.40641988037e-05\n",
      "2 New best found: 3.85919655509e-05\n",
      "3 New best found: 3.76858702835e-05\n",
      "4 New best found: 3.73273866538e-05\n",
      "5 New best found: 3.58649793875e-05\n",
      "6 New best found: 3.54874347997e-05\n",
      "9 New best found: 3.50062235877e-05\n",
      "10 New best found: 3.47891850152e-05\n",
      "11 New best found: 3.44296692512e-05\n",
      "12 New best found: 3.40579727663e-05\n",
      "13 New best found: 3.40203939616e-05\n",
      "14 New best found: 3.3898547991e-05\n",
      "19 New best found: 3.37799293813e-05\n",
      "20 New best found: 3.36592758836e-05\n",
      "21 New best found: 3.33121189702e-05\n",
      "24 New best found: 3.31401896009e-05\n",
      "25 New best found: 3.27783118107e-05\n",
      "41 New best found: 3.25776126478e-05\n",
      "45 New best found: 3.23877128691e-05\n",
      "48 New best found: 3.22376268885e-05\n",
      "52 New best found: 3.22124192608e-05\n",
      "53 New best found: 3.21981005717e-05\n",
      "54 New best found: 3.2093124126e-05\n",
      "55 New best found: 3.19547661468e-05\n",
      "61 New best found: 3.19381327853e-05\n",
      "62 New best found: 3.18828146542e-05\n",
      "84 New best found: 3.17257100273e-05\n",
      "88 New best found: 3.16456384304e-05\n",
      "99 New best found: 3.15668962489e-05\n",
      "102 New best found: 3.15228027605e-05\n",
      "106 New best found: 3.15013419037e-05\n",
      "107 New best found: 3.14620545808e-05\n",
      "110 New best found: 3.13663748271e-05\n",
      "114 New best found: 3.13355262236e-05\n",
      "115 New best found: 3.13204265083e-05\n",
      "118 New best found: 3.12696853282e-05\n",
      "124 New best found: 3.12473700475e-05\n",
      "195 New best found: 3.11838865992e-05\n",
      "206 New best found: 3.11717452045e-05\n",
      "212 New best found: 3.11504506546e-05\n",
      "213 New best found: 3.10497171228e-05\n",
      "230 New best found: 3.10374061436e-05\n",
      "232 New best found: 3.10126384875e-05\n",
      "235 New best found: 3.09773216659e-05\n",
      "246 New best found: 3.09567698734e-05\n",
      "Early stopping after 511 epochs\n",
      "Score is: {'loss': 3.095676987339591e-05, 'AUC': 0.09867496471934267, 'wAUC': 0.06084750850300025}\n",
      "Fold took 514.179s\n",
      "\n",
      "Running fold 3 / 10\n",
      "1 New best found: 4.27479567249e-05\n",
      "2 New best found: 3.84722942884e-05\n",
      "3 New best found: 3.74621595759e-05\n",
      "4 New best found: 3.65384583097e-05\n",
      "5 New best found: 3.57791562992e-05\n",
      "6 New best found: 3.57586049915e-05\n",
      "7 New best found: 3.54113534255e-05\n",
      "8 New best found: 3.52165804484e-05\n",
      "10 New best found: 3.47340885328e-05\n",
      "11 New best found: 3.46435036501e-05\n",
      "12 New best found: 3.46269630099e-05\n",
      "13 New best found: 3.41144138916e-05\n",
      "14 New best found: 3.40999097786e-05\n",
      "19 New best found: 3.38296456773e-05\n",
      "22 New best found: 3.38161705121e-05\n",
      "23 New best found: 3.35153338528e-05\n",
      "24 New best found: 3.3479229539e-05\n",
      "25 New best found: 3.34285442113e-05\n",
      "26 New best found: 3.33044492908e-05\n",
      "27 New best found: 3.32746561662e-05\n",
      "28 New best found: 3.32397695733e-05\n",
      "29 New best found: 3.31757198942e-05\n",
      "31 New best found: 3.31568362762e-05\n",
      "43 New best found: 3.31494813846e-05\n",
      "44 New best found: 3.30030247836e-05\n",
      "46 New best found: 3.27716262143e-05\n",
      "48 New best found: 3.2652181579e-05\n",
      "50 New best found: 3.2578100362e-05\n",
      "52 New best found: 3.2479366222e-05\n",
      "59 New best found: 3.23649007042e-05\n",
      "85 New best found: 3.22321643154e-05\n",
      "86 New best found: 3.22196187684e-05\n",
      "91 New best found: 3.22070717271e-05\n",
      "92 New best found: 3.21886290734e-05\n",
      "96 New best found: 3.2145120087e-05\n",
      "97 New best found: 3.21009555378e-05\n",
      "100 New best found: 3.20980822732e-05\n",
      "104 New best found: 3.20876249542e-05\n",
      "106 New best found: 3.19965256272e-05\n",
      "112 New best found: 3.19764810817e-05\n",
      "113 New best found: 3.19466020759e-05\n",
      "115 New best found: 3.19313915687e-05\n",
      "118 New best found: 3.18809185725e-05\n",
      "123 New best found: 3.18682124592e-05\n",
      "125 New best found: 3.18672818253e-05\n",
      "126 New best found: 3.18336341928e-05\n",
      "179 New best found: 3.17882517955e-05\n",
      "193 New best found: 3.16176781725e-05\n",
      "214 New best found: 3.15502592282e-05\n",
      "217 New best found: 3.15405351638e-05\n",
      "233 New best found: 3.15351260314e-05\n",
      "237 New best found: 3.14975300763e-05\n",
      "238 New best found: 3.14820653815e-05\n",
      "244 New best found: 3.14503619091e-05\n",
      "397 New best found: 3.14337156427e-05\n",
      "433 New best found: 3.14253300951e-05\n",
      "440 New best found: 3.1421543422e-05\n",
      "442 New best found: 3.13988214768e-05\n",
      "451 New best found: 3.13794061425e-05\n",
      "474 New best found: 3.13720274858e-05\n",
      "490 New best found: 3.135979973e-05\n",
      "491 New best found: 3.13339706802e-05\n",
      "499 New best found: 3.12939764671e-05\n",
      "Early stopping after 1023 epochs\n",
      "Score is: {'loss': 3.1293976467134276e-05, 'AUC': 0.09672380632461619, 'wAUC': 0.06169396540547534}\n",
      "Fold took 1062.907s\n",
      "\n",
      "Running fold 4 / 10\n",
      "1 New best found: 4.46185936887e-05\n",
      "2 New best found: 3.95277420054e-05\n",
      "3 New best found: 3.88558724534e-05\n",
      "4 New best found: 3.74330387545e-05\n",
      "5 New best found: 3.66363297436e-05\n",
      "6 New best found: 3.63478534847e-05\n",
      "8 New best found: 3.62547283824e-05\n",
      "9 New best found: 3.60485037066e-05\n",
      "10 New best found: 3.58631517379e-05\n",
      "11 New best found: 3.53741007729e-05\n",
      "13 New best found: 3.50325642923e-05\n",
      "14 New best found: 3.49704933678e-05\n",
      "20 New best found: 3.49687946162e-05\n",
      "21 New best found: 3.4432791624e-05\n",
      "24 New best found: 3.4350184645e-05\n",
      "26 New best found: 3.42813942714e-05\n",
      "27 New best found: 3.41878775653e-05\n",
      "29 New best found: 3.39507508168e-05\n",
      "40 New best found: 3.39393367612e-05\n",
      "47 New best found: 3.36739131158e-05\n",
      "50 New best found: 3.36103378641e-05\n",
      "53 New best found: 3.3595810993e-05\n",
      "54 New best found: 3.3559979605e-05\n",
      "55 New best found: 3.34019889981e-05\n",
      "56 New best found: 3.33271976851e-05\n",
      "87 New best found: 3.32484261797e-05\n",
      "100 New best found: 3.31062032466e-05\n",
      "102 New best found: 3.30540753771e-05\n",
      "104 New best found: 3.3032842391e-05\n",
      "105 New best found: 3.30304987191e-05\n",
      "113 New best found: 3.29733739781e-05\n",
      "114 New best found: 3.29621473393e-05\n",
      "120 New best found: 3.29577505645e-05\n",
      "123 New best found: 3.29277859633e-05\n",
      "124 New best found: 3.29231263204e-05\n",
      "126 New best found: 3.29214451025e-05\n",
      "174 New best found: 3.28536823708e-05\n",
      "195 New best found: 3.28472204844e-05\n",
      "197 New best found: 3.27907744344e-05\n",
      "207 New best found: 3.27581555348e-05\n",
      "209 New best found: 3.27376751143e-05\n",
      "210 New best found: 3.26509772168e-05\n",
      "211 New best found: 3.26485442132e-05\n",
      "220 New best found: 3.26269940006e-05\n",
      "229 New best found: 3.25864039693e-05\n",
      "231 New best found: 3.25750496804e-05\n",
      "238 New best found: 3.25431140631e-05\n",
      "245 New best found: 3.25373181767e-05\n",
      "506 New best found: 3.25325721414e-05\n"
     ]
    }
   ],
   "source": [
    "results, histories = batchTrainClassifier(trainData, nSplits, getModel, modelParams, trainParams,\n",
    "                                          patience=2, cosAnnealMult=2, trainOnWeights=True,\n",
    "                                          maxEpochs=maxEpochs, verbose=1)"
   ]
  },
  {
   "cell_type": "markdown",
   "metadata": {},
   "source": [
    "## Construct ensemble"
   ]
  },
  {
   "cell_type": "code",
   "execution_count": null,
   "metadata": {},
   "outputs": [],
   "source": [
    "with open('train_weights/resultsFile.pkl', 'r') as fin:   \n",
    "    results = pickle.load(fin)"
   ]
  },
  {
   "cell_type": "code",
   "execution_count": null,
   "metadata": {},
   "outputs": [],
   "source": [
    "ensemble, weights = assembleEnsemble(results, ensembleSize, ensembleMode, compileArgs)"
   ]
  },
  {
   "cell_type": "code",
   "execution_count": null,
   "metadata": {},
   "outputs": [],
   "source": [
    "np.mean([3.110186173813499e-05,\n",
    "3.149156671751852e-05,\n",
    "3.158000014466575e-05,\n",
    "3.163253870031559e-05,\n",
    "3.169450663676961e-05,\n",
    "3.192054898237487e-05,\n",
    "3.203069043982587e-05,\n",
    "3.269235153926564e-05,\n",
    "3.29240844411122e-05,\n",
    "3.2976034126695485e-05])"
   ]
  },
  {
   "cell_type": "markdown",
   "metadata": {},
   "source": [
    "## Response on development data"
   ]
  },
  {
   "cell_type": "code",
   "execution_count": null,
   "metadata": {},
   "outputs": [],
   "source": [
    "def batchEnsemblePredict(ensemble, weights, data, predName='pred', nOut=1, outputPipe=None, ensembleSize=None, nFolds=-1, verbose=False):\n",
    "    if isinstance(ensembleSize, types.NoneType):\n",
    "        ensembleSize = len(ensemble)\n",
    "\n",
    "    if not isinstance(data, BatchYielder):\n",
    "        data = BatchYielder(data)\n",
    "\n",
    "    if nFolds < 0:\n",
    "        nFolds = len(data.source)\n",
    "\n",
    "    for fold in range(nFolds):\n",
    "        if verbose:\n",
    "            print 'Predicting batch {} out of {}'.format(fold+1, nFolds)\n",
    "            start = timeit.default_timer()\n",
    "\n",
    "        if not data.testTimeAug:\n",
    "            batch = data.getBatch(fold)['inputs']\n",
    "            batchPred = ensemblePredict(batch, ensemble, weights, n=ensembleSize, nOut=nOut, outputPipe=outputPipe)\n",
    "\n",
    "        else:\n",
    "            tmpPred = []\n",
    "            for aug in range(data.augMult):\n",
    "                batch = data.getTestBatch(fold, aug)['inputs']\n",
    "                tmpPred.append(ensemblePredict(batch, ensemble, weights, n=ensembleSize, nOut=nOut, outputPipe=outputPipe))\n",
    "            batchPred = np.mean(tmpPred, axis=0)\n",
    "\n",
    "        if verbose: \n",
    "            print \"Prediction took {}s per sample\\n\".format((timeit.default_timer() - start)/len(batch))\n",
    "\n",
    "        if nOut > 1:\n",
    "            saveBatchPred(batchPred, 'fold_' + str(fold), data.source, predName=predName)\n",
    "        else:\n",
    "            saveBatchPred(batchPred[:,0], 'fold_' + str(fold), data.source, predName=predName)"
   ]
  },
  {
   "cell_type": "code",
   "execution_count": null,
   "metadata": {
    "scrolled": false
   },
   "outputs": [],
   "source": [
    "batchEnsemblePredict(ensemble, weights, trainData, ensembleSize=10, verbose=1)"
   ]
  },
  {
   "cell_type": "code",
   "execution_count": null,
   "metadata": {},
   "outputs": [],
   "source": [
    "print 'Training ROC AUC: unweighted {}, weighted {}'.format(roc_auc_score(getFeature('targets', trainData.source), getFeature('pred', trainData.source)),\n",
    "                                                            roc_auc_score(getFeature('targets', trainData.source), getFeature('pred', trainData.source), sample_weight=getFeature('weights', trainData.source)))"
   ]
  },
  {
   "cell_type": "markdown",
   "metadata": {},
   "source": [
    "## Response on val data"
   ]
  },
  {
   "cell_type": "code",
   "execution_count": null,
   "metadata": {},
   "outputs": [],
   "source": [
    "batchEnsemblePredict(ensemble, weights, valData, ensembleSize=10, verbose=1)"
   ]
  },
  {
   "cell_type": "code",
   "execution_count": null,
   "metadata": {},
   "outputs": [],
   "source": [
    "print 'Testing ROC AUC: unweighted {}, weighted {}'.format(roc_auc_score(getFeature('targets', valData.source), getFeature('pred', valData.source)),\n",
    "                                                           roc_auc_score(getFeature('targets', valData.source), getFeature('pred', valData.source), sample_weight=getFeature('weights', valData.source)))"
   ]
  },
  {
   "cell_type": "markdown",
   "metadata": {},
   "source": [
    "## Evaluation"
   ]
  },
  {
   "cell_type": "markdown",
   "metadata": {},
   "source": [
    "### Import in dataframe"
   ]
  },
  {
   "cell_type": "code",
   "execution_count": null,
   "metadata": {},
   "outputs": [],
   "source": [
    "valframe = convertToDF(valData.source)"
   ]
  },
  {
   "cell_type": "code",
   "execution_count": null,
   "metadata": {},
   "outputs": [],
   "source": [
    "sigVal = (valframe.gen_target == 1)\n",
    "bkgVal = (valframe.gen_target == 0)"
   ]
  },
  {
   "cell_type": "markdown",
   "metadata": {},
   "source": [
    "### MVA distributions"
   ]
  },
  {
   "cell_type": "code",
   "execution_count": null,
   "metadata": {
    "scrolled": false
   },
   "outputs": [],
   "source": [
    "getClassPredPlot([valframe[bkgVal], valframe[sigVal]], weightName='gen_weight')"
   ]
  },
  {
   "cell_type": "code",
   "execution_count": null,
   "metadata": {},
   "outputs": [],
   "source": [
    "valframe['ams'] = amsScan(valframe)[0]"
   ]
  },
  {
   "cell_type": "code",
   "execution_count": null,
   "metadata": {
    "scrolled": false
   },
   "outputs": [],
   "source": [
    "bests = foldAMSScan(valframe, 10)"
   ]
  },
  {
   "cell_type": "code",
   "execution_count": null,
   "metadata": {
    "scrolled": false
   },
   "outputs": [],
   "source": [
    "batchEnsemblePredict(ensemble, weights, RotationBatch(classTrainFeatures, h5py.File(dirLoc + 'testing.hdf5', \"r+\")), ensembleSize=10, verbose=1)"
   ]
  },
  {
   "cell_type": "code",
   "execution_count": null,
   "metadata": {},
   "outputs": [],
   "source": [
    "saveTest(0.96, 'Day_9_96')"
   ]
  },
  {
   "cell_type": "code",
   "execution_count": null,
   "metadata": {},
   "outputs": [],
   "source": [
    "!kaggle competitions submit -c higgs-boson -f ../Data/Day_9_96_test.csv -m\"Day_9 1e-3 96\""
   ]
  },
  {
   "cell_type": "code",
   "execution_count": null,
   "metadata": {},
   "outputs": [],
   "source": []
  }
 ],
 "metadata": {
  "kernelspec": {
   "display_name": "Python 2",
   "language": "python",
   "name": "python2"
  },
  "language_info": {
   "codemirror_mode": {
    "name": "ipython",
    "version": 2
   },
   "file_extension": ".py",
   "mimetype": "text/x-python",
   "name": "python",
   "nbconvert_exporter": "python",
   "pygments_lexer": "ipython2",
   "version": "2.7.14"
  }
 },
 "nbformat": 4,
 "nbformat_minor": 1
}
