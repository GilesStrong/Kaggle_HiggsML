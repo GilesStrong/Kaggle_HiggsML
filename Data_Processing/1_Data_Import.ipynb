{
 "cells": [
  {
   "cell_type": "markdown",
   "metadata": {},
   "source": [
    "# Import data, compute features, train-val split, feature selection, pre-process, & save\n",
    "## Import\n",
    "### Modules"
   ]
  },
  {
   "cell_type": "code",
   "execution_count": 1,
   "metadata": {},
   "outputs": [
    {
     "name": "stderr",
     "output_type": "stream",
     "text": [
      "/home/giles/anaconda2/lib/python2.7/site-packages/h5py/__init__.py:36: FutureWarning: Conversion of the second argument of issubdtype from `float` to `np.floating` is deprecated. In future, it will be treated as `np.float64 == np.dtype(float).type`.\n",
      "  from ._conv import register_converters as _register_converters\n",
      "/home/giles/anaconda2/lib/python2.7/site-packages/statsmodels/compat/pandas.py:56: FutureWarning: The pandas.core.datetools module is deprecated and will be removed in a future version. Please use the pandas.tseries module instead.\n",
      "  from pandas.core import datetools\n",
      "Using TensorFlow backend.\n"
     ]
    }
   ],
   "source": [
    "from __future__ import division\n",
    "%matplotlib inline\n",
    "import sys\n",
    "import os\n",
    "os.environ['MKL_THREADING_LAYER']='GNU'\n",
    "sys.path.append('../')\n",
    "from Modules.Basics import *\n",
    "from Modules.Regressor import Regressor\n",
    "from ML_Tools.General.Feature_Selection import *\n",
    "from ML_Tools.Transformations.HEP_Proc import *"
   ]
  },
  {
   "cell_type": "markdown",
   "metadata": {},
   "source": [
    "### Data"
   ]
  },
  {
   "cell_type": "code",
   "execution_count": 2,
   "metadata": {},
   "outputs": [],
   "source": [
    "def importData(name):\n",
    "    data = pandas.read_csv(dirLoc + name + '.csv')\n",
    "    data.rename(index=str, columns={\"Weight\": \"gen_weight\", 'PRI_met':'PRI_met_pt'}, inplace=True)\n",
    "    data['gen_target'] = 0\n",
    "    if name == 'training':\n",
    "        data.loc[data.Label == 's', 'gen_target'] = 1\n",
    "        data.drop(columns=['Label'], inplace=True)        \n",
    "    return data"
   ]
  },
  {
   "cell_type": "code",
   "execution_count": 3,
   "metadata": {},
   "outputs": [],
   "source": [
    "trainingData = importData('training')\n",
    "testingData = importData('test')"
   ]
  },
  {
   "cell_type": "code",
   "execution_count": 4,
   "metadata": {},
   "outputs": [
    {
     "data": {
      "text/html": [
       "<div>\n",
       "<style scoped>\n",
       "    .dataframe tbody tr th:only-of-type {\n",
       "        vertical-align: middle;\n",
       "    }\n",
       "\n",
       "    .dataframe tbody tr th {\n",
       "        vertical-align: top;\n",
       "    }\n",
       "\n",
       "    .dataframe thead th {\n",
       "        text-align: right;\n",
       "    }\n",
       "</style>\n",
       "<table border=\"1\" class=\"dataframe\">\n",
       "  <thead>\n",
       "    <tr style=\"text-align: right;\">\n",
       "      <th></th>\n",
       "      <th>EventId</th>\n",
       "      <th>DER_mass_MMC</th>\n",
       "      <th>DER_mass_transverse_met_lep</th>\n",
       "      <th>DER_mass_vis</th>\n",
       "      <th>DER_pt_h</th>\n",
       "      <th>DER_deltaeta_jet_jet</th>\n",
       "      <th>DER_mass_jet_jet</th>\n",
       "      <th>DER_prodeta_jet_jet</th>\n",
       "      <th>DER_deltar_tau_lep</th>\n",
       "      <th>DER_pt_tot</th>\n",
       "      <th>...</th>\n",
       "      <th>PRI_jet_num</th>\n",
       "      <th>PRI_jet_leading_pt</th>\n",
       "      <th>PRI_jet_leading_eta</th>\n",
       "      <th>PRI_jet_leading_phi</th>\n",
       "      <th>PRI_jet_subleading_pt</th>\n",
       "      <th>PRI_jet_subleading_eta</th>\n",
       "      <th>PRI_jet_subleading_phi</th>\n",
       "      <th>PRI_jet_all_pt</th>\n",
       "      <th>gen_weight</th>\n",
       "      <th>gen_target</th>\n",
       "    </tr>\n",
       "  </thead>\n",
       "  <tbody>\n",
       "    <tr>\n",
       "      <th>0</th>\n",
       "      <td>100000</td>\n",
       "      <td>138.470</td>\n",
       "      <td>51.655</td>\n",
       "      <td>97.827</td>\n",
       "      <td>27.980</td>\n",
       "      <td>0.91</td>\n",
       "      <td>124.711</td>\n",
       "      <td>2.666</td>\n",
       "      <td>3.064</td>\n",
       "      <td>41.928</td>\n",
       "      <td>...</td>\n",
       "      <td>2</td>\n",
       "      <td>67.435</td>\n",
       "      <td>2.150</td>\n",
       "      <td>0.444</td>\n",
       "      <td>46.062</td>\n",
       "      <td>1.24</td>\n",
       "      <td>-2.475</td>\n",
       "      <td>113.497</td>\n",
       "      <td>0.002653</td>\n",
       "      <td>1</td>\n",
       "    </tr>\n",
       "    <tr>\n",
       "      <th>1</th>\n",
       "      <td>100001</td>\n",
       "      <td>160.937</td>\n",
       "      <td>68.768</td>\n",
       "      <td>103.235</td>\n",
       "      <td>48.146</td>\n",
       "      <td>-999.00</td>\n",
       "      <td>-999.000</td>\n",
       "      <td>-999.000</td>\n",
       "      <td>3.473</td>\n",
       "      <td>2.078</td>\n",
       "      <td>...</td>\n",
       "      <td>1</td>\n",
       "      <td>46.226</td>\n",
       "      <td>0.725</td>\n",
       "      <td>1.158</td>\n",
       "      <td>-999.000</td>\n",
       "      <td>-999.00</td>\n",
       "      <td>-999.000</td>\n",
       "      <td>46.226</td>\n",
       "      <td>2.233584</td>\n",
       "      <td>0</td>\n",
       "    </tr>\n",
       "    <tr>\n",
       "      <th>2</th>\n",
       "      <td>100002</td>\n",
       "      <td>-999.000</td>\n",
       "      <td>162.172</td>\n",
       "      <td>125.953</td>\n",
       "      <td>35.635</td>\n",
       "      <td>-999.00</td>\n",
       "      <td>-999.000</td>\n",
       "      <td>-999.000</td>\n",
       "      <td>3.148</td>\n",
       "      <td>9.336</td>\n",
       "      <td>...</td>\n",
       "      <td>1</td>\n",
       "      <td>44.251</td>\n",
       "      <td>2.053</td>\n",
       "      <td>-2.028</td>\n",
       "      <td>-999.000</td>\n",
       "      <td>-999.00</td>\n",
       "      <td>-999.000</td>\n",
       "      <td>44.251</td>\n",
       "      <td>2.347389</td>\n",
       "      <td>0</td>\n",
       "    </tr>\n",
       "    <tr>\n",
       "      <th>3</th>\n",
       "      <td>100003</td>\n",
       "      <td>143.905</td>\n",
       "      <td>81.417</td>\n",
       "      <td>80.943</td>\n",
       "      <td>0.414</td>\n",
       "      <td>-999.00</td>\n",
       "      <td>-999.000</td>\n",
       "      <td>-999.000</td>\n",
       "      <td>3.310</td>\n",
       "      <td>0.414</td>\n",
       "      <td>...</td>\n",
       "      <td>0</td>\n",
       "      <td>-999.000</td>\n",
       "      <td>-999.000</td>\n",
       "      <td>-999.000</td>\n",
       "      <td>-999.000</td>\n",
       "      <td>-999.00</td>\n",
       "      <td>-999.000</td>\n",
       "      <td>-0.000</td>\n",
       "      <td>5.446378</td>\n",
       "      <td>0</td>\n",
       "    </tr>\n",
       "    <tr>\n",
       "      <th>4</th>\n",
       "      <td>100004</td>\n",
       "      <td>175.864</td>\n",
       "      <td>16.915</td>\n",
       "      <td>134.805</td>\n",
       "      <td>16.405</td>\n",
       "      <td>-999.00</td>\n",
       "      <td>-999.000</td>\n",
       "      <td>-999.000</td>\n",
       "      <td>3.891</td>\n",
       "      <td>16.405</td>\n",
       "      <td>...</td>\n",
       "      <td>0</td>\n",
       "      <td>-999.000</td>\n",
       "      <td>-999.000</td>\n",
       "      <td>-999.000</td>\n",
       "      <td>-999.000</td>\n",
       "      <td>-999.00</td>\n",
       "      <td>-999.000</td>\n",
       "      <td>0.000</td>\n",
       "      <td>6.245333</td>\n",
       "      <td>0</td>\n",
       "    </tr>\n",
       "  </tbody>\n",
       "</table>\n",
       "<p>5 rows × 33 columns</p>\n",
       "</div>"
      ],
      "text/plain": [
       "   EventId  DER_mass_MMC  DER_mass_transverse_met_lep  DER_mass_vis  DER_pt_h  \\\n",
       "0   100000       138.470                       51.655        97.827    27.980   \n",
       "1   100001       160.937                       68.768       103.235    48.146   \n",
       "2   100002      -999.000                      162.172       125.953    35.635   \n",
       "3   100003       143.905                       81.417        80.943     0.414   \n",
       "4   100004       175.864                       16.915       134.805    16.405   \n",
       "\n",
       "   DER_deltaeta_jet_jet  DER_mass_jet_jet  DER_prodeta_jet_jet  \\\n",
       "0                  0.91           124.711                2.666   \n",
       "1               -999.00          -999.000             -999.000   \n",
       "2               -999.00          -999.000             -999.000   \n",
       "3               -999.00          -999.000             -999.000   \n",
       "4               -999.00          -999.000             -999.000   \n",
       "\n",
       "   DER_deltar_tau_lep  DER_pt_tot     ...      PRI_jet_num  \\\n",
       "0               3.064      41.928     ...                2   \n",
       "1               3.473       2.078     ...                1   \n",
       "2               3.148       9.336     ...                1   \n",
       "3               3.310       0.414     ...                0   \n",
       "4               3.891      16.405     ...                0   \n",
       "\n",
       "   PRI_jet_leading_pt  PRI_jet_leading_eta  PRI_jet_leading_phi  \\\n",
       "0              67.435                2.150                0.444   \n",
       "1              46.226                0.725                1.158   \n",
       "2              44.251                2.053               -2.028   \n",
       "3            -999.000             -999.000             -999.000   \n",
       "4            -999.000             -999.000             -999.000   \n",
       "\n",
       "   PRI_jet_subleading_pt  PRI_jet_subleading_eta  PRI_jet_subleading_phi  \\\n",
       "0                 46.062                    1.24                  -2.475   \n",
       "1               -999.000                 -999.00                -999.000   \n",
       "2               -999.000                 -999.00                -999.000   \n",
       "3               -999.000                 -999.00                -999.000   \n",
       "4               -999.000                 -999.00                -999.000   \n",
       "\n",
       "   PRI_jet_all_pt  gen_weight  gen_target  \n",
       "0         113.497    0.002653           1  \n",
       "1          46.226    2.233584           0  \n",
       "2          44.251    2.347389           0  \n",
       "3          -0.000    5.446378           0  \n",
       "4           0.000    6.245333           0  \n",
       "\n",
       "[5 rows x 33 columns]"
      ]
     },
     "execution_count": 4,
     "metadata": {},
     "output_type": "execute_result"
    }
   ],
   "source": [
    "trainingData.head()"
   ]
  },
  {
   "cell_type": "code",
   "execution_count": 5,
   "metadata": {},
   "outputs": [
    {
     "name": "stdout",
     "output_type": "stream",
     "text": [
      "['EventId', 'DER_mass_MMC', 'DER_mass_transverse_met_lep', 'DER_mass_vis', 'DER_pt_h', 'DER_deltaeta_jet_jet', 'DER_mass_jet_jet', 'DER_prodeta_jet_jet', 'DER_deltar_tau_lep', 'DER_pt_tot', 'DER_sum_pt', 'DER_pt_ratio_lep_tau', 'DER_met_phi_centrality', 'DER_lep_eta_centrality', 'PRI_tau_pt', 'PRI_tau_eta', 'PRI_tau_phi', 'PRI_lep_pt', 'PRI_lep_eta', 'PRI_lep_phi', 'PRI_met_pt', 'PRI_met_phi', 'PRI_met_sumet', 'PRI_jet_num', 'PRI_jet_leading_pt', 'PRI_jet_leading_eta', 'PRI_jet_leading_phi', 'PRI_jet_subleading_pt', 'PRI_jet_subleading_eta', 'PRI_jet_subleading_phi', 'PRI_jet_all_pt', 'gen_weight', 'gen_target'] 33\n"
     ]
    }
   ],
   "source": [
    "print [x for x in trainingData.columns], len(trainingData.columns)"
   ]
  },
  {
   "cell_type": "markdown",
   "metadata": {},
   "source": [
    "## Feature processing"
   ]
  },
  {
   "cell_type": "code",
   "execution_count": 6,
   "metadata": {},
   "outputs": [],
   "source": [
    "rotate = True\n",
    "cartesian = True\n",
    "regress = False"
   ]
  },
  {
   "cell_type": "code",
   "execution_count": 7,
   "metadata": {},
   "outputs": [],
   "source": [
    "def regressData(inData, regressor):\n",
    "    inData['ll'] = 0\n",
    "    inData['lh'] = 1\n",
    "    inData['hh'] = 0\n",
    "    inData['REG_mass'] = regressor.predict(inData[['ll', 'lh', 'hh']].values.astype('float32'),\n",
    "                                           inData[['PRI_lep_pt', 'PRI_lep_eta',\n",
    "                                                   'PRI_tau_pt', 'PRI_tau_phi', 'PRI_tau_eta',\n",
    "                                                   'PRI_met_pt', 'PRI_met_phi']].values.astype('float32'))\n",
    "    inData.drop(columns=['ll', 'lh', 'hh'], inplace=True)"
   ]
  },
  {
   "cell_type": "code",
   "execution_count": 8,
   "metadata": {},
   "outputs": [],
   "source": [
    "def rotateEvent(inData):\n",
    "    '''Rotate event in phi such that lepton is at phi == 0'''\n",
    "    inData['PRI_tau_phi'] = deltaphi(inData['PRI_lep_phi'], inData['PRI_tau_phi'])\n",
    "    inData['PRI_jet_leading_phi'] = deltaphi(inData['PRI_lep_phi'], inData['PRI_jet_leading_phi'])\n",
    "    inData['PRI_jet_subleading_phi'] = deltaphi(inData['PRI_lep_phi'], inData['PRI_jet_subleading_phi'])\n",
    "    inData['PRI_met_phi'] = deltaphi(inData['PRI_lep_phi'], inData['PRI_met_phi'])\n",
    "    inData['PRI_lep_phi'] = 0\n",
    "    \n",
    "def convertData(inData, regressor=None):\n",
    "    '''Pass data through conversions and drop uneeded columns'''\n",
    "    \n",
    "    if rotate:\n",
    "        rotateEvent(inData)\n",
    "        \n",
    "    if regress:\n",
    "        regressData(inData, regressor)\n",
    "    \n",
    "    if cartesian:\n",
    "        moveToCartesian(inData, 'PRI_tau', drop=True)\n",
    "        moveToCartesian(inData, 'PRI_lep', drop=True)\n",
    "        moveToCartesian(inData, 'PRI_jet_leading', drop=True)\n",
    "        moveToCartesian(inData, 'PRI_jet_subleading', drop=True)\n",
    "        moveToCartesian(inData, 'PRI_met', z=False)\n",
    "        \n",
    "        inData.drop(columns=[\"PRI_met_phi\"], inplace=True)\n",
    "        \n",
    "    if rotate and not cartesian:\n",
    "        inData.drop(columns=[\"PRI_lep_phi\"], inplace=True)\n",
    "    elif rotate and cartesian:\n",
    "        inData.drop(columns=[\"PRI_lep_py\"], inplace=True)\n",
    "        \n",
    "    inData.replace([np.inf, -np.inf], np.nan, inplace=True)\n",
    "    inData.fillna(-999.0, inplace=True)\n",
    "    \n",
    "    for x in ['DER_mass_MMC', 'DER_deltaeta_jet_jet', 'DER_mass_jet_jet', 'DER_prodeta_jet_jet', 'DER_lep_eta_centrality', 'PRI_jet_all_pt']:\n",
    "        inData.loc[inData[x] < 0, x] = -1"
   ]
  },
  {
   "cell_type": "code",
   "execution_count": 9,
   "metadata": {},
   "outputs": [],
   "source": [
    "if regress:\n",
    "    regressor = Regressor()\n",
    "    regressor.load(\"/home/giles/cernbox/DiTau_MassRegression/Regressors/weights/HiggsMLRegressor_Direct_modelSwish\")\n",
    "else:\n",
    "    regressor = None"
   ]
  },
  {
   "cell_type": "code",
   "execution_count": 10,
   "metadata": {},
   "outputs": [
    {
     "name": "stderr",
     "output_type": "stream",
     "text": [
      "/home/giles/cernbox/ML_Tools/Transformations/HEP_Proc.py:20: RuntimeWarning: overflow encountered in sinh\n",
      "  inData[particle + '_pz'] = pt*np.sinh(eta)\n"
     ]
    }
   ],
   "source": [
    "convertData(trainingData, regressor)\n",
    "convertData(testingData, regressor)"
   ]
  },
  {
   "cell_type": "code",
   "execution_count": 11,
   "metadata": {},
   "outputs": [
    {
     "data": {
      "text/plain": [
       "Index([u'EventId', u'DER_mass_MMC', u'DER_mass_transverse_met_lep',\n",
       "       u'DER_mass_vis', u'DER_pt_h', u'DER_deltaeta_jet_jet',\n",
       "       u'DER_mass_jet_jet', u'DER_prodeta_jet_jet', u'DER_deltar_tau_lep',\n",
       "       u'DER_pt_tot', u'DER_sum_pt', u'DER_pt_ratio_lep_tau',\n",
       "       u'DER_met_phi_centrality', u'DER_lep_eta_centrality', u'PRI_met_pt',\n",
       "       u'PRI_met_sumet', u'PRI_jet_num', u'PRI_jet_all_pt', u'gen_weight',\n",
       "       u'gen_target', u'PRI_tau_px', u'PRI_tau_py', u'PRI_tau_pz',\n",
       "       u'PRI_lep_px', u'PRI_lep_pz', u'PRI_jet_leading_px',\n",
       "       u'PRI_jet_leading_py', u'PRI_jet_leading_pz', u'PRI_jet_subleading_px',\n",
       "       u'PRI_jet_subleading_py', u'PRI_jet_subleading_pz', u'PRI_met_px',\n",
       "       u'PRI_met_py'],\n",
       "      dtype='object')"
      ]
     },
     "execution_count": 11,
     "metadata": {},
     "output_type": "execute_result"
    }
   ],
   "source": [
    "trainingData.columns"
   ]
  },
  {
   "cell_type": "markdown",
   "metadata": {},
   "source": [
    "## Regression test"
   ]
  },
  {
   "cell_type": "code",
   "execution_count": 30,
   "metadata": {},
   "outputs": [
    {
     "data": {
      "image/png": "[encoded data removed]",
      "text/plain": [
       "<matplotlib.figure.Figure at 0x7fbbd1ba9a50>"
      ]
     },
     "metadata": {},
     "output_type": "display_data"
    }
   ],
   "source": [
    "plotFeat(trainingData, 'REG_mass', cuts=[(trainingData.gen_target == 0), (trainingData.gen_target == 1)], labels=['Background', 'Signal'], plotBulk=0, weightName='gen_weight')"
   ]
  },
  {
   "cell_type": "code",
   "execution_count": 31,
   "metadata": {},
   "outputs": [
    {
     "data": {
      "image/png": "[encoded data removed]",
      "text/plain": [
       "<matplotlib.figure.Figure at 0x7fbbdbd2fa10>"
      ]
     },
     "metadata": {},
     "output_type": "display_data"
    }
   ],
   "source": [
    "plotFeat(trainingData, 'DER_mass_MMC', cuts=[(trainingData.gen_target == 0), (trainingData.gen_target == 1)], labels=['Background', 'Signal'], plotBulk=0, weightName='gen_weight')"
   ]
  },
  {
   "cell_type": "code",
   "execution_count": 13,
   "metadata": {},
   "outputs": [
    {
     "name": "stderr",
     "output_type": "stream",
     "text": [
      "/home/giles/anaconda2/lib/python2.7/site-packages/sklearn/preprocessing/label.py:95: DataConversionWarning: A column-vector y was passed when a 1d array was expected. Please change the shape of y to (n_samples, ), for example using ravel().\n",
      "  y = column_or_1d(y, warn=True)\n",
      "/home/giles/anaconda2/lib/python2.7/site-packages/sklearn/preprocessing/label.py:128: DataConversionWarning: A column-vector y was passed when a 1d array was expected. Please change the shape of y to (n_samples, ), for example using ravel().\n",
      "  y = column_or_1d(y, warn=True)\n"
     ]
    },
    {
     "name": "stdout",
     "output_type": "stream",
     "text": [
      "Dataset 0, train:test ROC AUC 0.81036:0.80737\n",
      "Dataset 1, train:test ROC AUC 0.74638:0.74419\n"
     ]
    }
   ],
   "source": [
    "xgCompare([trainingData[['DER_mass_MMC']], trainingData[['REG_mass']]],\n",
    "          [trainingData[['gen_target']], trainingData[['gen_target']]])"
   ]
  },
  {
   "cell_type": "code",
   "execution_count": 14,
   "metadata": {},
   "outputs": [
    {
     "data": {
      "text/plain": [
       "0.6310149291956695"
      ]
     },
     "execution_count": 14,
     "metadata": {},
     "output_type": "execute_result"
    }
   ],
   "source": [
    "trainingData[trainingData.DER_mass_MMC > 0]['DER_mass_MMC'].corr(trainingData[trainingData.DER_mass_MMC > 0]['REG_mass'])"
   ]
  },
  {
   "cell_type": "markdown",
   "metadata": {},
   "source": [
    "## Train-Validation Split"
   ]
  },
  {
   "cell_type": "code",
   "execution_count": 12,
   "metadata": {},
   "outputs": [
    {
     "name": "stdout",
     "output_type": "stream",
     "text": [
      "200000 50000\n"
     ]
    }
   ],
   "source": [
    "trainIndeces, valIndeces = splitDevVal(trainingData)\n",
    "train = trainingData.loc[trainIndeces]\n",
    "val = trainingData.loc[valIndeces]\n",
    "print len(train), len(val)"
   ]
  },
  {
   "cell_type": "markdown",
   "metadata": {},
   "source": [
    "## Feature Selection\n",
    "### Get important features"
   ]
  },
  {
   "cell_type": "code",
   "execution_count": 14,
   "metadata": {},
   "outputs": [
    {
     "name": "stdout",
     "output_type": "stream",
     "text": [
      "30\n"
     ]
    }
   ],
   "source": [
    "trainFeatures = [x for x in train.columns if 'gen' not in x and x != 'EventId']\n",
    "print len(trainFeatures)"
   ]
  },
  {
   "cell_type": "markdown",
   "metadata": {
    "scrolled": true
   },
   "source": [
    "%%time\n",
    "importantFeatures = rankClassifierFeatures(train, trainFeatures)"
   ]
  },
  {
   "cell_type": "markdown",
   "metadata": {},
   "source": [
    "print importantFeatures[0]"
   ]
  },
  {
   "cell_type": "markdown",
   "metadata": {},
   "source": [
    "print importantFeatures[0]"
   ]
  },
  {
   "cell_type": "code",
   "execution_count": 15,
   "metadata": {},
   "outputs": [],
   "source": [
    "importantFeatures = trainFeatures"
   ]
  },
  {
   "cell_type": "markdown",
   "metadata": {},
   "source": [
    "## Pre-process data"
   ]
  },
  {
   "cell_type": "markdown",
   "metadata": {},
   "source": [
    "### PCA test"
   ]
  },
  {
   "cell_type": "markdown",
   "metadata": {},
   "source": [
    "pcaPipe, outputPipe = getPreProcPipes(normIn=True, pca=True, normPCA=True)\n",
    "pcaFeatures = [x for x in importantFeatures if 'DER' in x]\n",
    "pcaPipe.fit(train[pcaFeatures].values.astype('float32'))"
   ]
  },
  {
   "cell_type": "markdown",
   "metadata": {},
   "source": [
    "xgCompare([train[pcaFeatures],\n",
    "           pcaPipe.transform(train[pcaFeatures].values.astype('float32'))],\n",
    "          [train['gen_target'],\n",
    "           train['gen_target']])"
   ]
  },
  {
   "cell_type": "code",
   "execution_count": 17,
   "metadata": {},
   "outputs": [],
   "source": [
    "classTrainFeatures = importantFeatures"
   ]
  },
  {
   "cell_type": "code",
   "execution_count": 18,
   "metadata": {},
   "outputs": [
    {
     "name": "stdout",
     "output_type": "stream",
     "text": [
      "['DER_mass_MMC', 'DER_mass_transverse_met_lep', 'DER_mass_vis', 'DER_pt_h', 'DER_deltaeta_jet_jet', 'DER_mass_jet_jet', 'DER_prodeta_jet_jet', 'DER_deltar_tau_lep', 'DER_pt_tot', 'DER_sum_pt', 'DER_pt_ratio_lep_tau', 'DER_met_phi_centrality', 'DER_lep_eta_centrality', 'PRI_met_pt', 'PRI_met_sumet', 'PRI_jet_num', 'PRI_jet_all_pt', 'PRI_tau_px', 'PRI_tau_py', 'PRI_tau_pz', 'PRI_lep_px', 'PRI_lep_pz', 'PRI_jet_leading_px', 'PRI_jet_leading_py', 'PRI_jet_leading_pz', 'PRI_jet_subleading_px', 'PRI_jet_subleading_py', 'PRI_jet_subleading_pz', 'PRI_met_px', 'PRI_met_py']\n"
     ]
    }
   ],
   "source": [
    "print classTrainFeatures"
   ]
  },
  {
   "cell_type": "code",
   "execution_count": 19,
   "metadata": {},
   "outputs": [
    {
     "data": {
      "text/plain": [
       "Pipeline(memory=None,\n",
       "     steps=[('normIn', StandardScaler(copy=True, with_mean=True, with_std=True))])"
      ]
     },
     "execution_count": 19,
     "metadata": {},
     "output_type": "execute_result"
    }
   ],
   "source": [
    "inputPipe, outputPipe = getPreProcPipes(normIn=True)\n",
    "inputPipe.fit(train[classTrainFeatures].values.astype('float32'))"
   ]
  },
  {
   "cell_type": "code",
   "execution_count": 20,
   "metadata": {},
   "outputs": [],
   "source": [
    "with open(dirLoc + 'inputPipe.pkl', 'w') as fout:\n",
    "    pickle.dump(inputPipe, fout)"
   ]
  },
  {
   "cell_type": "code",
   "execution_count": 21,
   "metadata": {},
   "outputs": [],
   "source": [
    "with open(dirLoc + 'inputPipe.pkl', 'r') as fin:\n",
    "        inputPipe = pickle.load(fin)"
   ]
  },
  {
   "cell_type": "code",
   "execution_count": 22,
   "metadata": {},
   "outputs": [],
   "source": [
    "def saveBatch(inData, n, inputPipe, outFile, normWeights, mode):\n",
    "    grp = outFile.create_group('fold_' + str(n))\n",
    "    \n",
    "    X = inputPipe.transform(inData[classTrainFeatures].values.astype('float32'))\n",
    "    \n",
    "    inputs = grp.create_dataset(\"inputs\", shape=X.shape, dtype='float32')\n",
    "    inputs[...] = X\n",
    "    \n",
    "    if mode != 'testing':\n",
    "        if normWeights:\n",
    "            inData.loc[inData.gen_target == 0, 'gen_weight'] = inData.loc[inData.gen_target == 0, 'gen_weight']/np.sum(inData.loc[inData.gen_target == 0, 'gen_weight'])\n",
    "            inData.loc[inData.gen_target == 1, 'gen_weight'] = inData.loc[inData.gen_target == 1, 'gen_weight']/np.sum(inData.loc[inData.gen_target == 1, 'gen_weight'])\n",
    "\n",
    "        X_weights = inData['gen_weight'].values.astype('float32')\n",
    "        y = inData['gen_target'].values.astype('int')\n",
    "\n",
    "        targets = grp.create_dataset(\"targets\", shape=y.shape, dtype='int')\n",
    "        targets[...] = y\n",
    "\n",
    "        weights = grp.create_dataset(\"weights\", shape=X_weights.shape, dtype='float32')\n",
    "        weights[...] = X_weights\n",
    "    \n",
    "    else:\n",
    "        X_EventId = inData['EventId'].values.astype('int')\n",
    "        \n",
    "        EventId = grp.create_dataset(\"EventId\", shape=X_EventId.shape, dtype='int')\n",
    "        EventId[...] = X_EventId"
   ]
  },
  {
   "cell_type": "code",
   "execution_count": 23,
   "metadata": {},
   "outputs": [],
   "source": [
    "def prepareSample(inData, mode, inputPipe, normWeights, N=10):\n",
    "    print \"Running\", mode\n",
    "    os.system('rm ' + dirLoc + mode + '.hdf5')\n",
    "    outFile = h5py.File(dirLoc + mode + '.hdf5', \"w\")\n",
    "            \n",
    "    kf = StratifiedKFold(n_splits=N, shuffle=True)\n",
    "    folds = kf.split(inData, inData['gen_target'])\n",
    "\n",
    "    for i, (train, test) in enumerate(folds):\n",
    "        print \"Saving fold:\", i, \"of\", len(test), \"events\"\n",
    "        saveBatch(inData.iloc[test], i, inputPipe, outFile, normWeights, mode)"
   ]
  },
  {
   "cell_type": "code",
   "execution_count": 24,
   "metadata": {
    "scrolled": false
   },
   "outputs": [
    {
     "name": "stdout",
     "output_type": "stream",
     "text": [
      "Running train\n",
      "Saving fold: 0 of 20001 events\n"
     ]
    },
    {
     "name": "stderr",
     "output_type": "stream",
     "text": [
      "/home/giles/anaconda2/lib/python2.7/site-packages/pandas/core/indexing.py:537: SettingWithCopyWarning: \n",
      "A value is trying to be set on a copy of a slice from a DataFrame.\n",
      "Try using .loc[row_indexer,col_indexer] = value instead\n",
      "\n",
      "See the caveats in the documentation: http://pandas.pydata.org/pandas-docs/stable/indexing.html#indexing-view-versus-copy\n",
      "  self.obj[item] = s\n"
     ]
    },
    {
     "name": "stdout",
     "output_type": "stream",
     "text": [
      "Saving fold: 1 of 20001 events\n",
      "Saving fold: 2 of 20001 events\n",
      "Saving fold: 3 of 20000 events\n",
      "Saving fold: 4 of 20000 events\n",
      "Saving fold: 5 of 20000 events\n",
      "Saving fold: 6 of 20000 events\n",
      "Saving fold: 7 of 19999 events\n",
      "Saving fold: 8 of 19999 events\n",
      "Saving fold: 9 of 19999 events\n",
      "Running val\n",
      "Saving fold: 0 of 5000 events\n",
      "Saving fold: 1 of 5000 events\n",
      "Saving fold: 2 of 5000 events\n",
      "Saving fold: 3 of 5000 events\n",
      "Saving fold: 4 of 5000 events\n",
      "Saving fold: 5 of 5000 events\n",
      "Saving fold: 6 of 5000 events\n",
      "Saving fold: 7 of 5000 events\n",
      "Saving fold: 8 of 5000 events\n",
      "Saving fold: 9 of 5000 events\n",
      "Running testing\n",
      "Saving fold: 0 of 55000 events\n",
      "Saving fold: 1 of 55000 events\n",
      "Saving fold: 2 of 55000 events\n",
      "Saving fold: 3 of 55000 events\n",
      "Saving fold: 4 of 55000 events\n",
      "Saving fold: 5 of 55000 events\n",
      "Saving fold: 6 of 55000 events\n",
      "Saving fold: 7 of 55000 events\n",
      "Saving fold: 8 of 55000 events\n",
      "Saving fold: 9 of 55000 events\n"
     ]
    }
   ],
   "source": [
    "prepareSample(train, 'train', inputPipe, True)\n",
    "prepareSample(val, 'val', inputPipe, False)\n",
    "prepareSample(testingData, 'testing', inputPipe, False)"
   ]
  },
  {
   "cell_type": "code",
   "execution_count": null,
   "metadata": {},
   "outputs": [],
   "source": []
  }
 ],
 "metadata": {
  "kernelspec": {
   "display_name": "Python 2",
   "language": "python",
   "name": "python2"
  },
  "language_info": {
   "codemirror_mode": {
    "name": "ipython",
    "version": 2
   },
   "file_extension": ".py",
   "mimetype": "text/x-python",
   "name": "python",
   "nbconvert_exporter": "python",
   "pygments_lexer": "ipython2",
   "version": "2.7.14"
  }
 },
 "nbformat": 4,
 "nbformat_minor": 2
}
